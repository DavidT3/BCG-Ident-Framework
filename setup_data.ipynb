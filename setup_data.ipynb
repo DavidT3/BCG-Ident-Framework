{
 "cells": [
  {
   "cell_type": "markdown",
   "id": "6ffef524-0c52-4f0e-bbb9-e8fe28efef7a",
   "metadata": {},
   "source": [
    "# Setting up for BCG identification"
   ]
  },
  {
   "cell_type": "markdown",
   "id": "a3f6f7e9-0765-4fb4-bd07-c5a534aec00e",
   "metadata": {},
   "source": [
    "If you're a student working on a BCG identification project, there is no need for you to run this notebook!\n",
    "\n",
    "You're welcome to read through and get a handle on what the setup processes are doing though - the point of this notebook is essentially to make sure that all optical, infrared, and X-ray images are generated/downloaded ready for you to look at. The 'spot the BCG' notebook (the first of the set) will explain everything you need to know about those different wavelengths, and what we use them for.\n",
    "\n",
    "**If you're running this to setup a BCG identification run, make sure to go and configure everything in 'ident_run_setup.py' before running!**"
   ]
  },
  {
   "cell_type": "markdown",
   "id": "4d930d1d-c71f-4681-b6c3-10be0b8695de",
   "metadata": {},
   "source": [
    "## Import Statements"
   ]
  },
  {
   "cell_type": "code",
   "execution_count": 1,
   "id": "0bddffd0-5ada-4ad5-854b-068066985ac3",
   "metadata": {},
   "outputs": [],
   "source": [
    "from ident_run_setup import cosmo, rel_miss, rel_downloaders, side_length, init_samp_file, HISTORY_FILE_PATH, \\\n",
    "    HISTORY_ROOT, load_history, proj_name, update_history, OUTPUT_ROOT, OUTPUT_CLUSTER_PATH\n",
    "\n",
    "import pandas as pd\n",
    "pd.set_option('display.max_columns', 500)\n",
    "import numpy as np\n",
    "from tqdm import tqdm\n",
    "from astropy.units import Quantity\n",
    "import os\n",
    "from warnings import warn\n",
    "import json\n",
    "from copy import deepcopy\n",
    "from shutil import copyfile\n",
    "from urllib.error import HTTPError\n",
    "\n",
    "try:\n",
    "    from xga.sourcetools import ang_to_rad\n",
    "    from xga.imagetools.misc import pix_deg_scale\n",
    "except:\n",
    "    # Using a general 'except' clause is not usually recommended - you ideally want to be catching\n",
    "    #  specific TYPES of error, so would specify them after the 'except' clause\n",
    "    raise ValueError(\"There was a problem importing XGA - likely running with a pre-multi-mission version.\")\n",
    "\n",
    "# Store the current directory\n",
    "TOP_WD = os.getcwd()"
   ]
  },
  {
   "cell_type": "markdown",
   "id": "0e94001d-0408-4aef-a5c2-58a1928c40c7",
   "metadata": {},
   "source": [
    "## What cosmology is set?"
   ]
  },
  {
   "cell_type": "markdown",
   "id": "ebc2efd8-3a6c-41ab-a962-4ea8b36f0227",
   "metadata": {},
   "source": []
  },
  {
   "cell_type": "code",
   "execution_count": 2,
   "id": "b55784a3-ea71-4dbb-ab96-0b81d7565062",
   "metadata": {},
   "outputs": [
    {
     "data": {
      "text/plain": [
       "LambdaCDM(name=None, H0=<Quantity 70. km / (Mpc s)>, Om0=0.3, Ode0=0.7, Tcmb0=<Quantity 0. K>, Neff=3.04, m_nu=None, Ob0=None)"
      ]
     },
     "execution_count": 2,
     "metadata": {},
     "output_type": "execute_result"
    }
   ],
   "source": [
    "cosmo"
   ]
  },
  {
   "cell_type": "markdown",
   "id": "d736c93c-9bd7-402b-a31f-3e5ac7a5ed61",
   "metadata": {},
   "source": [
    "## Loading and setting up the sample of clusters"
   ]
  },
  {
   "cell_type": "markdown",
   "id": "195c4d5a-bb7d-4c3d-802b-a9b904a03b02",
   "metadata": {},
   "source": []
  },
  {
   "cell_type": "markdown",
   "id": "aef468c9-a5e5-45a5-a42f-c3b11e3209f3",
   "metadata": {},
   "source": [
    "### Reading in the sample file and checking for required information"
   ]
  },
  {
   "cell_type": "markdown",
   "id": "d21154f3-6915-4576-9bec-cd700cd77300",
   "metadata": {},
   "source": []
  },
  {
   "cell_type": "code",
   "execution_count": 3,
   "id": "cf638c56-5dbe-4686-a076-ddda7ad88137",
   "metadata": {},
   "outputs": [
    {
     "data": {
      "text/html": [
       "<div>\n",
       "<style scoped>\n",
       "    .dataframe tbody tr th:only-of-type {\n",
       "        vertical-align: middle;\n",
       "    }\n",
       "\n",
       "    .dataframe tbody tr th {\n",
       "        vertical-align: top;\n",
       "    }\n",
       "\n",
       "    .dataframe thead th {\n",
       "        text-align: right;\n",
       "    }\n",
       "</style>\n",
       "<table border=\"1\" class=\"dataframe\">\n",
       "  <thead>\n",
       "    <tr style=\"text-align: right;\">\n",
       "      <th></th>\n",
       "      <th>name</th>\n",
       "      <th>cent_im_ra</th>\n",
       "      <th>cent_im_dec</th>\n",
       "      <th>redshift</th>\n",
       "      <th>r500</th>\n",
       "      <th>r500-</th>\n",
       "      <th>r500+</th>\n",
       "      <th>r2500</th>\n",
       "      <th>r2500-</th>\n",
       "      <th>r2500+</th>\n",
       "      <th>XCS_NAME</th>\n",
       "    </tr>\n",
       "  </thead>\n",
       "  <tbody>\n",
       "    <tr>\n",
       "      <th>0</th>\n",
       "      <td>SDSSXCS-124</td>\n",
       "      <td>0.800578</td>\n",
       "      <td>-6.091818</td>\n",
       "      <td>0.247483</td>\n",
       "      <td>1181.028159</td>\n",
       "      <td>21.202221</td>\n",
       "      <td>23.202641</td>\n",
       "      <td>534.834740</td>\n",
       "      <td>7.579124</td>\n",
       "      <td>7.591855</td>\n",
       "      <td>XMMXCS J000312.1-060530.5</td>\n",
       "    </tr>\n",
       "    <tr>\n",
       "      <th>1</th>\n",
       "      <td>SDSSXCS-2789</td>\n",
       "      <td>0.955540</td>\n",
       "      <td>2.068019</td>\n",
       "      <td>0.105285</td>\n",
       "      <td>1007.860978</td>\n",
       "      <td>17.194150</td>\n",
       "      <td>17.201505</td>\n",
       "      <td>438.706515</td>\n",
       "      <td>5.198301</td>\n",
       "      <td>5.213676</td>\n",
       "      <td>XMMXCS J000349.3+020404.8</td>\n",
       "    </tr>\n",
       "    <tr>\n",
       "      <th>2</th>\n",
       "      <td>SDSSXCS-290</td>\n",
       "      <td>2.722639</td>\n",
       "      <td>29.161021</td>\n",
       "      <td>0.348495</td>\n",
       "      <td>913.052256</td>\n",
       "      <td>30.878754</td>\n",
       "      <td>31.209675</td>\n",
       "      <td>412.606577</td>\n",
       "      <td>11.014644</td>\n",
       "      <td>11.199164</td>\n",
       "      <td>XMMXCS J001053.4+290939.6</td>\n",
       "    </tr>\n",
       "    <tr>\n",
       "      <th>3</th>\n",
       "      <td>SDSSXCS-1018</td>\n",
       "      <td>4.406325</td>\n",
       "      <td>-0.876192</td>\n",
       "      <td>0.214403</td>\n",
       "      <td>902.259231</td>\n",
       "      <td>22.444665</td>\n",
       "      <td>23.366414</td>\n",
       "      <td>399.213342</td>\n",
       "      <td>6.774208</td>\n",
       "      <td>6.817562</td>\n",
       "      <td>XMMXCS J001737.5-005234.2</td>\n",
       "    </tr>\n",
       "    <tr>\n",
       "      <th>4</th>\n",
       "      <td>SDSSXCS-134</td>\n",
       "      <td>4.908390</td>\n",
       "      <td>3.609818</td>\n",
       "      <td>0.277304</td>\n",
       "      <td>1123.320736</td>\n",
       "      <td>19.219312</td>\n",
       "      <td>19.225964</td>\n",
       "      <td>510.738163</td>\n",
       "      <td>8.475349</td>\n",
       "      <td>7.419581</td>\n",
       "      <td>XMMXCS J001938.0+033635.3</td>\n",
       "    </tr>\n",
       "  </tbody>\n",
       "</table>\n",
       "</div>"
      ],
      "text/plain": [
       "           name  cent_im_ra  cent_im_dec  redshift         r500      r500-  \\\n",
       "0   SDSSXCS-124    0.800578    -6.091818  0.247483  1181.028159  21.202221   \n",
       "1  SDSSXCS-2789    0.955540     2.068019  0.105285  1007.860978  17.194150   \n",
       "2   SDSSXCS-290    2.722639    29.161021  0.348495   913.052256  30.878754   \n",
       "3  SDSSXCS-1018    4.406325    -0.876192  0.214403   902.259231  22.444665   \n",
       "4   SDSSXCS-134    4.908390     3.609818  0.277304  1123.320736  19.219312   \n",
       "\n",
       "       r500+       r2500     r2500-     r2500+                   XCS_NAME  \n",
       "0  23.202641  534.834740   7.579124   7.591855  XMMXCS J000312.1-060530.5  \n",
       "1  17.201505  438.706515   5.198301   5.213676  XMMXCS J000349.3+020404.8  \n",
       "2  31.209675  412.606577  11.014644  11.199164  XMMXCS J001053.4+290939.6  \n",
       "3  23.366414  399.213342   6.774208   6.817562  XMMXCS J001737.5-005234.2  \n",
       "4  19.225964  510.738163   8.475349   7.419581  XMMXCS J001938.0+033635.3  "
      ]
     },
     "execution_count": 3,
     "metadata": {},
     "output_type": "execute_result"
    }
   ],
   "source": [
    "# Point the notebook to the CSV containing basic information about the sample of clusters\n",
    "samp = pd.read_csv(init_samp_file)\n",
    "\n",
    "# A notebook isn't really the ideal environment for this, as each individual cell can be re-run, changing what is stored in \n",
    "#  memory (RAM). As such, we'll run the checks for specific column names in the same cell in which we read in the sample file, so \n",
    "#  no other cell has a chance to modify the dataframe\n",
    "if (~np.isin(np.array(['name', 'cent_im_ra', 'cent_im_dec', 'redshift']), samp.columns)).any():\n",
    "    col_names = \", \".join(samp.columns)\n",
    "    raise KeyError(\"Some required sample columns are not present; input file columns are - {}.\".format(col_names))\n",
    "\n",
    "# Show a snippet of the sample as a quick check, though it must have the required columns to have reached this point\n",
    "samp.head(5)"
   ]
  },
  {
   "cell_type": "markdown",
   "id": "3d884781-b361-413a-a1ea-554a8634683e",
   "metadata": {},
   "source": [
    "### Adding angular-to-proper distance ratios to sample"
   ]
  },
  {
   "cell_type": "markdown",
   "id": "e79d8d28-fad0-444a-955a-d2429443557b",
   "metadata": {},
   "source": []
  },
  {
   "cell_type": "code",
   "execution_count": 4,
   "id": "9af59206-affc-4710-ab6e-382e70dd65c5",
   "metadata": {},
   "outputs": [
    {
     "data": {
      "text/latex": [
       "$[232.85997,~115.803,~295.55704,~\\dots,~267.60965,~240.999,~244.77679] \\; \\mathrm{\\frac{kpc}{{}^{\\prime}}}$"
      ],
      "text/plain": [
       "<Quantity [232.85996665, 115.80299749, 295.55703817, 208.96598069,\n",
       "           252.89890756, 269.81894828, 247.33755558, 114.52471534,\n",
       "           194.94231833, 170.37909225, 267.73456559, 243.03871063,\n",
       "           237.04613445, 250.97065817, 296.03651206, 218.71296151,\n",
       "           226.99764355, 139.9268915 , 162.36287491, 291.81585769,\n",
       "           293.38496704, 193.45924487, 263.67045471, 266.85508032,\n",
       "           279.93736808, 154.01150752, 159.03597111, 172.18417051,\n",
       "           196.33890555, 150.35262411, 215.1828343 , 292.29413403,\n",
       "           270.50009972, 189.55288372, 188.8036126 , 224.0695333 ,\n",
       "           182.51841177, 185.28558211, 162.42377759, 278.45876006,\n",
       "           223.99993875, 265.06180711, 196.64751522, 198.76749964,\n",
       "           111.08449251, 236.60234346, 237.22957694, 174.26959646,\n",
       "           218.20911517, 224.5003265 , 270.38729628, 263.68781889,\n",
       "           267.22414102, 186.1694538 , 226.32939904, 274.73269229,\n",
       "           281.46620208, 115.51995152, 201.97544287, 260.42878372,\n",
       "           262.114158  , 141.82193387, 150.79173236, 157.34032833,\n",
       "           204.56635018, 281.15452104, 220.95611625, 177.36144469,\n",
       "           186.15497752, 125.65991853, 288.0143438 , 171.74129531,\n",
       "           144.54190576, 149.0391954 , 288.48929481, 228.69011803,\n",
       "           189.88722767, 289.47283776, 269.68177627, 195.96270324,\n",
       "           185.3874474 , 219.09971269, 220.17128283, 214.24135648,\n",
       "           274.63026526, 219.18705851, 230.39935017, 116.80426346,\n",
       "           214.02788711, 277.10135221, 242.46185743, 276.80116033,\n",
       "           184.04606551, 174.25566036, 227.94329511, 262.37643311,\n",
       "           282.75542554, 182.9075696 , 202.62070953, 251.61378183,\n",
       "           261.60903961, 221.72024563, 162.86579866, 288.51510799,\n",
       "           239.46561591, 146.14403654, 225.74282643, 146.42232846,\n",
       "           274.67210774, 146.67530013, 174.31432454, 145.6960354 ,\n",
       "           168.1089996 , 115.6202246 , 259.06775649, 247.96146507,\n",
       "           165.34473272, 129.08134841, 112.78249789, 130.33630881,\n",
       "           121.14185338, 187.07703023, 270.5081083 , 223.22965457,\n",
       "           187.82599559, 217.83495608, 222.45265249, 234.51872211,\n",
       "           170.01057699, 219.96923594, 232.69207098, 287.37417448,\n",
       "           223.6925335 , 255.6830986 , 148.20031719, 235.00382679,\n",
       "           123.76461312, 240.48306651, 281.35816351, 178.39380503,\n",
       "           274.99144129, 272.18220302, 270.15748493, 267.69788861,\n",
       "           165.5272929 , 284.09466778, 276.31443875, 267.60965262,\n",
       "           240.99900302, 244.77679414] kpc / arcmin>"
      ]
     },
     "execution_count": 4,
     "metadata": {},
     "output_type": "execute_result"
    }
   ],
   "source": [
    "ang_step = Quantity(1, 'arcmin')\n",
    "ang_prop_ratios = (ang_to_rad(ang_step, samp['redshift'].values, cosmo=cosmo) / ang_step)\n",
    "# Unfortunately dataframes and quantities do not seem to be getting on at the moment, so we save the\n",
    "#  float version of these values\n",
    "samp['ang_prop_ratio'] = ang_prop_ratios.value\n",
    "ang_prop_ratios"
   ]
  },
  {
   "cell_type": "markdown",
   "id": "e6016340-24b5-4099-bda8-b4dc5319d3a1",
   "metadata": {},
   "source": [
    "## Setting up directory structure and history files"
   ]
  },
  {
   "cell_type": "markdown",
   "id": "21253f29-cb74-445d-b442-a8015f2c03b4",
   "metadata": {},
   "source": []
  },
  {
   "cell_type": "markdown",
   "id": "b16d2350-95b3-46d3-9e43-8936b0adb972",
   "metadata": {},
   "source": [
    "### Storage for files that record the history of the identification run"
   ]
  },
  {
   "cell_type": "markdown",
   "id": "f2524f52-caef-44f7-93a0-84b502a7db16",
   "metadata": {},
   "source": []
  },
  {
   "cell_type": "code",
   "execution_count": 5,
   "id": "6e4ed3a3-27ac-4f64-b586-c95815ecf5d9",
   "metadata": {},
   "outputs": [],
   "source": [
    "# Switch the root path to a relative path, otherwise the history is not portable across machines\n",
    "static_samp_file = os.path.relpath(os.path.join(HISTORY_ROOT, 'STATIC_'+proj_name+'.csv'))\n",
    "\n",
    "if os.path.exists(HISTORY_FILE_PATH):\n",
    "    cur_history = load_history()\n",
    "    samp = pd.read_csv(static_samp_file)\n",
    "    ang_prop_ratios = Quantity(samp['ang_prop_ratio'], 'kpc/arcmin')\n",
    "    \n",
    "else:\n",
    "    if not os.path.exists(HISTORY_ROOT):\n",
    "        os.makedirs(HISTORY_ROOT)\n",
    "    \n",
    "    if not os.path.exists(HISTORY_FILE_PATH):\n",
    "        data_ops = {n: {'raw_images': {mn: {'complete': False, 'unavailable': False} for mn in rel_miss}} for n in samp['name'].values}\n",
    "        bcg_ops = {n: {'ident_complete': False} for n in samp['name'].values}\n",
    "        \n",
    "        cur_history = {'project_name': proj_name,\n",
    "                       'num_clusters': len(samp),\n",
    "                       'static_samp_file': static_samp_file,\n",
    "                       'chosen_missions': rel_miss,\n",
    "                       'cosmo_repr': str(cosmo),\n",
    "                       'side_length': side_length.to('kpc').value,\n",
    "                       'data_operations': data_ops,\n",
    "                       'bcg_identification': bcg_ops,\n",
    "                       'bcg_spec_identification': bcg_ops}\n",
    "        \n",
    "        with open(HISTORY_FILE_PATH, 'w') as write_historo:\n",
    "            json.dump(cur_history, write_historo)\n",
    "        \n",
    "        samp.to_csv(static_samp_file, index=False)\n"
   ]
  },
  {
   "cell_type": "markdown",
   "id": "5d57acd6-eb31-4052-b5b3-ddd2c385508b",
   "metadata": {},
   "source": [
    "### Storage for downloaded/generated raw images"
   ]
  },
  {
   "cell_type": "markdown",
   "id": "8dba5624-0d69-48b6-8c00-a149fb4ceaa1",
   "metadata": {},
   "source": []
  },
  {
   "cell_type": "code",
   "execution_count": 6,
   "id": "d36f94b0-f6d2-4fd4-bd1c-3f077616273d",
   "metadata": {},
   "outputs": [],
   "source": [
    "raw_im_pth_abs = os.path.abspath(\"raw_images/{n}/{m}\") + '/'\n",
    "raw_im_pth = os.path.relpath(raw_im_pth_abs)\n",
    "\n",
    "for src_name in samp['name'].values:\n",
    "    for miss_name in rel_miss:\n",
    "        if not os.path.exists(raw_im_pth.format(m=miss_name, n=src_name)):\n",
    "            os.makedirs(raw_im_pth.format(m=miss_name, n=src_name))"
   ]
  },
  {
   "cell_type": "markdown",
   "id": "6d37bb83-fdd6-43d0-99bc-6d1e2fb71bed",
   "metadata": {},
   "source": [
    "### Storage for outputs"
   ]
  },
  {
   "cell_type": "markdown",
   "id": "f89a75f5-03f7-4e86-831f-46d9fd3fb567",
   "metadata": {},
   "source": []
  },
  {
   "cell_type": "code",
   "execution_count": 7,
   "id": "1a7431ef-75a3-4812-b558-790439f80a8a",
   "metadata": {},
   "outputs": [],
   "source": [
    "for src_name in samp['name'].values:\n",
    "    if not os.path.exists(OUTPUT_CLUSTER_PATH.format(n=src_name)):\n",
    "        os.makedirs(OUTPUT_CLUSTER_PATH.format(n=src_name))"
   ]
  },
  {
   "cell_type": "markdown",
   "id": "f94fa3f0-e291-4198-9fb5-dc02af17b647",
   "metadata": {},
   "source": [
    "## Generating and saving XMM images"
   ]
  },
  {
   "cell_type": "markdown",
   "id": "ef584cef-b004-4a67-a866-9865e101ae3a",
   "metadata": {},
   "source": [
    "We address XMM observations slightly differently, as one of the best ways of getting images is to download the raw data and reprocess it - as this is complex, we also allow for the introduction of already-generated FITS images to the history.\n",
    "\n",
    "Currently, existing file names must be formatted in a very specific way (see the code for further information)."
   ]
  },
  {
   "cell_type": "code",
   "execution_count": 8,
   "id": "70ab1910-ffcd-43d3-a8d4-b9bebe586f9c",
   "metadata": {},
   "outputs": [],
   "source": [
    "# existing_xmm = None\n",
    "existing_xmm = \"../../useful_data/riley_bcg_ident_xmm_comb_final/\"\n",
    "\n",
    "# The sub-directory path and file name we expect for existing XMM data\n",
    "im_file_existing_xmm = \"{n}/xmm/{n}_0.5-2.0keV_comb.fits\""
   ]
  },
  {
   "cell_type": "code",
   "execution_count": 9,
   "id": "5a9d4596-b9bd-4f3b-9805-0568f7e8a558",
   "metadata": {},
   "outputs": [
    {
     "name": "stderr",
     "output_type": "stream",
     "text": [
      "Moving existing XMM images: 100%|██████████████████████████████████████████| 150/150 [00:00<00:00, 362.87it/s]\n"
     ]
    }
   ],
   "source": [
    "if 'xmm' in rel_miss:\n",
    "    if existing_xmm is not None:\n",
    "\n",
    "        # Check that the existing XMM path is real\n",
    "        if not os.path.exists(existing_xmm):\n",
    "            raise FileNotFoundError(\"The specified 'existing_xmm' path does not exist.\")\n",
    "\n",
    "        # We make a copy of the data operations section of the history, as it may be changed in this next bit\n",
    "        data_op_hist = deepcopy(cur_history['data_operations'])\n",
    "        # And a change flag\n",
    "        hist_change = False\n",
    "        \n",
    "        with tqdm(total=len(samp), desc='Moving existing XMM images') as onwards:\n",
    "            for row_ind, row in samp.iterrows():\n",
    "                # Read out the cluster name - so we can store things in the right place, and keep track of which image\n",
    "                #  belongs to which cluster\n",
    "                cur_name = row['name']\n",
    "                \n",
    "                # First, lets check if this cluster has had XMM data set up already - if yes then we can skip\n",
    "                if cur_history['data_operations'][cur_name]['raw_images']['xmm']['complete']:\n",
    "                    onwards.update(1)\n",
    "                    continue\n",
    "    \n",
    "                # We currently don't build any flexibility into the directory and file name format supported for \n",
    "                #  adding existing images - that will likely change if this gets developed further\n",
    "                cur_exist_path = os.path.join(existing_xmm, im_file_existing_xmm.format(n=cur_name))\n",
    "                if not os.path.exists(cur_exist_path):\n",
    "                    data_op_hist[cur_name]['raw_images']['xmm']['unavailable'] = True\n",
    "                    data_op_hist[cur_name]['raw_images']['xmm']['complete'] = True\n",
    "                    hist_change = True\n",
    "                    \n",
    "                else:\n",
    "                    cur_final_dir = raw_im_pth.format(n=cur_name, m='xmm')\n",
    "                    final_xmm_im_path = os.path.join(cur_final_dir, \"{n}_0.5-2.0keV_comb.fits\".format(n=cur_name))\n",
    "    \n",
    "                    copyfile(cur_exist_path, final_xmm_im_path)\n",
    "                                                     \n",
    "                    # data_op_hist[cur_name]['raw_images']['xmm']['arcsec_per_pix'] = \n",
    "                    # data_op_hist[cur_name]['raw_images']['xmm']['cen_pos'] = \n",
    "                    data_op_hist[cur_name]['raw_images']['xmm']['complete'] = True\n",
    "                    data_op_hist[cur_name]['raw_images']['xmm']['unavailable'] = False\n",
    "                    # Make sure we save the RELATIVE path - otherwise this history file won't work on other systems\n",
    "                    data_op_hist[cur_name]['raw_images']['xmm']['im_path'] = os.path.relpath(final_xmm_im_path)\n",
    "                    hist_change = True\n",
    "                    \n",
    "                onwards.update(1)\n",
    "\n",
    "        # Only run the update history function if there were changes\n",
    "        if hist_change:\n",
    "            cur_history = update_history({'data_operations': data_op_hist})\n",
    "        \n",
    "    else:\n",
    "        raise NotImplementedError(\"The downloading and processing of XMM data for BCG identification \"\\\n",
    "                                  \"projects has not yet been implemented.\")"
   ]
  },
  {
   "cell_type": "markdown",
   "id": "15ae5c89-e2db-49e2-a980-201624dd7aaa",
   "metadata": {},
   "source": [
    "## Downloading DESI Legacy Survey optical/NIR photometry"
   ]
  },
  {
   "cell_type": "markdown",
   "id": "ac08e928-889b-4afd-be9b-19e4b5846a56",
   "metadata": {},
   "source": []
  },
  {
   "cell_type": "code",
   "execution_count": 10,
   "id": "f503053f-50ba-4e69-abb0-a35435d64086",
   "metadata": {},
   "outputs": [],
   "source": [
    "#\n",
    "ls_pixsize_lim = Quantity(3000, 'pix')\n",
    "\n",
    "#\n",
    "ls_start_pix_scale = Quantity(0.262, 'arcsec/pixel')"
   ]
  },
  {
   "cell_type": "markdown",
   "id": "8720e534-9a3d-4a34-be92-6904d8d53574",
   "metadata": {},
   "source": []
  },
  {
   "cell_type": "code",
   "execution_count": 11,
   "id": "5a8c98d3-b102-4ecf-aa89-25872fccccf6",
   "metadata": {},
   "outputs": [
    {
     "name": "stderr",
     "output_type": "stream",
     "text": [
      "/Users/dt237/software/anaconda3/envs/new_xga_dev/lib/python3.12/site-packages/IPython/core/interactiveshell.py:3577: UserWarning: The Legacy Survey pixel side length for one or more clusters is greater than allowed by the cutout server - changing pixel scale to 0.524 arcsec / pix\n",
      "  exec(code_obj, self.user_global_ns, self.user_ns)\n",
      "Downloading DESI Legacy Survey DR10 photometry:   0%|                                 | 0/150 [00:00<?, ?it/s][EveryStamp:LegacyDownloader] 2025-02-10 11:43:41,135 - INFO: Downloading cutout from https://www.legacysurvey.org/viewer/jpeg-cutout/?ra=0.800578&dec=-6.091818&layer=ls-dr10&pixscale=0.524&bands=griz&size=983\n"
     ]
    },
    {
     "name": "stdout",
     "output_type": "stream",
     "text": [
      "\n",
      "  0%|                                                                                 | 0/368 [00:00<?, ?KB/s]\u001B[A\n",
      "  9%|██████▎                                                                 | 32/368 [00:00<00:05, 62.73KB/s]\u001B[A\n",
      "369KB [00:00, 556.57KB/s]                                                                                     \u001B[A"
     ]
    },
    {
     "name": "stderr",
     "output_type": "stream",
     "text": [
      "Downloading DESI Legacy Survey DR10 photometry:   1%|▏                        | 1/150 [00:05<13:48,  5.56s/it][EveryStamp:LegacyDownloader] 2025-02-10 11:43:46,696 - INFO: Downloading cutout from https://www.legacysurvey.org/viewer/jpeg-cutout/?ra=0.955540&dec=2.068019&layer=ls-dr10&pixscale=0.524&bands=griz&size=1977\n"
     ]
    },
    {
     "name": "stdout",
     "output_type": "stream",
     "text": [
      "\n",
      "\n",
      "  0%|                                                                                | 0/1561 [00:00<?, ?KB/s]\u001B[A\n",
      "  2%|█▍                                                                    | 32/1561 [00:00<00:09, 156.77KB/s]\u001B[A\n",
      "  6%|███▉                                                                  | 88/1561 [00:00<00:04, 309.45KB/s]\u001B[A\n",
      " 26%|█████████████████▌                                                  | 404/1561 [00:00<00:00, 1256.17KB/s]\u001B[A\n",
      " 54%|████████████████████████████████████▊                               | 844/1561 [00:00<00:00, 1268.84KB/s]\u001B[A\n",
      "1562KB [00:00, 1743.39KB/s]                                                                                   \u001B[A"
     ]
    },
    {
     "name": "stderr",
     "output_type": "stream",
     "text": [
      "Downloading DESI Legacy Survey DR10 photometry:   1%|▎                        | 2/150 [00:19<25:09, 10.20s/it][EveryStamp:LegacyDownloader] 2025-02-10 11:44:00,146 - INFO: Downloading cutout from https://www.legacysurvey.org/viewer/jpeg-cutout/?ra=2.722639&dec=29.161021&layer=ls-dr10&pixscale=0.524&bands=griz&size=774\n"
     ]
    },
    {
     "name": "stdout",
     "output_type": "stream",
     "text": [
      "\n",
      "\n",
      "  0%|                                                                                 | 0/267 [00:00<?, ?KB/s]\u001B[A\n",
      " 12%|████████▌                                                              | 32/267 [00:00<00:00, 298.77KB/s]\u001B[A\n",
      "268KB [00:00, 1015.79KB/s]                                                                                    \u001B[A"
     ]
    },
    {
     "name": "stderr",
     "output_type": "stream",
     "text": [
      "Downloading DESI Legacy Survey DR10 photometry:   2%|▌                        | 3/150 [00:24<20:09,  8.23s/it][EveryStamp:LegacyDownloader] 2025-02-10 11:44:06,023 - INFO: Downloading cutout from https://www.legacysurvey.org/viewer/jpeg-cutout/?ra=4.406325&dec=-0.876192&layer=ls-dr10&pixscale=0.524&bands=griz&size=1095\n"
     ]
    },
    {
     "name": "stdout",
     "output_type": "stream",
     "text": [
      "\n",
      "\n",
      "  0%|                                                                                 | 0/483 [00:00<?, ?KB/s]\u001B[A\n",
      "  7%|████▋                                                                  | 32/483 [00:00<00:01, 313.02KB/s]\u001B[A\n",
      " 36%|█████████████████████████▌                                            | 176/483 [00:00<00:00, 913.88KB/s]\u001B[A\n",
      "484KB [00:00, 1049.73KB/s]                                                                                    \u001B[A"
     ]
    },
    {
     "name": "stderr",
     "output_type": "stream",
     "text": [
      "Downloading DESI Legacy Survey DR10 photometry:   3%|▋                        | 4/150 [00:28<15:53,  6.53s/it][EveryStamp:LegacyDownloader] 2025-02-10 11:44:09,957 - INFO: Downloading cutout from https://www.legacysurvey.org/viewer/jpeg-cutout/?ra=4.908390&dec=3.609818&layer=ls-dr10&pixscale=0.524&bands=griz&size=905\n"
     ]
    },
    {
     "name": "stdout",
     "output_type": "stream",
     "text": [
      "\n",
      "\n",
      "  0%|                                                                                 | 0/321 [00:00<?, ?KB/s]\u001B[A\n",
      "  2%|█▊                                                                       | 8/321 [00:00<00:05, 56.52KB/s]\u001B[A\n",
      "322KB [00:00, 982.83KB/s]                                                                                     \u001B[A"
     ]
    },
    {
     "name": "stderr",
     "output_type": "stream",
     "text": [
      "Downloading DESI Legacy Survey DR10 photometry:   3%|▊                        | 5/150 [00:35<16:04,  6.65s/it][EveryStamp:LegacyDownloader] 2025-02-10 11:44:16,821 - INFO: Downloading cutout from https://www.legacysurvey.org/viewer/jpeg-cutout/?ra=8.464699&dec=-7.862901&layer=ls-dr10&pixscale=0.524&bands=griz&size=848\n"
     ]
    },
    {
     "name": "stdout",
     "output_type": "stream",
     "text": [
      "\n",
      "\n",
      "  0%|                                                                                 | 0/320 [00:00<?, ?KB/s]\u001B[A\n",
      " 10%|███████                                                                | 32/320 [00:00<00:00, 316.32KB/s]\u001B[A\n",
      "321KB [00:00, 1297.97KB/s]                                                                                    \u001B[A"
     ]
    },
    {
     "name": "stderr",
     "output_type": "stream",
     "text": [
      "Downloading DESI Legacy Survey DR10 photometry:   4%|█                        | 6/150 [00:38<13:09,  5.48s/it][EveryStamp:LegacyDownloader] 2025-02-10 11:44:20,036 - INFO: Downloading cutout from https://www.legacysurvey.org/viewer/jpeg-cutout/?ra=9.276818&dec=9.157188&layer=ls-dr10&pixscale=0.524&bands=griz&size=925\n"
     ]
    },
    {
     "name": "stdout",
     "output_type": "stream",
     "text": [
      "\n",
      "\n",
      "  0%|                                                                                 | 0/418 [00:00<?, ?KB/s]\u001B[A\n",
      "  9%|██████                                                                 | 36/418 [00:00<00:01, 357.70KB/s]\u001B[A\n",
      "419KB [00:00, 1502.69KB/s]                                                                                    \u001B[A"
     ]
    },
    {
     "name": "stderr",
     "output_type": "stream",
     "text": [
      "Downloading DESI Legacy Survey DR10 photometry:   5%|█▏                       | 7/150 [00:42<11:47,  4.94s/it][EveryStamp:LegacyDownloader] 2025-02-10 11:44:23,872 - INFO: Downloading cutout from https://www.legacysurvey.org/viewer/jpeg-cutout/?ra=11.628250&dec=20.467691&layer=ls-dr10&pixscale=0.524&bands=griz&size=1999\n"
     ]
    },
    {
     "name": "stdout",
     "output_type": "stream",
     "text": [
      "\n",
      "\n",
      "  0%|                                                                                | 0/1524 [00:00<?, ?KB/s]\u001B[A\n",
      "  2%|█▍                                                                    | 32/1524 [00:00<00:04, 307.31KB/s]\u001B[A\n",
      " 12%|████████▎                                                            | 184/1524 [00:00<00:01, 969.13KB/s]\u001B[A\n",
      " 25%|█████████████████▏                                                  | 384/1524 [00:00<00:00, 1214.35KB/s]\u001B[A\n",
      "1525KB [00:00, 2671.61KB/s]                                                                                   \u001B[A"
     ]
    },
    {
     "name": "stderr",
     "output_type": "stream",
     "text": [
      "Downloading DESI Legacy Survey DR10 photometry:   5%|█▎                       | 8/150 [01:04<24:01, 10.15s/it][EveryStamp:LegacyDownloader] 2025-02-10 11:44:45,169 - INFO: Downloading cutout from https://www.legacysurvey.org/viewer/jpeg-cutout/?ra=13.996563&dec=26.330304&layer=ls-dr10&pixscale=0.524&bands=griz&size=1174\n"
     ]
    },
    {
     "name": "stdout",
     "output_type": "stream",
     "text": [
      "\n",
      "\n",
      "  0%|                                                                                 | 0/524 [00:00<?, ?KB/s]\u001B[A\n",
      "  6%|████▎                                                                  | 32/524 [00:00<00:02, 203.72KB/s]\u001B[A\n",
      " 15%|██████████▊                                                            | 80/524 [00:00<00:03, 134.19KB/s]\u001B[A\n",
      "525KB [00:00, 633.69KB/s]                                                                                     \u001B[A"
     ]
    },
    {
     "name": "stderr",
     "output_type": "stream",
     "text": [
      "Downloading DESI Legacy Survey DR10 photometry:   6%|█▌                       | 9/150 [01:09<20:34,  8.76s/it][EveryStamp:LegacyDownloader] 2025-02-10 11:44:50,864 - INFO: Downloading cutout from https://www.legacysurvey.org/viewer/jpeg-cutout/?ra=16.061785&dec=25.086602&layer=ls-dr10&pixscale=0.524&bands=griz&size=1344\n"
     ]
    },
    {
     "name": "stdout",
     "output_type": "stream",
     "text": [
      "\n",
      "\n",
      "  0%|                                                                                 | 0/734 [00:00<?, ?KB/s]\u001B[A\n",
      "  4%|███                                                                    | 32/734 [00:00<00:02, 293.10KB/s]\u001B[A\n",
      "735KB [00:00, 2317.79KB/s]                                                                                    \u001B[A"
     ]
    },
    {
     "name": "stderr",
     "output_type": "stream",
     "text": [
      "Downloading DESI Legacy Survey DR10 photometry:   7%|█▌                      | 10/150 [01:14<17:42,  7.59s/it][EveryStamp:LegacyDownloader] 2025-02-10 11:44:55,835 - INFO: Downloading cutout from https://www.legacysurvey.org/viewer/jpeg-cutout/?ra=16.448217&dec=-0.340136&layer=ls-dr10&pixscale=0.524&bands=griz&size=855\n"
     ]
    },
    {
     "name": "stdout",
     "output_type": "stream",
     "text": [
      "\n",
      "\n",
      "  0%|                                                                                 | 0/262 [00:00<?, ?KB/s]\u001B[A\n",
      " 12%|████████▋                                                              | 32/262 [00:00<00:00, 239.96KB/s]\u001B[A\n",
      "263KB [00:00, 624.16KB/s]                                                                                     \u001B[A"
     ]
    },
    {
     "name": "stderr",
     "output_type": "stream",
     "text": [
      "Downloading DESI Legacy Survey DR10 photometry:   7%|█▊                      | 11/150 [01:19<15:46,  6.81s/it][EveryStamp:LegacyDownloader] 2025-02-10 11:45:00,877 - INFO: Downloading cutout from https://www.legacysurvey.org/viewer/jpeg-cutout/?ra=16.541518&dec=0.852390&layer=ls-dr10&pixscale=0.524&bands=griz&size=942\n"
     ]
    },
    {
     "name": "stdout",
     "output_type": "stream",
     "text": [
      "\n",
      "\n",
      "  0%|                                                                                 | 0/346 [00:00<?, ?KB/s]\u001B[A\n",
      "  9%|██████▌                                                                | 32/346 [00:00<00:01, 309.27KB/s]\u001B[A\n",
      "347KB [00:00, 1200.32KB/s]                                                                                    \u001B[A"
     ]
    },
    {
     "name": "stderr",
     "output_type": "stream",
     "text": [
      "Downloading DESI Legacy Survey DR10 photometry:   8%|█▉                      | 12/150 [01:26<15:29,  6.74s/it][EveryStamp:LegacyDownloader] 2025-02-10 11:45:07,451 - INFO: Downloading cutout from https://www.legacysurvey.org/viewer/jpeg-cutout/?ra=16.705600&dec=1.056887&layer=ls-dr10&pixscale=0.524&bands=griz&size=966\n"
     ]
    },
    {
     "name": "stdout",
     "output_type": "stream",
     "text": [
      "\n",
      "\n",
      "  0%|                                                                                 | 0/390 [00:00<?, ?KB/s]\u001B[A\n",
      "  8%|█████▊                                                                 | 32/390 [00:00<00:01, 306.79KB/s]\u001B[A\n",
      "391KB [00:00, 1327.59KB/s]                                                                                    \u001B[A"
     ]
    },
    {
     "name": "stderr",
     "output_type": "stream",
     "text": [
      "Downloading DESI Legacy Survey DR10 photometry:   9%|██                      | 13/150 [01:31<14:21,  6.29s/it][EveryStamp:LegacyDownloader] 2025-02-10 11:45:12,700 - INFO: Downloading cutout from https://www.legacysurvey.org/viewer/jpeg-cutout/?ra=17.953107&dec=-0.017866&layer=ls-dr10&pixscale=0.524&bands=griz&size=912\n"
     ]
    },
    {
     "name": "stdout",
     "output_type": "stream",
     "text": [
      "\n",
      "\n",
      "  0%|                                                                                 | 0/338 [00:00<?, ?KB/s]\u001B[A\n",
      "  9%|██████▋                                                                | 32/338 [00:00<00:01, 277.70KB/s]\u001B[A\n",
      " 25%|█████████████████▋                                                     | 84/338 [00:00<00:00, 276.43KB/s]\u001B[A\n",
      "339KB [00:01, 228.44KB/s]                                                                                     \u001B[A"
     ]
    },
    {
     "name": "stderr",
     "output_type": "stream",
     "text": [
      "Downloading DESI Legacy Survey DR10 photometry:   9%|██▏                     | 14/150 [01:37<14:00,  6.18s/it][EveryStamp:LegacyDownloader] 2025-02-10 11:45:18,636 - INFO: Downloading cutout from https://www.legacysurvey.org/viewer/jpeg-cutout/?ra=18.604062&dec=0.494616&layer=ls-dr10&pixscale=0.524&bands=griz&size=773\n"
     ]
    },
    {
     "name": "stdout",
     "output_type": "stream",
     "text": [
      "\n",
      "\n",
      "  0%|                                                                                 | 0/223 [00:00<?, ?KB/s]\u001B[A\n",
      "  4%|██▌                                                                      | 8/223 [00:00<00:02, 78.17KB/s]\u001B[A\n",
      " 36%|█████████████████████████▍                                             | 80/223 [00:00<00:00, 421.61KB/s]\u001B[A\n",
      "224KB [00:00, 670.85KB/s]                                                                                     \u001B[A"
     ]
    },
    {
     "name": "stderr",
     "output_type": "stream",
     "text": [
      "Downloading DESI Legacy Survey DR10 photometry:  10%|██▍                     | 15/150 [01:40<11:55,  5.30s/it][EveryStamp:LegacyDownloader] 2025-02-10 11:45:21,885 - INFO: Downloading cutout from https://www.legacysurvey.org/viewer/jpeg-cutout/?ra=28.175568&dec=1.008175&layer=ls-dr10&pixscale=0.524&bands=griz&size=1047\n"
     ]
    },
    {
     "name": "stdout",
     "output_type": "stream",
     "text": [
      "\n",
      "\n",
      "  0%|                                                                                 | 0/426 [00:00<?, ?KB/s]\u001B[A\n",
      "  8%|█████▎                                                                 | 32/426 [00:00<00:01, 275.76KB/s]\u001B[A\n",
      " 36%|████████████████████████▉                                             | 152/426 [00:00<00:00, 736.79KB/s]\u001B[A\n",
      " 55%|██████████████████████████████████████▊                               | 236/426 [00:00<00:00, 644.03KB/s]\u001B[A\n",
      "427KB [00:00, 844.96KB/s]                                                                                     \u001B[A"
     ]
    },
    {
     "name": "stderr",
     "output_type": "stream",
     "text": [
      "Downloading DESI Legacy Survey DR10 photometry:  11%|██▌                     | 16/150 [01:47<13:08,  5.88s/it][EveryStamp:LegacyDownloader] 2025-02-10 11:45:29,123 - INFO: Downloading cutout from https://www.legacysurvey.org/viewer/jpeg-cutout/?ra=28.392295&dec=-1.304499&layer=ls-dr10&pixscale=0.524&bands=griz&size=1008\n"
     ]
    },
    {
     "name": "stdout",
     "output_type": "stream",
     "text": [
      "\n",
      "\n",
      "  0%|                                                                                 | 0/403 [00:00<?, ?KB/s]\u001B[A\n",
      "  8%|█████▋                                                                 | 32/403 [00:00<00:01, 285.74KB/s]\u001B[A\n",
      " 20%|██████████████                                                         | 80/403 [00:00<00:01, 258.63KB/s]\u001B[A\n",
      " 58%|████████████████████████████████████████▎                             | 232/403 [00:00<00:00, 634.51KB/s]\u001B[A\n",
      "404KB [00:00, 689.03KB/s]                                                                                     \u001B[A"
     ]
    },
    {
     "name": "stderr",
     "output_type": "stream",
     "text": [
      "Downloading DESI Legacy Survey DR10 photometry:  11%|██▋                     | 17/150 [01:52<12:27,  5.62s/it][EveryStamp:LegacyDownloader] 2025-02-10 11:45:34,128 - INFO: Downloading cutout from https://www.legacysurvey.org/viewer/jpeg-cutout/?ra=29.282447&dec=-5.876032&layer=ls-dr10&pixscale=0.524&bands=griz&size=1636\n"
     ]
    },
    {
     "name": "stdout",
     "output_type": "stream",
     "text": [
      "\n",
      "\n",
      "  0%|                                                                                | 0/1046 [00:00<?, ?KB/s]\u001B[A\n",
      "  3%|██▏                                                                   | 32/1046 [00:00<00:03, 316.25KB/s]\u001B[A\n",
      " 15%|██████████                                                           | 152/1046 [00:00<00:01, 813.63KB/s]\u001B[A\n",
      " 30%|████████████████████▌                                                | 312/1046 [00:00<00:01, 598.51KB/s]\u001B[A\n",
      " 47%|████████████████████████████████▏                                    | 488/1046 [00:00<00:00, 822.04KB/s]\u001B[A\n",
      " 65%|████████████████████████████████████████████▏                       | 680/1046 [00:00<00:00, 1048.71KB/s]\u001B[A\n",
      "1047KB [00:01, 949.00KB/s]                                                                                    \u001B[A"
     ]
    },
    {
     "name": "stderr",
     "output_type": "stream",
     "text": [
      "Downloading DESI Legacy Survey DR10 photometry:  12%|██▉                     | 18/150 [02:05<16:49,  7.65s/it][EveryStamp:LegacyDownloader] 2025-02-10 11:45:46,498 - INFO: Downloading cutout from https://www.legacysurvey.org/viewer/jpeg-cutout/?ra=29.603929&dec=-1.781776&layer=ls-dr10&pixscale=0.524&bands=griz&size=1410\n"
     ]
    },
    {
     "name": "stdout",
     "output_type": "stream",
     "text": [
      "\n",
      "\n",
      "  0%|                                                                                 | 0/801 [00:00<?, ?KB/s]\u001B[A\n",
      "  4%|██▊                                                                    | 32/801 [00:00<00:02, 290.89KB/s]\u001B[A\n",
      " 23%|████████████████▍                                                     | 188/801 [00:00<00:00, 889.84KB/s]\u001B[A\n",
      "802KB [00:00, 1509.32KB/s]                                                                                    \u001B[A"
     ]
    },
    {
     "name": "stderr",
     "output_type": "stream",
     "text": [
      "Downloading DESI Legacy Survey DR10 photometry:  13%|███                     | 19/150 [02:11<15:46,  7.23s/it][EveryStamp:LegacyDownloader] 2025-02-10 11:45:52,748 - INFO: Downloading cutout from https://www.legacysurvey.org/viewer/jpeg-cutout/?ra=30.191204&dec=-6.708113&layer=ls-dr10&pixscale=0.524&bands=griz&size=784\n"
     ]
    },
    {
     "name": "stdout",
     "output_type": "stream",
     "text": [
      "\n",
      "\n",
      "  0%|                                                                                 | 0/246 [00:00<?, ?KB/s]\u001B[A\n",
      " 13%|█████████▏                                                             | 32/246 [00:00<00:00, 302.22KB/s]\u001B[A\n",
      "247KB [00:00, 561.79KB/s]                                                                                     \u001B[A"
     ]
    },
    {
     "name": "stderr",
     "output_type": "stream",
     "text": [
      "Downloading DESI Legacy Survey DR10 photometry:  13%|███▏                    | 20/150 [02:15<13:20,  6.16s/it][EveryStamp:LegacyDownloader] 2025-02-10 11:45:56,410 - INFO: Downloading cutout from https://www.legacysurvey.org/viewer/jpeg-cutout/?ra=30.329494&dec=-6.831855&layer=ls-dr10&pixscale=0.524&bands=griz&size=780\n"
     ]
    },
    {
     "name": "stdout",
     "output_type": "stream",
     "text": [
      "\n",
      "\n",
      "  0%|                                                                                 | 0/229 [00:00<?, ?KB/s]\u001B[A\n",
      " 10%|███████▌                                                                | 24/229 [00:00<00:02, 70.38KB/s]\u001B[A\n",
      "230KB [00:00, 497.19KB/s]                                                                                     \u001B[A"
     ]
    },
    {
     "name": "stderr",
     "output_type": "stream",
     "text": [
      "Downloading DESI Legacy Survey DR10 photometry:  14%|███▎                    | 21/150 [02:18<11:22,  5.29s/it][EveryStamp:LegacyDownloader] 2025-02-10 11:45:59,675 - INFO: Downloading cutout from https://www.legacysurvey.org/viewer/jpeg-cutout/?ra=30.429572&dec=-2.196259&layer=ls-dr10&pixscale=0.524&bands=griz&size=1183\n"
     ]
    },
    {
     "name": "stdout",
     "output_type": "stream",
     "text": [
      "\n",
      "\n",
      "  0%|                                                                                 | 0/544 [00:00<?, ?KB/s]\u001B[A\n",
      "  6%|████▏                                                                  | 32/544 [00:00<00:01, 315.79KB/s]\u001B[A\n",
      "545KB [00:00, 1782.94KB/s]                                                                                    \u001B[A"
     ]
    },
    {
     "name": "stderr",
     "output_type": "stream",
     "text": [
      "Downloading DESI Legacy Survey DR10 photometry:  15%|███▌                    | 22/150 [02:28<14:03,  6.59s/it][EveryStamp:LegacyDownloader] 2025-02-10 11:46:09,296 - INFO: Downloading cutout from https://www.legacysurvey.org/viewer/jpeg-cutout/?ra=31.351861&dec=-5.730336&layer=ls-dr10&pixscale=0.524&bands=griz&size=868\n"
     ]
    },
    {
     "name": "stdout",
     "output_type": "stream",
     "text": [
      "\n",
      "\n",
      "  0%|                                                                                 | 0/281 [00:00<?, ?KB/s]\u001B[A\n",
      " 11%|████████                                                               | 32/281 [00:00<00:00, 262.59KB/s]\u001B[A\n",
      "282KB [00:00, 1165.60KB/s]                                                                                    \u001B[A"
     ]
    },
    {
     "name": "stderr",
     "output_type": "stream",
     "text": [
      "Downloading DESI Legacy Survey DR10 photometry:  15%|███▋                    | 23/150 [02:35<14:23,  6.80s/it][EveryStamp:LegacyDownloader] 2025-02-10 11:46:16,578 - INFO: Downloading cutout from https://www.legacysurvey.org/viewer/jpeg-cutout/?ra=33.111835&dec=-5.626291&layer=ls-dr10&pixscale=0.524&bands=griz&size=858\n"
     ]
    },
    {
     "name": "stdout",
     "output_type": "stream",
     "text": [
      "\n",
      "\n",
      "  0%|                                                                                 | 0/281 [00:00<?, ?KB/s]\u001B[A\n",
      " 11%|████████                                                               | 32/281 [00:00<00:01, 205.16KB/s]\u001B[A\n",
      "282KB [00:00, 947.47KB/s]                                                                                     \u001B[A"
     ]
    },
    {
     "name": "stderr",
     "output_type": "stream",
     "text": [
      "Downloading DESI Legacy Survey DR10 photometry:  16%|███▊                    | 24/150 [02:40<13:19,  6.35s/it][EveryStamp:LegacyDownloader] 2025-02-10 11:46:21,886 - INFO: Downloading cutout from https://www.legacysurvey.org/viewer/jpeg-cutout/?ra=33.116431&dec=-6.077834&layer=ls-dr10&pixscale=0.524&bands=griz&size=818\n"
     ]
    },
    {
     "name": "stdout",
     "output_type": "stream",
     "text": [
      "\n",
      "\n",
      "  0%|                                                                                 | 0/271 [00:00<?, ?KB/s]\u001B[A\n",
      " 12%|████████▍                                                              | 32/271 [00:00<00:01, 180.23KB/s]\u001B[A\n",
      "272KB [00:00, 463.27KB/s]                                                                                     \u001B[A"
     ]
    },
    {
     "name": "stderr",
     "output_type": "stream",
     "text": [
      "Downloading DESI Legacy Survey DR10 photometry:  17%|████                    | 25/150 [02:46<12:43,  6.11s/it][EveryStamp:LegacyDownloader] 2025-02-10 11:46:27,418 - INFO: Downloading cutout from https://www.legacysurvey.org/viewer/jpeg-cutout/?ra=33.671952&dec=-4.553851&layer=ls-dr10&pixscale=0.524&bands=griz&size=1486\n"
     ]
    },
    {
     "name": "stdout",
     "output_type": "stream",
     "text": [
      "\n",
      "\n",
      "  0%|                                                                                 | 0/703 [00:00<?, ?KB/s]\u001B[A\n",
      "  5%|███▏                                                                   | 32/703 [00:00<00:02, 310.55KB/s]\u001B[A\n",
      " 22%|███████████████▏                                                      | 152/703 [00:00<00:00, 779.48KB/s]\u001B[A\n",
      " 44%|██████████████████████████████▌                                      | 312/703 [00:00<00:00, 1075.54KB/s]\u001B[A\n",
      " 69%|████████████████████████████████████████████████▏                     | 484/703 [00:00<00:00, 795.81KB/s]\u001B[A\n",
      "704KB [00:00, 960.47KB/s]                                                                                     \u001B[A"
     ]
    },
    {
     "name": "stderr",
     "output_type": "stream",
     "text": [
      "Downloading DESI Legacy Survey DR10 photometry:  17%|████▏                   | 26/150 [03:04<19:55,  9.64s/it][EveryStamp:LegacyDownloader] 2025-02-10 11:46:45,299 - INFO: Downloading cutout from https://www.legacysurvey.org/viewer/jpeg-cutout/?ra=34.052451&dec=-4.240636&layer=ls-dr10&pixscale=0.524&bands=griz&size=1439\n"
     ]
    },
    {
     "name": "stdout",
     "output_type": "stream",
     "text": [
      "\n",
      "\n",
      "  0%|                                                                                 | 0/705 [00:00<?, ?KB/s]\u001B[A\n",
      " 11%|████████                                                               | 80/705 [00:00<00:01, 493.65KB/s]\u001B[A\n",
      "706KB [00:00, 1635.99KB/s]                                                                                    \u001B[A"
     ]
    },
    {
     "name": "stderr",
     "output_type": "stream",
     "text": [
      "Downloading DESI Legacy Survey DR10 photometry:  18%|████▎                   | 27/150 [03:11<18:33,  9.05s/it][EveryStamp:LegacyDownloader] 2025-02-10 11:46:52,975 - INFO: Downloading cutout from https://www.legacysurvey.org/viewer/jpeg-cutout/?ra=35.868932&dec=-8.868981&layer=ls-dr10&pixscale=0.524&bands=griz&size=1330\n"
     ]
    },
    {
     "name": "stdout",
     "output_type": "stream",
     "text": [
      "\n",
      "\n",
      "  0%|                                                                                 | 0/654 [00:00<?, ?KB/s]\u001B[A\n",
      "  5%|███▍                                                                   | 32/654 [00:00<00:02, 257.71KB/s]\u001B[A\n",
      " 27%|██████████████████▊                                                   | 176/654 [00:00<00:00, 812.58KB/s]\u001B[A\n",
      "655KB [00:00, 1250.09KB/s]                                                                                    \u001B[A"
     ]
    },
    {
     "name": "stderr",
     "output_type": "stream",
     "text": [
      "Downloading DESI Legacy Survey DR10 photometry:  19%|████▍                   | 28/150 [03:22<19:40,  9.68s/it][EveryStamp:LegacyDownloader] 2025-02-10 11:47:04,118 - INFO: Downloading cutout from https://www.legacysurvey.org/viewer/jpeg-cutout/?ra=36.300933&dec=-6.384759&layer=ls-dr10&pixscale=0.524&bands=griz&size=1166\n"
     ]
    },
    {
     "name": "stdout",
     "output_type": "stream",
     "text": [
      "\n",
      "\n",
      "  0%|                                                                                 | 0/429 [00:00<?, ?KB/s]\u001B[A\n",
      "  2%|█▎                                                                       | 8/429 [00:00<00:05, 74.75KB/s]\u001B[A\n",
      " 19%|█████████████▏                                                         | 80/429 [00:00<00:00, 387.37KB/s]\u001B[A\n",
      "430KB [00:00, 1055.48KB/s]                                                                                    \u001B[A"
     ]
    },
    {
     "name": "stderr",
     "output_type": "stream",
     "text": [
      "Downloading DESI Legacy Survey DR10 photometry:  19%|████▋                   | 29/150 [03:28<17:12,  8.53s/it][EveryStamp:LegacyDownloader] 2025-02-10 11:47:09,990 - INFO: Downloading cutout from https://www.legacysurvey.org/viewer/jpeg-cutout/?ra=36.432967&dec=-3.196435&layer=ls-dr10&pixscale=0.524&bands=griz&size=1523\n"
     ]
    },
    {
     "name": "stdout",
     "output_type": "stream",
     "text": [
      "\n",
      "\n",
      "  0%|                                                                                 | 0/866 [00:00<?, ?KB/s]\u001B[A\n",
      "  4%|██▌                                                                    | 32/866 [00:00<00:03, 262.35KB/s]\u001B[A\n",
      " 20%|██████████████▏                                                       | 176/866 [00:00<00:00, 837.13KB/s]\u001B[A\n",
      "867KB [00:00, 2182.86KB/s]                                                                                    \u001B[A"
     ]
    },
    {
     "name": "stderr",
     "output_type": "stream",
     "text": [
      "Downloading DESI Legacy Survey DR10 photometry:  20%|████▊                   | 30/150 [03:40<18:56,  9.47s/it][EveryStamp:LegacyDownloader] 2025-02-10 11:47:21,651 - INFO: Downloading cutout from https://www.legacysurvey.org/viewer/jpeg-cutout/?ra=36.454830&dec=-5.894148&layer=ls-dr10&pixscale=0.524&bands=griz&size=1064\n"
     ]
    },
    {
     "name": "stdout",
     "output_type": "stream",
     "text": [
      "\n",
      "\n",
      "  0%|                                                                                 | 0/437 [00:00<?, ?KB/s]\u001B[A\n",
      "  7%|█████▏                                                                 | 32/437 [00:00<00:01, 294.51KB/s]\u001B[A\n",
      "438KB [00:00, 1522.90KB/s]                                                                                    \u001B[A"
     ]
    },
    {
     "name": "stderr",
     "output_type": "stream",
     "text": [
      "Downloading DESI Legacy Survey DR10 photometry:  21%|████▉                   | 31/150 [03:46<16:52,  8.51s/it][EveryStamp:LegacyDownloader] 2025-02-10 11:47:27,901 - INFO: Downloading cutout from https://www.legacysurvey.org/viewer/jpeg-cutout/?ra=36.843741&dec=-3.361906&layer=ls-dr10&pixscale=0.524&bands=griz&size=783\n"
     ]
    },
    {
     "name": "stdout",
     "output_type": "stream",
     "text": [
      "\n",
      "\n",
      "  0%|                                                                                 | 0/238 [00:00<?, ?KB/s]\u001B[A\n",
      " 13%|█████████▌                                                             | 32/238 [00:00<00:00, 294.02KB/s]\u001B[A\n",
      "239KB [00:00, 554.37KB/s]                                                                                     \u001B[A"
     ]
    },
    {
     "name": "stderr",
     "output_type": "stream",
     "text": [
      "Downloading DESI Legacy Survey DR10 photometry:  21%|█████                   | 32/150 [03:54<16:30,  8.39s/it][EveryStamp:LegacyDownloader] 2025-02-10 11:47:36,032 - INFO: Downloading cutout from https://www.legacysurvey.org/viewer/jpeg-cutout/?ra=37.655177&dec=-4.991535&layer=ls-dr10&pixscale=0.524&bands=griz&size=846\n"
     ]
    },
    {
     "name": "stdout",
     "output_type": "stream",
     "text": [
      "\n",
      "\n",
      "  0%|                                                                                 | 0/297 [00:00<?, ?KB/s]\u001B[A\n",
      " 11%|███████▋                                                               | 32/297 [00:00<00:00, 298.57KB/s]\u001B[A\n",
      "298KB [00:00, 990.56KB/s]                                                                                     \u001B[A"
     ]
    },
    {
     "name": "stderr",
     "output_type": "stream",
     "text": [
      "Downloading DESI Legacy Survey DR10 photometry:  22%|█████▎                  | 33/150 [04:07<18:45,  9.62s/it][EveryStamp:LegacyDownloader] 2025-02-10 11:47:48,498 - INFO: Downloading cutout from https://www.legacysurvey.org/viewer/jpeg-cutout/?ra=37.927216&dec=-4.881811&layer=ls-dr10&pixscale=0.524&bands=griz&size=1208\n"
     ]
    },
    {
     "name": "stdout",
     "output_type": "stream",
     "text": [
      "\n",
      "\n",
      "  0%|                                                                                 | 0/579 [00:00<?, ?KB/s]\u001B[A\n",
      "  6%|███▉                                                                    | 32/579 [00:00<00:08, 61.75KB/s]\u001B[A\n",
      " 32%|██████████████████████▋                                               | 188/579 [00:00<00:01, 374.32KB/s]\u001B[A\n",
      "580KB [00:00, 677.58KB/s]                                                                                     \u001B[A"
     ]
    },
    {
     "name": "stderr",
     "output_type": "stream",
     "text": [
      "Downloading DESI Legacy Survey DR10 photometry:  23%|█████▍                  | 34/150 [04:15<17:38,  9.13s/it][EveryStamp:LegacyDownloader] 2025-02-10 11:47:56,487 - INFO: Downloading cutout from https://www.legacysurvey.org/viewer/jpeg-cutout/?ra=42.013961&dec=-3.528733&layer=ls-dr10&pixscale=0.524&bands=griz&size=1212\n"
     ]
    },
    {
     "name": "stdout",
     "output_type": "stream",
     "text": [
      "\n",
      "\n",
      "  0%|                                                                                 | 0/578 [00:00<?, ?KB/s]\u001B[A\n",
      "  1%|█                                                                        | 8/578 [00:00<00:07, 77.45KB/s]\u001B[A\n",
      " 14%|█████████▊                                                             | 80/578 [00:00<00:01, 419.24KB/s]\u001B[A\n",
      "579KB [00:00, 1602.03KB/s]                                                                                    \u001B[A"
     ]
    },
    {
     "name": "stderr",
     "output_type": "stream",
     "text": [
      "Downloading DESI Legacy Survey DR10 photometry:  23%|█████▌                  | 35/150 [04:23<16:50,  8.78s/it][EveryStamp:LegacyDownloader] 2025-02-10 11:48:04,473 - INFO: Downloading cutout from https://www.legacysurvey.org/viewer/jpeg-cutout/?ra=42.049814&dec=-2.273609&layer=ls-dr10&pixscale=0.524&bands=griz&size=1022\n"
     ]
    },
    {
     "name": "stdout",
     "output_type": "stream",
     "text": [
      "\n",
      "\n",
      "  0%|                                                                                 | 0/427 [00:00<?, ?KB/s]\u001B[A\n",
      "  7%|█████▎                                                                 | 32/427 [00:00<00:01, 307.72KB/s]\u001B[A\n",
      " 24%|█████████████████                                                     | 104/427 [00:00<00:00, 546.24KB/s]\u001B[A\n",
      "428KB [00:00, 937.63KB/s]                                                                                     \u001B[A"
     ]
    },
    {
     "name": "stderr",
     "output_type": "stream",
     "text": [
      "Downloading DESI Legacy Survey DR10 photometry:  24%|█████▊                  | 36/150 [04:29<15:09,  7.98s/it][EveryStamp:LegacyDownloader] 2025-02-10 11:48:10,574 - INFO: Downloading cutout from https://www.legacysurvey.org/viewer/jpeg-cutout/?ra=113.084440&dec=31.630877&layer=ls-dr10&pixscale=0.524&bands=griz&size=1254\n"
     ]
    },
    {
     "name": "stdout",
     "output_type": "stream",
     "text": [
      "\n",
      "\n",
      "  0%|                                                                                 | 0/666 [00:00<?, ?KB/s]\u001B[A\n",
      "  5%|███▍                                                                   | 32/666 [00:00<00:02, 274.54KB/s]\u001B[A\n",
      "667KB [00:00, 1680.52KB/s]                                                                                    \u001B[A"
     ]
    },
    {
     "name": "stderr",
     "output_type": "stream",
     "text": [
      "Downloading DESI Legacy Survey DR10 photometry:  25%|█████▉                  | 37/150 [04:35<14:05,  7.49s/it][EveryStamp:LegacyDownloader] 2025-02-10 11:48:16,904 - INFO: Downloading cutout from https://www.legacysurvey.org/viewer/jpeg-cutout/?ra=117.709040&dec=17.695770&layer=ls-dr10&pixscale=0.524&bands=griz&size=1235\n"
     ]
    },
    {
     "name": "stdout",
     "output_type": "stream",
     "text": [
      "\n",
      "\n",
      "  0%|                                                                                 | 0/773 [00:00<?, ?KB/s]\u001B[A\n",
      "  4%|██▉                                                                    | 32/773 [00:00<00:03, 206.96KB/s]\u001B[A\n",
      " 10%|███████▎                                                               | 80/773 [00:00<00:03, 208.68KB/s]\u001B[A\n",
      " 34%|███████████████████████▌                                              | 260/773 [00:00<00:00, 616.61KB/s]\u001B[A\n",
      " 47%|████████████████████████████████▉                                     | 364/773 [00:00<00:00, 638.63KB/s]\u001B[A\n",
      " 71%|█████████████████████████████████████████████████▉                    | 551/773 [00:00<00:00, 954.40KB/s]\u001B[A\n",
      "774KB [00:01, 713.05KB/s]                                                                                     \u001B[A"
     ]
    },
    {
     "name": "stderr",
     "output_type": "stream",
     "text": [
      "Downloading DESI Legacy Survey DR10 photometry:  25%|██████                  | 38/150 [04:42<13:39,  7.31s/it][EveryStamp:LegacyDownloader] 2025-02-10 11:48:23,815 - INFO: Downloading cutout from https://www.legacysurvey.org/viewer/jpeg-cutout/?ra=125.826970&dec=15.966130&layer=ls-dr10&pixscale=0.524&bands=griz&size=1409\n"
     ]
    },
    {
     "name": "stdout",
     "output_type": "stream",
     "text": [
      "\n",
      "\n",
      "  0%|                                                                                | 0/1035 [00:00<?, ?KB/s]\u001B[A\n",
      "  3%|██▏                                                                   | 32/1035 [00:00<00:03, 316.73KB/s]\u001B[A\n",
      " 17%|███████████▍                                                         | 172/1035 [00:00<00:00, 881.65KB/s]\u001B[A\n",
      " 26%|█████████████████▊                                                   | 268/1035 [00:00<00:00, 783.05KB/s]\u001B[A\n",
      " 46%|███████████████████████████████▎                                    | 476/1035 [00:00<00:00, 1058.06KB/s]\u001B[A\n",
      " 68%|██████████████████████████████████████████████▎                     | 704/1035 [00:00<00:00, 1328.76KB/s]\u001B[A\n",
      "1036KB [00:00, 1331.29KB/s]                                                                                   \u001B[A"
     ]
    },
    {
     "name": "stderr",
     "output_type": "stream",
     "text": [
      "Downloading DESI Legacy Survey DR10 photometry:  26%|██████▏                 | 39/150 [04:54<16:17,  8.80s/it][EveryStamp:LegacyDownloader] 2025-02-10 11:48:36,098 - INFO: Downloading cutout from https://www.legacysurvey.org/viewer/jpeg-cutout/?ra=126.054480&dec=30.076932&layer=ls-dr10&pixscale=0.524&bands=griz&size=822\n"
     ]
    },
    {
     "name": "stdout",
     "output_type": "stream",
     "text": [
      "\n",
      "\n",
      "  0%|                                                                                 | 0/338 [00:00<?, ?KB/s]\u001B[A\n",
      "  9%|██████▋                                                                | 32/338 [00:00<00:01, 169.23KB/s]\u001B[A\n",
      "339KB [00:00, 1056.71KB/s]                                                                                    \u001B[A"
     ]
    },
    {
     "name": "stderr",
     "output_type": "stream",
     "text": [
      "Downloading DESI Legacy Survey DR10 photometry:  27%|██████▍                 | 40/150 [04:57<12:52,  7.02s/it][EveryStamp:LegacyDownloader] 2025-02-10 11:48:38,957 - INFO: Downloading cutout from https://www.legacysurvey.org/viewer/jpeg-cutout/?ra=126.489460&dec=4.246014&layer=ls-dr10&pixscale=0.524&bands=griz&size=1022\n"
     ]
    },
    {
     "name": "stdout",
     "output_type": "stream",
     "text": [
      "\n",
      "\n",
      "  0%|                                                                                 | 0/518 [00:00<?, ?KB/s]\u001B[A\n",
      "  6%|████▍                                                                  | 32/518 [00:00<00:01, 303.56KB/s]\u001B[A\n",
      " 34%|███████████████████████▊                                              | 176/518 [00:00<00:00, 887.75KB/s]\u001B[A\n",
      "519KB [00:00, 1448.67KB/s]                                                                                    \u001B[A"
     ]
    },
    {
     "name": "stderr",
     "output_type": "stream",
     "text": [
      "Downloading DESI Legacy Survey DR10 photometry:  27%|██████▌                 | 41/150 [05:01<11:09,  6.14s/it][EveryStamp:LegacyDownloader] 2025-02-10 11:48:43,037 - INFO: Downloading cutout from https://www.legacysurvey.org/viewer/jpeg-cutout/?ra=130.740060&dec=36.365002&layer=ls-dr10&pixscale=0.524&bands=griz&size=863\n"
     ]
    },
    {
     "name": "stdout",
     "output_type": "stream",
     "text": [
      "\n",
      "\n",
      "  0%|                                                                                 | 0/302 [00:00<?, ?KB/s]\u001B[A\n",
      " 11%|███████▊                                                                | 33/302 [00:00<00:03, 69.13KB/s]\u001B[A\n",
      "303KB [00:00, 504.09KB/s]                                                                                     \u001B[A"
     ]
    },
    {
     "name": "stderr",
     "output_type": "stream",
     "text": [
      "Downloading DESI Legacy Survey DR10 photometry:  28%|██████▋                 | 42/150 [05:08<11:21,  6.31s/it][EveryStamp:LegacyDownloader] 2025-02-10 11:48:49,762 - INFO: Downloading cutout from https://www.legacysurvey.org/viewer/jpeg-cutout/?ra=132.611250&dec=0.251749&layer=ls-dr10&pixscale=0.524&bands=griz&size=1164\n"
     ]
    },
    {
     "name": "stdout",
     "output_type": "stream",
     "text": [
      "\n",
      "\n",
      "  0%|                                                                                 | 0/673 [00:00<?, ?KB/s]\u001B[A\n",
      "  5%|███▍                                                                   | 32/673 [00:00<00:06, 101.71KB/s]\u001B[A\n",
      " 26%|██████████████████▎                                                   | 176/673 [00:00<00:01, 439.01KB/s]\u001B[A\n",
      "674KB [00:00, 1051.30KB/s]                                                                                    \u001B[A"
     ]
    },
    {
     "name": "stderr",
     "output_type": "stream",
     "text": [
      "Downloading DESI Legacy Survey DR10 photometry:  29%|██████▉                 | 43/150 [05:14<11:15,  6.31s/it][EveryStamp:LegacyDownloader] 2025-02-10 11:48:56,066 - INFO: Downloading cutout from https://www.legacysurvey.org/viewer/jpeg-cutout/?ra=133.232060&dec=17.963690&layer=ls-dr10&pixscale=0.524&bands=griz&size=1152\n"
     ]
    },
    {
     "name": "stdout",
     "output_type": "stream",
     "text": [
      "\n",
      "\n",
      "  0%|                                                                                 | 0/598 [00:00<?, ?KB/s]\u001B[A\n",
      "  5%|███▊                                                                   | 32/598 [00:00<00:01, 304.04KB/s]\u001B[A\n",
      " 29%|████████████████████▌                                                 | 176/598 [00:00<00:00, 885.19KB/s]\u001B[A\n",
      "599KB [00:00, 1532.68KB/s]                                                                                    \u001B[A"
     ]
    },
    {
     "name": "stderr",
     "output_type": "stream",
     "text": [
      "Downloading DESI Legacy Survey DR10 photometry:  29%|███████                 | 44/150 [05:24<13:07,  7.43s/it][EveryStamp:LegacyDownloader] 2025-02-10 11:49:06,109 - INFO: Downloading cutout from https://www.legacysurvey.org/viewer/jpeg-cutout/?ra=134.169930&dec=5.895333&layer=ls-dr10&pixscale=0.524&bands=griz&size=2061\n"
     ]
    },
    {
     "name": "stdout",
     "output_type": "stream",
     "text": [
      "\n",
      "\n",
      "  0%|                                                                                | 0/2326 [00:00<?, ?KB/s]\u001B[A\n",
      "  1%|▉                                                                     | 32/2326 [00:00<00:14, 161.05KB/s]\u001B[A\n",
      "  7%|████▌                                                                | 152/2326 [00:00<00:03, 552.15KB/s]\u001B[A\n",
      " 13%|█████████▎                                                           | 312/2326 [00:00<00:02, 875.30KB/s]\u001B[A\n",
      " 21%|██████████████▎                                                     | 488/2326 [00:00<00:01, 1095.80KB/s]\u001B[A\n",
      " 29%|███████████████████▉                                                | 680/2326 [00:00<00:01, 1239.86KB/s]\u001B[A\n",
      " 35%|████████████████████████                                             | 810/2326 [00:00<00:01, 915.87KB/s]\u001B[A\n",
      " 43%|████████████████████████████▉                                      | 1004/2326 [00:01<00:01, 1054.22KB/s]\u001B[A\n",
      " 54%|████████████████████████████████████                               | 1252/2326 [00:01<00:00, 1121.97KB/s]\u001B[A\n",
      " 66%|███████████████████████████████████████████▉                       | 1524/2326 [00:01<00:00, 1406.87KB/s]\u001B[A\n",
      " 75%|██████████████████████████████████████████████████▌                | 1756/2326 [00:01<00:00, 1592.55KB/s]\u001B[A\n",
      "2327KB [00:01, 1395.08KB/s]                                                                                   \u001B[A"
     ]
    },
    {
     "name": "stderr",
     "output_type": "stream",
     "text": [
      "Downloading DESI Legacy Survey DR10 photometry:  30%|███████▏                | 45/150 [05:37<15:55,  9.10s/it]"
     ]
    },
    {
     "name": "stdout",
     "output_type": "stream",
     "text": [
      "\n"
     ]
    },
    {
     "name": "stderr",
     "output_type": "stream",
     "text": [
      "[EveryStamp:LegacyDownloader] 2025-02-10 11:49:19,096 - INFO: Downloading cutout from https://www.legacysurvey.org/viewer/jpeg-cutout/?ra=135.153520&dec=20.894612&layer=ls-dr10&pixscale=0.524&bands=griz&size=967\n"
     ]
    },
    {
     "name": "stdout",
     "output_type": "stream",
     "text": [
      "\n",
      "  0%|                                                                                 | 0/433 [00:00<?, ?KB/s]\u001B[A\n",
      "  2%|█▎                                                                       | 8/433 [00:00<00:25, 16.89KB/s]\u001B[A\n",
      " 19%|█████████████▎                                                         | 81/433 [00:00<00:01, 176.91KB/s]\u001B[A\n",
      "434KB [00:01, 410.13KB/s]                                                                                     \u001B[A"
     ]
    },
    {
     "name": "stderr",
     "output_type": "stream",
     "text": [
      "Downloading DESI Legacy Survey DR10 photometry:  31%|███████▎                | 46/150 [05:42<13:28,  7.78s/it][EveryStamp:LegacyDownloader] 2025-02-10 11:49:23,786 - INFO: Downloading cutout from https://www.legacysurvey.org/viewer/jpeg-cutout/?ra=137.218980&dec=28.861933&layer=ls-dr10&pixscale=0.524&bands=griz&size=965\n"
     ]
    },
    {
     "name": "stdout",
     "output_type": "stream",
     "text": [
      "\n",
      "\n",
      "  0%|                                                                                 | 0/452 [00:00<?, ?KB/s]\u001B[A\n",
      "  7%|█████                                                                  | 32/452 [00:00<00:01, 318.83KB/s]\u001B[A\n",
      " 39%|███████████████████████████▎                                          | 176/452 [00:00<00:00, 341.53KB/s]\u001B[A\n",
      "453KB [00:01, 432.54KB/s]                                                                                     \u001B[A"
     ]
    },
    {
     "name": "stderr",
     "output_type": "stream",
     "text": [
      "Downloading DESI Legacy Survey DR10 photometry:  31%|███████▌                | 47/150 [05:53<14:59,  8.73s/it][EveryStamp:LegacyDownloader] 2025-02-10 11:49:34,749 - INFO: Downloading cutout from https://www.legacysurvey.org/viewer/jpeg-cutout/?ra=137.302060&dec=10.975335&layer=ls-dr10&pixscale=0.524&bands=griz&size=1314\n"
     ]
    },
    {
     "name": "stdout",
     "output_type": "stream",
     "text": [
      "\n",
      "\n",
      "  0%|                                                                                 | 0/809 [00:00<?, ?KB/s]\u001B[A\n",
      "  5%|███▊                                                                   | 44/809 [00:00<00:02, 282.02KB/s]\u001B[A\n",
      " 27%|███████████████████                                                   | 220/809 [00:00<00:01, 563.51KB/s]\u001B[A\n",
      "810KB [00:00, 1455.54KB/s]                                                                                    \u001B[A"
     ]
    },
    {
     "name": "stderr",
     "output_type": "stream",
     "text": [
      "Downloading DESI Legacy Survey DR10 photometry:  32%|███████▋                | 48/150 [06:01<14:21,  8.45s/it][EveryStamp:LegacyDownloader] 2025-02-10 11:49:42,543 - INFO: Downloading cutout from https://www.legacysurvey.org/viewer/jpeg-cutout/?ra=139.467740&dec=51.725738&layer=ls-dr10&pixscale=0.524&bands=griz&size=1049\n"
     ]
    },
    {
     "name": "stdout",
     "output_type": "stream",
     "text": [
      "\n",
      "\n",
      "  0%|                                                                                 | 0/472 [00:00<?, ?KB/s]\u001B[A\n",
      "  7%|████▊                                                                  | 32/472 [00:00<00:02, 208.24KB/s]\u001B[A\n",
      "473KB [00:00, 1417.42KB/s]                                                                                    \u001B[A"
     ]
    },
    {
     "name": "stderr",
     "output_type": "stream",
     "text": [
      "Downloading DESI Legacy Survey DR10 photometry:  33%|███████▊                | 49/150 [06:03<11:14,  6.68s/it][EveryStamp:LegacyDownloader] 2025-02-10 11:49:45,076 - INFO: Downloading cutout from https://www.legacysurvey.org/viewer/jpeg-cutout/?ra=140.077520&dec=37.106190&layer=ls-dr10&pixscale=0.524&bands=griz&size=1020\n"
     ]
    },
    {
     "name": "stdout",
     "output_type": "stream",
     "text": [
      "\n",
      "\n",
      "  0%|                                                                                 | 0/413 [00:00<?, ?KB/s]\u001B[A\n",
      "  8%|█████▌                                                                 | 32/413 [00:00<00:01, 296.60KB/s]\u001B[A\n",
      " 42%|█████████████████████████████▏                                        | 172/413 [00:00<00:00, 864.55KB/s]\u001B[A\n",
      "414KB [00:00, 1005.92KB/s]                                                                                    \u001B[A"
     ]
    },
    {
     "name": "stderr",
     "output_type": "stream",
     "text": [
      "Downloading DESI Legacy Survey DR10 photometry:  33%|████████                | 50/150 [06:06<09:18,  5.59s/it]"
     ]
    },
    {
     "name": "stdout",
     "output_type": "stream",
     "text": [
      "\n"
     ]
    },
    {
     "name": "stderr",
     "output_type": "stream",
     "text": [
      "[EveryStamp:LegacyDownloader] 2025-02-10 11:49:48,125 - INFO: Downloading cutout from https://www.legacysurvey.org/viewer/jpeg-cutout/?ra=140.088690&dec=30.504042&layer=ls-dr10&pixscale=0.524&bands=griz&size=846\n"
     ]
    },
    {
     "name": "stdout",
     "output_type": "stream",
     "text": [
      "\n",
      "  0%|                                                                                 | 0/392 [00:00<?, ?KB/s]\u001B[A\n",
      "  8%|█████▊                                                                 | 32/392 [00:00<00:03, 100.35KB/s]\u001B[A\n",
      "393KB [00:00, 792.90KB/s]                                                                                     \u001B[A"
     ]
    },
    {
     "name": "stderr",
     "output_type": "stream",
     "text": [
      "Downloading DESI Legacy Survey DR10 photometry:  34%|████████▏               | 51/150 [06:15<10:43,  6.50s/it][EveryStamp:LegacyDownloader] 2025-02-10 11:49:56,746 - INFO: Downloading cutout from https://www.legacysurvey.org/viewer/jpeg-cutout/?ra=140.219120&dec=30.467650&layer=ls-dr10&pixscale=0.524&bands=griz&size=868\n"
     ]
    },
    {
     "name": "stdout",
     "output_type": "stream",
     "text": [
      "\n",
      "\n",
      "  0%|                                                                                 | 0/444 [00:00<?, ?KB/s]\u001B[A\n",
      "  7%|█████▎                                                                 | 33/444 [00:00<00:01, 266.83KB/s]\u001B[A\n",
      "445KB [00:00, 1465.30KB/s]                                                                                    \u001B[A"
     ]
    },
    {
     "name": "stderr",
     "output_type": "stream",
     "text": [
      "Downloading DESI Legacy Survey DR10 photometry:  35%|████████▎               | 52/150 [06:18<09:02,  5.53s/it][EveryStamp:LegacyDownloader] 2025-02-10 11:50:00,032 - INFO: Downloading cutout from https://www.legacysurvey.org/viewer/jpeg-cutout/?ra=143.037730&dec=29.083735&layer=ls-dr10&pixscale=0.524&bands=griz&size=856\n"
     ]
    },
    {
     "name": "stdout",
     "output_type": "stream",
     "text": [
      "\n",
      "\n",
      "  0%|                                                                                 | 0/378 [00:00<?, ?KB/s]\u001B[A\n",
      "  8%|██████                                                                 | 32/378 [00:00<00:01, 263.89KB/s]\u001B[A\n",
      "379KB [00:00, 1276.07KB/s]                                                                                    \u001B[A"
     ]
    },
    {
     "name": "stderr",
     "output_type": "stream",
     "text": [
      "Downloading DESI Legacy Survey DR10 photometry:  35%|████████▍               | 53/150 [06:26<09:45,  6.03s/it][EveryStamp:LegacyDownloader] 2025-02-10 11:50:07,234 - INFO: Downloading cutout from https://www.legacysurvey.org/viewer/jpeg-cutout/?ra=145.935620&dec=16.739341&layer=ls-dr10&pixscale=0.524&bands=griz&size=1230\n"
     ]
    },
    {
     "name": "stdout",
     "output_type": "stream",
     "text": [
      "\n",
      "\n",
      "  0%|                                                                                 | 0/751 [00:00<?, ?KB/s]\u001B[A\n",
      "  1%|▊                                                                        | 8/751 [00:00<00:14, 50.27KB/s]\u001B[A\n",
      " 11%|███████▌                                                               | 80/751 [00:00<00:01, 336.30KB/s]\u001B[A\n",
      " 51%|██████████████████████████████████▉                                  | 380/751 [00:00<00:00, 1262.21KB/s]\u001B[A\n",
      "752KB [00:00, 1349.73KB/s]                                                                                    \u001B[A"
     ]
    },
    {
     "name": "stderr",
     "output_type": "stream",
     "text": [
      "Downloading DESI Legacy Survey DR10 photometry:  36%|████████▋               | 54/150 [06:29<08:37,  5.39s/it][EveryStamp:LegacyDownloader] 2025-02-10 11:50:11,136 - INFO: Downloading cutout from https://www.legacysurvey.org/viewer/jpeg-cutout/?ra=146.378360&dec=9.775783&layer=ls-dr10&pixscale=0.524&bands=griz&size=1011\n"
     ]
    },
    {
     "name": "stdout",
     "output_type": "stream",
     "text": [
      "\n",
      "\n",
      "  0%|                                                                                 | 0/516 [00:00<?, ?KB/s]\u001B[A\n",
      "  6%|████▍                                                                  | 32/516 [00:00<00:01, 308.66KB/s]\u001B[A\n",
      "517KB [00:00, 1698.62KB/s]                                                                                    \u001B[A\n"
     ]
    },
    {
     "name": "stderr",
     "output_type": "stream",
     "text": [
      "Downloading DESI Legacy Survey DR10 photometry:  37%|████████▊               | 55/150 [06:34<08:06,  5.12s/it][EveryStamp:LegacyDownloader] 2025-02-10 11:50:15,633 - INFO: Downloading cutout from https://www.legacysurvey.org/viewer/jpeg-cutout/?ra=150.223430&dec=15.675857&layer=ls-dr10&pixscale=0.524&bands=griz&size=833\n"
     ]
    },
    {
     "name": "stdout",
     "output_type": "stream",
     "text": [
      "\n",
      "  0%|                                                                                 | 0/337 [00:00<?, ?KB/s]\u001B[A\n",
      "  9%|██████▋                                                                | 32/337 [00:00<00:01, 281.39KB/s]\u001B[A\n",
      "338KB [00:00, 1340.60KB/s]                                                                                    \u001B[A"
     ]
    },
    {
     "name": "stderr",
     "output_type": "stream",
     "text": [
      "Downloading DESI Legacy Survey DR10 photometry:  37%|████████▉               | 56/150 [06:39<07:57,  5.08s/it][EveryStamp:LegacyDownloader] 2025-02-10 11:50:20,601 - INFO: Downloading cutout from https://www.legacysurvey.org/viewer/jpeg-cutout/?ra=150.614940&dec=20.517270&layer=ls-dr10&pixscale=0.524&bands=griz&size=813\n"
     ]
    },
    {
     "name": "stdout",
     "output_type": "stream",
     "text": [
      "\n",
      "\n",
      "  0%|                                                                                 | 0/373 [00:00<?, ?KB/s]\u001B[A\n",
      "  9%|██████                                                                 | 32/373 [00:00<00:01, 204.04KB/s]\u001B[A\n",
      "374KB [00:00, 971.16KB/s]                                                                                     \u001B[A"
     ]
    },
    {
     "name": "stderr",
     "output_type": "stream",
     "text": [
      "Downloading DESI Legacy Survey DR10 photometry:  38%|█████████               | 57/150 [06:42<07:08,  4.61s/it][EveryStamp:LegacyDownloader] 2025-02-10 11:50:24,111 - INFO: Downloading cutout from https://www.legacysurvey.org/viewer/jpeg-cutout/?ra=151.926790&dec=38.012805&layer=ls-dr10&pixscale=0.524&bands=griz&size=1982\n"
     ]
    },
    {
     "name": "stdout",
     "output_type": "stream",
     "text": [
      "\n",
      "\n",
      "  0%|                                                                                | 0/1669 [00:00<?, ?KB/s]\u001B[A\n",
      "  2%|█▍                                                                    | 33/1669 [00:00<00:05, 280.60KB/s]\u001B[A\n",
      " 11%|███████▎                                                             | 176/1669 [00:00<00:01, 897.79KB/s]\u001B[A\n",
      " 27%|██████████████████                                                  | 444/1669 [00:00<00:00, 1556.01KB/s]\u001B[A\n",
      " 42%|████████████████████████████▋                                       | 704/1669 [00:00<00:00, 1514.66KB/s]\u001B[A\n",
      " 63%|██████████████████████████████████████████▏                        | 1052/1669 [00:00<00:00, 1998.21KB/s]\u001B[A\n",
      "1670KB [00:00, 2090.24KB/s]                                                                                   \u001B[A"
     ]
    },
    {
     "name": "stderr",
     "output_type": "stream",
     "text": [
      "Downloading DESI Legacy Survey DR10 photometry:  39%|█████████▎              | 58/150 [06:56<10:58,  7.16s/it][EveryStamp:LegacyDownloader] 2025-02-10 11:50:37,236 - INFO: Downloading cutout from https://www.legacysurvey.org/viewer/jpeg-cutout/?ra=154.264270&dec=39.047269&layer=ls-dr10&pixscale=0.524&bands=griz&size=1133\n"
     ]
    },
    {
     "name": "stdout",
     "output_type": "stream",
     "text": [
      "\n",
      "\n",
      "  0%|                                                                                 | 0/554 [00:00<?, ?KB/s]\u001B[A\n",
      "  6%|████                                                                   | 32/554 [00:00<00:01, 267.96KB/s]\u001B[A\n",
      " 32%|██████████████████████▏                                               | 176/554 [00:00<00:00, 799.36KB/s]\u001B[A\n",
      "555KB [00:00, 1103.26KB/s]                                                                                    \u001B[A"
     ]
    },
    {
     "name": "stderr",
     "output_type": "stream",
     "text": [
      "Downloading DESI Legacy Survey DR10 photometry:  39%|█████████▍              | 59/150 [07:02<10:22,  6.84s/it][EveryStamp:LegacyDownloader] 2025-02-10 11:50:43,334 - INFO: Downloading cutout from https://www.legacysurvey.org/viewer/jpeg-cutout/?ra=154.399960&dec=59.563959&layer=ls-dr10&pixscale=0.524&bands=griz&size=879\n"
     ]
    },
    {
     "name": "stdout",
     "output_type": "stream",
     "text": [
      "\n",
      "\n",
      "  0%|                                                                                 | 0/335 [00:00<?, ?KB/s]\u001B[A\n",
      " 10%|██████▊                                                                | 32/335 [00:00<00:01, 299.90KB/s]\u001B[A\n",
      " 24%|████████████████▉                                                      | 80/335 [00:00<00:01, 164.10KB/s]\u001B[A\n",
      "336KB [00:00, 418.93KB/s]                                                                                     \u001B[A"
     ]
    },
    {
     "name": "stderr",
     "output_type": "stream",
     "text": [
      "Downloading DESI Legacy Survey DR10 photometry:  40%|█████████▌              | 60/150 [07:08<10:12,  6.81s/it][EveryStamp:LegacyDownloader] 2025-02-10 11:50:50,059 - INFO: Downloading cutout from https://www.legacysurvey.org/viewer/jpeg-cutout/?ra=155.915680&dec=4.187584&layer=ls-dr10&pixscale=0.524&bands=griz&size=873\n"
     ]
    },
    {
     "name": "stdout",
     "output_type": "stream",
     "text": [
      "\n",
      "\n",
      "  0%|                                                                                 | 0/370 [00:00<?, ?KB/s]\u001B[A\n",
      "  9%|██████▏                                                                | 32/370 [00:00<00:01, 283.49KB/s]\u001B[A\n",
      " 46%|████████████████████████████████▌                                     | 172/370 [00:00<00:00, 865.81KB/s]\u001B[A\n",
      "371KB [00:00, 879.12KB/s]                                                                                     \u001B[A"
     ]
    },
    {
     "name": "stderr",
     "output_type": "stream",
     "text": [
      "Downloading DESI Legacy Survey DR10 photometry:  41%|█████████▊              | 61/150 [07:13<09:10,  6.18s/it]"
     ]
    },
    {
     "name": "stdout",
     "output_type": "stream",
     "text": [
      "\n"
     ]
    },
    {
     "name": "stderr",
     "output_type": "stream",
     "text": [
      "[EveryStamp:LegacyDownloader] 2025-02-10 11:50:54,777 - INFO: Downloading cutout from https://www.legacysurvey.org/viewer/jpeg-cutout/?ra=159.505060&dec=41.772190&layer=ls-dr10&pixscale=0.524&bands=griz&size=1614\n"
     ]
    },
    {
     "name": "stdout",
     "output_type": "stream",
     "text": [
      "\n",
      "  0%|                                                                                | 0/1136 [00:00<?, ?KB/s]\u001B[A\n",
      "  3%|█▉                                                                    | 32/1136 [00:00<00:04, 255.81KB/s]\u001B[A\n",
      " 15%|██████████▋                                                          | 176/1136 [00:00<00:01, 838.00KB/s]\u001B[A\n",
      " 23%|███████████████▉                                                     | 263/1136 [00:00<00:01, 641.35KB/s]\u001B[A\n",
      " 33%|███████████████████████                                              | 380/1136 [00:00<00:00, 785.19KB/s]\u001B[A\n",
      " 53%|███████████████████████████████████▉                                | 600/1136 [00:00<00:00, 1134.59KB/s]\u001B[A\n",
      " 63%|███████████████████████████████████████████▋                         | 720/1136 [00:00<00:00, 990.67KB/s]\u001B[A\n",
      "1137KB [00:00, 1144.79KB/s]                                                                                   \u001B[A"
     ]
    },
    {
     "name": "stderr",
     "output_type": "stream",
     "text": [
      "Downloading DESI Legacy Survey DR10 photometry:  41%|█████████▉              | 62/150 [07:20<09:22,  6.39s/it][EveryStamp:LegacyDownloader] 2025-02-10 11:51:01,645 - INFO: Downloading cutout from https://www.legacysurvey.org/viewer/jpeg-cutout/?ra=160.184570&dec=39.953088&layer=ls-dr10&pixscale=0.524&bands=griz&size=1518\n"
     ]
    },
    {
     "name": "stdout",
     "output_type": "stream",
     "text": [
      "\n",
      "\n",
      "  0%|                                                                                 | 0/951 [00:00<?, ?KB/s]\u001B[A\n",
      "  3%|██▍                                                                    | 33/951 [00:00<00:03, 301.95KB/s]\u001B[A\n",
      " 19%|████████████▉                                                         | 176/951 [00:00<00:00, 800.49KB/s]\u001B[A\n",
      " 68%|███████████████████████████████████████████████                      | 648/951 [00:00<00:00, 2188.95KB/s]\u001B[A\n",
      "952KB [00:00, 1767.86KB/s]                                                                                    \u001B[A"
     ]
    },
    {
     "name": "stderr",
     "output_type": "stream",
     "text": [
      "Downloading DESI Legacy Survey DR10 photometry:  42%|██████████              | 63/150 [07:26<08:58,  6.19s/it][EveryStamp:LegacyDownloader] 2025-02-10 11:51:07,358 - INFO: Downloading cutout from https://www.legacysurvey.org/viewer/jpeg-cutout/?ra=161.440150&dec=4.340416&layer=ls-dr10&pixscale=0.524&bands=griz&size=1455\n"
     ]
    },
    {
     "name": "stdout",
     "output_type": "stream",
     "text": [
      "\n",
      "\n",
      "  0%|                                                                                 | 0/911 [00:00<?, ?KB/s]\u001B[A\n",
      "  4%|██▍                                                                    | 32/911 [00:00<00:03, 288.96KB/s]\u001B[A\n",
      " 19%|█████████████▌                                                        | 176/911 [00:00<00:01, 618.94KB/s]\u001B[A\n",
      "912KB [00:00, 2087.01KB/s]                                                                                    \u001B[A"
     ]
    },
    {
     "name": "stderr",
     "output_type": "stream",
     "text": [
      "Downloading DESI Legacy Survey DR10 photometry:  43%|██████████▏             | 64/150 [07:34<09:35,  6.69s/it][EveryStamp:LegacyDownloader] 2025-02-10 11:51:15,219 - INFO: Downloading cutout from https://www.legacysurvey.org/viewer/jpeg-cutout/?ra=161.850070&dec=15.243360&layer=ls-dr10&pixscale=0.524&bands=griz&size=1119\n"
     ]
    },
    {
     "name": "stdout",
     "output_type": "stream",
     "text": [
      "\n",
      "\n",
      "  0%|                                                                                 | 0/624 [00:00<?, ?KB/s]\u001B[A\n",
      "  5%|███▋                                                                   | 32/624 [00:00<00:01, 310.80KB/s]\u001B[A\n",
      "625KB [00:00, 2129.25KB/s]                                                                                    \u001B[A"
     ]
    },
    {
     "name": "stderr",
     "output_type": "stream",
     "text": [
      "Downloading DESI Legacy Survey DR10 photometry:  43%|██████████▍             | 65/150 [07:39<08:55,  6.30s/it][EveryStamp:LegacyDownloader] 2025-02-10 11:51:20,625 - INFO: Downloading cutout from https://www.legacysurvey.org/viewer/jpeg-cutout/?ra=164.230420&dec=6.976937&layer=ls-dr10&pixscale=0.524&bands=griz&size=814\n"
     ]
    },
    {
     "name": "stdout",
     "output_type": "stream",
     "text": [
      "\n",
      "\n",
      "  0%|                                                                                 | 0/311 [00:00<?, ?KB/s]\u001B[A\n",
      " 10%|███████▎                                                               | 32/311 [00:00<00:00, 314.88KB/s]\u001B[A\n",
      "312KB [00:00, 1102.51KB/s]                                                                                    \u001B[A"
     ]
    },
    {
     "name": "stderr",
     "output_type": "stream",
     "text": [
      "Downloading DESI Legacy Survey DR10 photometry:  44%|██████████▌             | 66/150 [07:42<07:19,  5.24s/it][EveryStamp:LegacyDownloader] 2025-02-10 11:51:23,372 - INFO: Downloading cutout from https://www.legacysurvey.org/viewer/jpeg-cutout/?ra=165.489000&dec=22.661791&layer=ls-dr10&pixscale=0.524&bands=griz&size=1036\n"
     ]
    },
    {
     "name": "stdout",
     "output_type": "stream",
     "text": [
      "\n",
      "\n",
      "  0%|                                                                                 | 0/522 [00:00<?, ?KB/s]\u001B[A\n",
      "  6%|████▎                                                                  | 32/522 [00:00<00:01, 281.45KB/s]\u001B[A\n",
      " 33%|███████████████████████                                               | 172/522 [00:00<00:00, 860.73KB/s]\u001B[A\n",
      "523KB [00:00, 1235.32KB/s]                                                                                    \u001B[A\n"
     ]
    },
    {
     "name": "stderr",
     "output_type": "stream",
     "text": [
      "Downloading DESI Legacy Survey DR10 photometry:  45%|██████████▋             | 67/150 [07:49<07:54,  5.72s/it][EveryStamp:LegacyDownloader] 2025-02-10 11:51:30,210 - INFO: Downloading cutout from https://www.legacysurvey.org/viewer/jpeg-cutout/?ra=168.222790&dec=13.444519&layer=ls-dr10&pixscale=0.524&bands=griz&size=1291\n"
     ]
    },
    {
     "name": "stdout",
     "output_type": "stream",
     "text": [
      "\n",
      "  0%|                                                                                 | 0/817 [00:00<?, ?KB/s]\u001B[A\n",
      "  4%|██▊                                                                    | 32/817 [00:00<00:02, 264.87KB/s]\u001B[A\n",
      " 10%|██████▉                                                                | 80/817 [00:00<00:03, 244.62KB/s]\u001B[A\n",
      " 32%|██████████████████████▌                                               | 264/817 [00:00<00:00, 727.89KB/s]\u001B[A\n",
      " 45%|███████████████████████████████▌                                      | 368/817 [00:00<00:00, 811.87KB/s]\u001B[A\n",
      "818KB [00:00, 1037.59KB/s]                                                                                    \u001B[A"
     ]
    },
    {
     "name": "stderr",
     "output_type": "stream",
     "text": [
      "Downloading DESI Legacy Survey DR10 photometry:  45%|██████████▉             | 68/150 [07:56<08:19,  6.09s/it][EveryStamp:LegacyDownloader] 2025-02-10 11:51:37,182 - INFO: Downloading cutout from https://www.legacysurvey.org/viewer/jpeg-cutout/?ra=170.229430&dec=43.305793&layer=ls-dr10&pixscale=0.524&bands=griz&size=1230\n"
     ]
    },
    {
     "name": "stdout",
     "output_type": "stream",
     "text": [
      "\n",
      "\n",
      "  0%|                                                                                 | 0/614 [00:00<?, ?KB/s]\u001B[A\n",
      "  5%|███▋                                                                   | 32/614 [00:00<00:02, 281.26KB/s]\u001B[A\n",
      " 28%|███████████████████▌                                                  | 172/614 [00:00<00:00, 842.12KB/s]\u001B[A\n",
      " 44%|██████████████████████████████▌                                       | 268/614 [00:00<00:00, 640.17KB/s]\u001B[A\n",
      " 61%|██████████████████████████████████████████▍                           | 372/614 [00:00<00:00, 736.65KB/s]\u001B[A\n",
      "615KB [00:00, 906.09KB/s]                                                                                     \u001B[A"
     ]
    },
    {
     "name": "stderr",
     "output_type": "stream",
     "text": [
      "Downloading DESI Legacy Survey DR10 photometry:  46%|███████████             | 69/150 [08:00<07:22,  5.46s/it][EveryStamp:LegacyDownloader] 2025-02-10 11:51:41,162 - INFO: Downloading cutout from https://www.legacysurvey.org/viewer/jpeg-cutout/?ra=174.098810&dec=7.227070&layer=ls-dr10&pixscale=0.524&bands=griz&size=1822\n"
     ]
    },
    {
     "name": "stdout",
     "output_type": "stream",
     "text": [
      "\n",
      "\n",
      "  0%|                                                                                | 0/1536 [00:00<?, ?KB/s]\u001B[A\n",
      "  2%|█▍                                                                    | 32/1536 [00:00<00:04, 309.62KB/s]\u001B[A\n",
      " 11%|███████▋                                                             | 172/1536 [00:00<00:01, 883.37KB/s]\u001B[A\n",
      " 24%|████████████████▎                                                   | 368/1536 [00:00<00:01, 1162.90KB/s]\u001B[A\n",
      " 38%|██████████████████████████                                          | 588/1536 [00:00<00:00, 1458.33KB/s]\u001B[A\n",
      " 48%|████████████████████████████████▍                                   | 733/1536 [00:00<00:00, 1135.55KB/s]\u001B[A\n",
      " 60%|████████████████████████████████████████▌                           | 916/1536 [00:00<00:00, 1293.22KB/s]\u001B[A\n",
      " 78%|███████████████████████████████████████████████████▉               | 1192/1536 [00:00<00:00, 1628.19KB/s]\u001B[A\n",
      "1537KB [00:01, 1397.84KB/s]                                                                                   \u001B[A"
     ]
    },
    {
     "name": "stderr",
     "output_type": "stream",
     "text": [
      "Downloading DESI Legacy Survey DR10 photometry:  47%|███████████▏            | 70/150 [08:12<10:12,  7.66s/it][EveryStamp:LegacyDownloader] 2025-02-10 11:51:53,948 - INFO: Downloading cutout from https://www.legacysurvey.org/viewer/jpeg-cutout/?ra=175.604010&dec=58.526312&layer=ls-dr10&pixscale=0.524&bands=griz&size=795\n"
     ]
    },
    {
     "name": "stdout",
     "output_type": "stream",
     "text": [
      "\n",
      "\n",
      "  0%|                                                                                 | 0/277 [00:00<?, ?KB/s]\u001B[A\n",
      " 12%|████████▏                                                              | 32/277 [00:00<00:00, 290.44KB/s]\u001B[A\n",
      "278KB [00:00, 1197.70KB/s]                                                                                    \u001B[A"
     ]
    },
    {
     "name": "stderr",
     "output_type": "stream",
     "text": [
      "Downloading DESI Legacy Survey DR10 photometry:  47%|███████████▎            | 71/150 [08:15<07:59,  6.07s/it][EveryStamp:LegacyDownloader] 2025-02-10 11:51:56,297 - INFO: Downloading cutout from https://www.legacysurvey.org/viewer/jpeg-cutout/?ra=177.259390&dec=22.414408&layer=ls-dr10&pixscale=0.524&bands=griz&size=1333\n"
     ]
    },
    {
     "name": "stdout",
     "output_type": "stream",
     "text": [
      "\n",
      "\n",
      "  0%|                                                                                 | 0/881 [00:00<?, ?KB/s]\u001B[A\n",
      "  5%|███▏                                                                   | 40/881 [00:00<00:02, 399.80KB/s]\u001B[A\n",
      " 20%|█████████████▉                                                        | 176/881 [00:00<00:01, 474.02KB/s]\u001B[A\n",
      "882KB [00:00, 1609.58KB/s]                                                                                    \u001B[A"
     ]
    },
    {
     "name": "stderr",
     "output_type": "stream",
     "text": [
      "Downloading DESI Legacy Survey DR10 photometry:  48%|███████████▌            | 72/150 [08:26<09:48,  7.54s/it][EveryStamp:LegacyDownloader] 2025-02-10 11:52:07,294 - INFO: Downloading cutout from https://www.legacysurvey.org/viewer/jpeg-cutout/?ra=178.825850&dec=23.406762&layer=ls-dr10&pixscale=0.524&bands=griz&size=1584\n"
     ]
    },
    {
     "name": "stdout",
     "output_type": "stream",
     "text": [
      "\n",
      "\n",
      "  0%|                                                                                | 0/1259 [00:00<?, ?KB/s]\u001B[A\n",
      "  3%|█▊                                                                    | 32/1259 [00:00<00:03, 307.45KB/s]\u001B[A\n",
      " 14%|█████████▋                                                           | 176/1259 [00:00<00:01, 746.38KB/s]\u001B[A\n",
      " 29%|████████████████████▏                                                | 368/1259 [00:00<00:00, 896.87KB/s]\u001B[A\n",
      "1260KB [00:00, 1795.86KB/s]                                                                                   \u001B[A"
     ]
    },
    {
     "name": "stderr",
     "output_type": "stream",
     "text": [
      "Downloading DESI Legacy Survey DR10 photometry:  49%|███████████▋            | 73/150 [08:36<10:50,  8.45s/it][EveryStamp:LegacyDownloader] 2025-02-10 11:52:17,870 - INFO: Downloading cutout from https://www.legacysurvey.org/viewer/jpeg-cutout/?ra=179.615960&dec=26.495390&layer=ls-dr10&pixscale=0.524&bands=griz&size=1536\n"
     ]
    },
    {
     "name": "stdout",
     "output_type": "stream",
     "text": [
      "\n",
      "\n",
      "  0%|                                                                                | 0/1188 [00:00<?, ?KB/s]\u001B[A\n",
      "  3%|█▉                                                                    | 32/1188 [00:00<00:03, 307.36KB/s]\u001B[A\n",
      " 15%|██████████▏                                                          | 176/1188 [00:00<00:01, 814.98KB/s]\u001B[A\n",
      " 38%|██████████████████████████                                          | 456/1188 [00:00<00:00, 1030.51KB/s]\u001B[A\n",
      " 55%|█████████████████████████████████████▏                              | 650/1188 [00:00<00:00, 1276.67KB/s]\u001B[A\n",
      " 69%|██████████████████████████████████████████████▉                     | 820/1188 [00:00<00:00, 1335.10KB/s]\u001B[A\n",
      "1189KB [00:00, 1342.14KB/s]                                                                                   \u001B[A"
     ]
    },
    {
     "name": "stderr",
     "output_type": "stream",
     "text": [
      "Downloading DESI Legacy Survey DR10 photometry:  49%|███████████▊            | 74/150 [08:49<12:20,  9.74s/it][EveryStamp:LegacyDownloader] 2025-02-10 11:52:30,614 - INFO: Downloading cutout from https://www.legacysurvey.org/viewer/jpeg-cutout/?ra=180.928310&dec=44.085170&layer=ls-dr10&pixscale=0.524&bands=griz&size=793\n"
     ]
    },
    {
     "name": "stdout",
     "output_type": "stream",
     "text": [
      "\n",
      "\n",
      "  0%|                                                                                 | 0/261 [00:00<?, ?KB/s]\u001B[A\n",
      " 12%|████████▋                                                              | 32/261 [00:00<00:00, 278.61KB/s]\u001B[A\n",
      "262KB [00:00, 1076.24KB/s]                                                                                    \u001B[A"
     ]
    },
    {
     "name": "stderr",
     "output_type": "stream",
     "text": [
      "Downloading DESI Legacy Survey DR10 photometry:  50%|████████████            | 75/150 [08:53<10:01,  8.03s/it][EveryStamp:LegacyDownloader] 2025-02-10 11:52:34,640 - INFO: Downloading cutout from https://www.legacysurvey.org/viewer/jpeg-cutout/?ra=180.969140&dec=1.791688&layer=ls-dr10&pixscale=0.524&bands=griz&size=1001\n"
     ]
    },
    {
     "name": "stdout",
     "output_type": "stream",
     "text": [
      "\n",
      "\n",
      "  0%|                                                                                 | 0/431 [00:00<?, ?KB/s]\u001B[A\n",
      "  8%|█████▉                                                                 | 36/431 [00:00<00:01, 359.35KB/s]\u001B[A\n",
      "432KB [00:00, 1552.02KB/s]                                                                                    \u001B[A"
     ]
    },
    {
     "name": "stderr",
     "output_type": "stream",
     "text": [
      "Downloading DESI Legacy Survey DR10 photometry:  51%|████████████▏           | 76/150 [08:57<08:19,  6.75s/it][EveryStamp:LegacyDownloader] 2025-02-10 11:52:38,403 - INFO: Downloading cutout from https://www.legacysurvey.org/viewer/jpeg-cutout/?ra=181.160760&dec=35.375998&layer=ls-dr10&pixscale=0.524&bands=griz&size=1206\n"
     ]
    },
    {
     "name": "stdout",
     "output_type": "stream",
     "text": [
      "\n",
      "\n",
      "  0%|                                                                                 | 0/629 [00:00<?, ?KB/s]\u001B[A\n",
      "  5%|███▌                                                                   | 32/629 [00:00<00:03, 178.30KB/s]\u001B[A\n",
      " 13%|█████████▏                                                             | 81/629 [00:00<00:02, 243.22KB/s]\u001B[A\n",
      " 42%|█████████████████████████████▍                                        | 265/629 [00:00<00:00, 624.06KB/s]\u001B[A\n",
      "630KB [00:00, 863.86KB/s]                                                                                     \u001B[A"
     ]
    },
    {
     "name": "stderr",
     "output_type": "stream",
     "text": [
      "Downloading DESI Legacy Survey DR10 photometry:  51%|████████████▎           | 77/150 [09:03<08:01,  6.60s/it][EveryStamp:LegacyDownloader] 2025-02-10 11:52:44,663 - INFO: Downloading cutout from https://www.legacysurvey.org/viewer/jpeg-cutout/?ra=182.813420&dec=39.196045&layer=ls-dr10&pixscale=0.524&bands=griz&size=791\n"
     ]
    },
    {
     "name": "stdout",
     "output_type": "stream",
     "text": [
      "\n",
      "\n",
      "  0%|                                                                                 | 0/263 [00:00<?, ?KB/s]\u001B[A\n",
      " 12%|████████▋                                                              | 32/263 [00:00<00:00, 302.96KB/s]\u001B[A\n",
      "264KB [00:00, 1138.67KB/s]                                                                                    \u001B[A"
     ]
    },
    {
     "name": "stderr",
     "output_type": "stream",
     "text": [
      "Downloading DESI Legacy Survey DR10 photometry:  52%|████████████▍           | 78/150 [09:05<06:14,  5.21s/it][EveryStamp:LegacyDownloader] 2025-02-10 11:52:46,623 - INFO: Downloading cutout from https://www.legacysurvey.org/viewer/jpeg-cutout/?ra=184.904420&dec=-3.311365&layer=ls-dr10&pixscale=0.524&bands=griz&size=849\n"
     ]
    },
    {
     "name": "stdout",
     "output_type": "stream",
     "text": [
      "\n",
      "\n",
      "  0%|                                                                                 | 0/353 [00:00<?, ?KB/s]\u001B[A\n",
      "  9%|██████▍                                                                | 32/353 [00:00<00:01, 223.85KB/s]\u001B[A\n",
      "354KB [00:00, 1096.16KB/s]                                                                                    \u001B[A"
     ]
    },
    {
     "name": "stderr",
     "output_type": "stream",
     "text": [
      "Downloading DESI Legacy Survey DR10 photometry:  53%|████████████▋           | 79/150 [09:09<05:43,  4.84s/it][EveryStamp:LegacyDownloader] 2025-02-10 11:52:50,595 - INFO: Downloading cutout from https://www.legacysurvey.org/viewer/jpeg-cutout/?ra=187.582690&dec=16.277103&layer=ls-dr10&pixscale=0.524&bands=griz&size=1168\n"
     ]
    },
    {
     "name": "stdout",
     "output_type": "stream",
     "text": [
      "\n",
      "\n",
      "  0%|                                                                                 | 0/670 [00:00<?, ?KB/s]\u001B[A\n",
      "  5%|███▍                                                                   | 32/670 [00:00<00:02, 304.98KB/s]\u001B[A\n",
      "671KB [00:00, 2254.92KB/s]                                                                                    \u001B[A"
     ]
    },
    {
     "name": "stderr",
     "output_type": "stream",
     "text": [
      "Downloading DESI Legacy Survey DR10 photometry:  53%|████████████▊           | 80/150 [09:15<06:09,  5.28s/it][EveryStamp:LegacyDownloader] 2025-02-10 11:52:56,918 - INFO: Downloading cutout from https://www.legacysurvey.org/viewer/jpeg-cutout/?ra=187.772370&dec=15.940958&layer=ls-dr10&pixscale=0.524&bands=griz&size=1235\n"
     ]
    },
    {
     "name": "stdout",
     "output_type": "stream",
     "text": [
      "\n",
      "\n",
      "  0%|                                                                                 | 0/764 [00:00<?, ?KB/s]\u001B[A\n",
      "  4%|██▉                                                                    | 32/764 [00:00<00:02, 285.60KB/s]\u001B[A\n",
      " 10%|███████▍                                                               | 80/764 [00:00<00:02, 280.23KB/s]\u001B[A\n",
      "765KB [00:00, 1499.15KB/s]                                                                                    \u001B[A"
     ]
    },
    {
     "name": "stderr",
     "output_type": "stream",
     "text": [
      "Downloading DESI Legacy Survey DR10 photometry:  54%|████████████▉           | 81/150 [09:23<07:03,  6.13s/it][EveryStamp:LegacyDownloader] 2025-02-10 11:53:05,037 - INFO: Downloading cutout from https://www.legacysurvey.org/viewer/jpeg-cutout/?ra=188.481420&dec=15.435622&layer=ls-dr10&pixscale=0.524&bands=griz&size=1045\n"
     ]
    },
    {
     "name": "stdout",
     "output_type": "stream",
     "text": [
      "\n",
      "\n",
      "  0%|                                                                                 | 0/496 [00:00<?, ?KB/s]\u001B[A\n",
      "  6%|████▌                                                                  | 32/496 [00:00<00:01, 268.34KB/s]\u001B[A\n",
      "497KB [00:00, 1499.79KB/s]                                                                                    \u001B[A"
     ]
    },
    {
     "name": "stderr",
     "output_type": "stream",
     "text": [
      "Downloading DESI Legacy Survey DR10 photometry:  55%|█████████████           | 82/150 [09:29<06:49,  6.02s/it][EveryStamp:LegacyDownloader] 2025-02-10 11:53:10,787 - INFO: Downloading cutout from https://www.legacysurvey.org/viewer/jpeg-cutout/?ra=188.595400&dec=9.788531&layer=ls-dr10&pixscale=0.524&bands=griz&size=1040\n"
     ]
    },
    {
     "name": "stdout",
     "output_type": "stream",
     "text": [
      "\n",
      "\n",
      "  0%|                                                                                 | 0/447 [00:00<?, ?KB/s]\u001B[A\n",
      "  3%|██                                                                     | 13/447 [00:00<00:03, 128.65KB/s]\u001B[A\n",
      " 18%|████████████▋                                                          | 80/447 [00:00<00:01, 305.74KB/s]\u001B[A\n",
      "448KB [00:00, 1041.62KB/s]                                                                                    \u001B[A"
     ]
    },
    {
     "name": "stderr",
     "output_type": "stream",
     "text": [
      "Downloading DESI Legacy Survey DR10 photometry:  55%|█████████████▎          | 83/150 [09:34<06:15,  5.61s/it][EveryStamp:LegacyDownloader] 2025-02-10 11:53:15,441 - INFO: Downloading cutout from https://www.legacysurvey.org/viewer/jpeg-cutout/?ra=189.075450&dec=28.983881&layer=ls-dr10&pixscale=0.524&bands=griz&size=1068\n"
     ]
    },
    {
     "name": "stdout",
     "output_type": "stream",
     "text": [
      "\n",
      "\n",
      "  0%|                                                                                 | 0/581 [00:00<?, ?KB/s]\u001B[A\n",
      "  6%|███▉                                                                   | 32/581 [00:00<00:01, 303.62KB/s]\u001B[A\n",
      " 30%|████████████████████▋                                                 | 172/581 [00:00<00:00, 819.67KB/s]\u001B[A\n",
      "582KB [00:00, 1469.99KB/s]                                                                                    \u001B[A"
     ]
    },
    {
     "name": "stderr",
     "output_type": "stream",
     "text": [
      "Downloading DESI Legacy Survey DR10 photometry:  56%|█████████████▍          | 84/150 [09:38<05:47,  5.26s/it][EveryStamp:LegacyDownloader] 2025-02-10 11:53:19,896 - INFO: Downloading cutout from https://www.legacysurvey.org/viewer/jpeg-cutout/?ra=189.245340&dec=63.188315&layer=ls-dr10&pixscale=0.524&bands=griz&size=833\n"
     ]
    },
    {
     "name": "stdout",
     "output_type": "stream",
     "text": [
      "\n",
      "\n",
      "  0%|                                                                                 | 0/293 [00:00<?, ?KB/s]\u001B[A\n",
      " 11%|███████▊                                                               | 32/293 [00:00<00:00, 303.57KB/s]\u001B[A\n",
      "294KB [00:00, 1296.32KB/s]                                                                                    \u001B[A"
     ]
    },
    {
     "name": "stderr",
     "output_type": "stream",
     "text": [
      "Downloading DESI Legacy Survey DR10 photometry:  57%|█████████████▌          | 85/150 [09:43<05:38,  5.21s/it][EveryStamp:LegacyDownloader] 2025-02-10 11:53:24,966 - INFO: Downloading cutout from https://www.legacysurvey.org/viewer/jpeg-cutout/?ra=189.670420&dec=9.476961&layer=ls-dr10&pixscale=0.524&bands=griz&size=1044\n"
     ]
    },
    {
     "name": "stdout",
     "output_type": "stream",
     "text": [
      "\n",
      "\n",
      "  0%|                                                                                 | 0/468 [00:00<?, ?KB/s]\u001B[A\n",
      "  7%|████▊                                                                  | 32/468 [00:00<00:01, 294.58KB/s]\u001B[A\n",
      " 35%|████████████████████████▌                                             | 164/468 [00:00<00:00, 828.51KB/s]\u001B[A\n",
      " 59%|████████████████████████████████████████▉                             | 274/468 [00:00<00:00, 946.26KB/s]\u001B[A\n",
      "469KB [00:00, 1063.45KB/s]                                                                                    \u001B[A"
     ]
    },
    {
     "name": "stderr",
     "output_type": "stream",
     "text": [
      "Downloading DESI Legacy Survey DR10 photometry:  57%|█████████████▊          | 86/150 [09:49<05:46,  5.41s/it][EveryStamp:LegacyDownloader] 2025-02-10 11:53:30,861 - INFO: Downloading cutout from https://www.legacysurvey.org/viewer/jpeg-cutout/?ra=194.089560&dec=25.768056&layer=ls-dr10&pixscale=0.524&bands=griz&size=993\n"
     ]
    },
    {
     "name": "stdout",
     "output_type": "stream",
     "text": [
      "\n",
      "\n",
      "  0%|                                                                                 | 0/474 [00:00<?, ?KB/s]\u001B[A\n",
      "  7%|████▊                                                                  | 32/474 [00:00<00:01, 283.57KB/s]\u001B[A\n",
      " 35%|████████████████████████▏                                             | 164/474 [00:00<00:00, 790.06KB/s]\u001B[A\n",
      "475KB [00:00, 1108.77KB/s]                                                                                    \u001B[A\n"
     ]
    },
    {
     "name": "stderr",
     "output_type": "stream",
     "text": [
      "Downloading DESI Legacy Survey DR10 photometry:  58%|█████████████▉          | 87/150 [09:56<06:09,  5.86s/it][EveryStamp:LegacyDownloader] 2025-02-10 11:53:37,781 - INFO: Downloading cutout from https://www.legacysurvey.org/viewer/jpeg-cutout/?ra=195.666850&dec=67.478056&layer=ls-dr10&pixscale=0.524&bands=griz&size=1960\n"
     ]
    },
    {
     "name": "stdout",
     "output_type": "stream",
     "text": [
      "\n",
      "  0%|                                                                                | 0/1648 [00:00<?, ?KB/s]\u001B[A\n",
      "  1%|▋                                                                      | 16/1648 [00:00<00:52, 31.26KB/s]\u001B[A\n",
      "  3%|█▉                                                                     | 44/1648 [00:00<00:20, 79.61KB/s]\u001B[A\n",
      "  4%|██▌                                                                    | 60/1648 [00:01<00:26, 59.15KB/s]\u001B[A\n",
      "  6%|███▉                                                                   | 92/1648 [00:01<00:25, 60.13KB/s]\u001B[A\n",
      "  8%|█████▍                                                                | 128/1648 [00:01<00:16, 92.18KB/s]\u001B[A\n",
      "  9%|██████▎                                                               | 148/1648 [00:01<00:15, 94.82KB/s]\u001B[A\n",
      " 11%|███████▌                                                             | 180/1648 [00:01<00:11, 127.76KB/s]\u001B[A\n",
      " 13%|█████████                                                            | 216/1648 [00:02<00:08, 164.04KB/s]\u001B[A\n",
      " 15%|██████████▌                                                          | 252/1648 [00:02<00:10, 139.39KB/s]\u001B[A\n",
      " 18%|████████████▍                                                        | 296/1648 [00:02<00:07, 182.65KB/s]\u001B[A\n",
      " 21%|██████████████▏                                                      | 340/1648 [00:02<00:06, 214.49KB/s]\u001B[A\n",
      " 23%|████████████████                                                     | 384/1648 [00:02<00:06, 203.23KB/s]\u001B[A\n",
      " 25%|█████████████████▎                                                   | 412/1648 [00:03<00:05, 210.51KB/s]\u001B[A\n",
      " 28%|███████████████████▎                                                 | 460/1648 [00:03<00:04, 256.10KB/s]\u001B[A\n",
      " 31%|█████████████████████▎                                               | 508/1648 [00:03<00:05, 215.12KB/s]\u001B[A\n",
      " 34%|███████████████████████▌                                             | 564/1648 [00:03<00:04, 267.39KB/s]\u001B[A\n",
      " 38%|█████████████████████████▉                                           | 620/1648 [00:03<00:03, 303.49KB/s]\u001B[A\n",
      " 41%|████████████████████████████▍                                        | 680/1648 [00:03<00:03, 271.22KB/s]\u001B[A\n",
      " 45%|███████████████████████████████▏                                     | 744/1648 [00:04<00:02, 317.05KB/s]\u001B[A\n",
      " 49%|█████████████████████████████████▊                                   | 808/1648 [00:04<00:02, 373.65KB/s]\u001B[A\n",
      " 52%|███████████████████████████████████▋                                 | 851/1648 [00:04<00:02, 279.09KB/s]\u001B[A\n",
      " 55%|██████████████████████████████████████▏                              | 912/1648 [00:04<00:02, 324.02KB/s]\u001B[A\n",
      " 59%|█████████████████████████████████████████                            | 980/1648 [00:04<00:01, 389.66KB/s]\u001B[A\n",
      " 64%|███████████████████████████████████████████▍                        | 1052/1648 [00:04<00:01, 440.08KB/s]\u001B[A\n",
      " 67%|█████████████████████████████████████████████▍                      | 1102/1648 [00:05<00:01, 350.98KB/s]\u001B[A\n",
      " 71%|████████████████████████████████████████████████▎                   | 1172/1648 [00:05<00:01, 405.46KB/s]\u001B[A\n",
      " 76%|███████████████████████████████████████████████████▋                | 1252/1648 [00:05<00:01, 320.84KB/s]\u001B[A\n",
      " 81%|███████████████████████████████████████████████████████▏            | 1336/1648 [00:05<00:00, 380.81KB/s]\u001B[A\n",
      " 86%|██████████████████████████████████████████████████████████▊         | 1424/1648 [00:05<00:00, 453.32KB/s]\u001B[A\n",
      " 92%|██████████████████████████████████████████████████████████████▍     | 1512/1648 [00:06<00:00, 409.28KB/s]\u001B[A\n",
      "1649KB [00:06, 264.87KB/s]                                                                                    \u001B[A"
     ]
    },
    {
     "name": "stderr",
     "output_type": "stream",
     "text": [
      "Downloading DESI Legacy Survey DR10 photometry:  59%|██████████████          | 88/150 [10:12<09:01,  8.73s/it][EveryStamp:LegacyDownloader] 2025-02-10 11:53:53,205 - INFO: Downloading cutout from https://www.legacysurvey.org/viewer/jpeg-cutout/?ra=195.991550&dec=67.515354&layer=ls-dr10&pixscale=0.524&bands=griz&size=1069\n"
     ]
    },
    {
     "name": "stdout",
     "output_type": "stream",
     "text": [
      "\n",
      "\n",
      "  0%|                                                                                 | 0/507 [00:00<?, ?KB/s]\u001B[A\n",
      "  6%|████▍                                                                  | 32/507 [00:00<00:01, 299.53KB/s]\u001B[A\n",
      " 30%|█████████████████████▎                                                | 154/507 [00:00<00:00, 427.75KB/s]\u001B[A\n",
      " 45%|███████████████████████████████▌                                      | 229/507 [00:00<00:00, 389.26KB/s]\u001B[A\n",
      "508KB [00:00, 688.27KB/s]                                                                                     \u001B[A"
     ]
    },
    {
     "name": "stderr",
     "output_type": "stream",
     "text": [
      "Downloading DESI Legacy Survey DR10 photometry:  59%|██████████████▏         | 89/150 [10:15<07:10,  7.06s/it][EveryStamp:LegacyDownloader] 2025-02-10 11:53:56,362 - INFO: Downloading cutout from https://www.legacysurvey.org/viewer/jpeg-cutout/?ra=196.496920&dec=26.513083&layer=ls-dr10&pixscale=0.524&bands=griz&size=826\n"
     ]
    },
    {
     "name": "stdout",
     "output_type": "stream",
     "text": [
      "\n",
      "\n",
      "  0%|                                                                                 | 0/348 [00:00<?, ?KB/s]\u001B[A\n",
      " 24%|█████████████████▏                                                     | 84/348 [00:00<00:00, 547.40KB/s]\u001B[A\n",
      "349KB [00:00, 868.10KB/s]                                                                                     \u001B[A"
     ]
    },
    {
     "name": "stderr",
     "output_type": "stream",
     "text": [
      "Downloading DESI Legacy Survey DR10 photometry:  60%|██████████████▍         | 90/150 [10:19<06:09,  6.16s/it][EveryStamp:LegacyDownloader] 2025-02-10 11:54:00,425 - INFO: Downloading cutout from https://www.legacysurvey.org/viewer/jpeg-cutout/?ra=196.956540&dec=29.430381&layer=ls-dr10&pixscale=0.524&bands=griz&size=944\n"
     ]
    },
    {
     "name": "stdout",
     "output_type": "stream",
     "text": [
      "\n",
      "\n",
      "  0%|                                                                                 | 0/411 [00:00<?, ?KB/s]\u001B[A\n",
      "  8%|█████▌                                                                 | 32/411 [00:00<00:01, 276.96KB/s]\u001B[A\n",
      " 42%|█████████████████████████████▎                                        | 172/411 [00:00<00:00, 596.97KB/s]\u001B[A\n",
      "412KB [00:00, 885.79KB/s]                                                                                     \u001B[A"
     ]
    },
    {
     "name": "stderr",
     "output_type": "stream",
     "text": [
      "Downloading DESI Legacy Survey DR10 photometry:  61%|██████████████▌         | 91/150 [10:25<05:56,  6.05s/it][EveryStamp:LegacyDownloader] 2025-02-10 11:54:06,210 - INFO: Downloading cutout from https://www.legacysurvey.org/viewer/jpeg-cutout/?ra=197.486580&dec=32.372394&layer=ls-dr10&pixscale=0.524&bands=griz&size=827\n"
     ]
    },
    {
     "name": "stdout",
     "output_type": "stream",
     "text": [
      "\n",
      "\n",
      "  0%|                                                                                 | 0/294 [00:00<?, ?KB/s]\u001B[A\n",
      " 11%|███████▋                                                               | 32/294 [00:00<00:01, 225.56KB/s]\u001B[A\n",
      " 49%|██████████████████████████████████▌                                   | 145/294 [00:00<00:00, 668.52KB/s]\u001B[A\n",
      "295KB [00:00, 545.11KB/s]                                                                                     \u001B[A"
     ]
    },
    {
     "name": "stderr",
     "output_type": "stream",
     "text": [
      "Downloading DESI Legacy Survey DR10 photometry:  61%|██████████████▋         | 92/150 [10:34<06:50,  7.08s/it][EveryStamp:LegacyDownloader] 2025-02-10 11:54:15,680 - INFO: Downloading cutout from https://www.legacysurvey.org/viewer/jpeg-cutout/?ra=197.874440&dec=-1.340151&layer=ls-dr10&pixscale=0.524&bands=griz&size=1244\n"
     ]
    },
    {
     "name": "stdout",
     "output_type": "stream",
     "text": [
      "\n",
      "\n",
      "  0%|                                                                                 | 0/768 [00:00<?, ?KB/s]\u001B[A\n",
      "  4%|██▉                                                                    | 32/768 [00:00<00:03, 244.88KB/s]\u001B[A\n",
      " 23%|████████████████                                                      | 176/768 [00:00<00:01, 571.63KB/s]\u001B[A\n",
      "769KB [00:00, 1444.08KB/s]                                                                                    \u001B[A\n"
     ]
    },
    {
     "name": "stderr",
     "output_type": "stream",
     "text": [
      "Downloading DESI Legacy Survey DR10 photometry:  62%|██████████████▉         | 93/150 [10:39<06:11,  6.53s/it][EveryStamp:LegacyDownloader] 2025-02-10 11:54:20,926 - INFO: Downloading cutout from https://www.legacysurvey.org/viewer/jpeg-cutout/?ra=197.938090&dec=22.035053&layer=ls-dr10&pixscale=0.524&bands=griz&size=1314\n"
     ]
    },
    {
     "name": "stdout",
     "output_type": "stream",
     "text": [
      "\n",
      "  0%|                                                                                 | 0/865 [00:00<?, ?KB/s]\u001B[A\n",
      "  4%|██▋                                                                    | 32/865 [00:00<00:02, 283.52KB/s]\u001B[A\n",
      " 20%|██████████████▏                                                       | 176/865 [00:00<00:00, 856.78KB/s]\u001B[A\n",
      " 32%|██████████████████████▎                                               | 276/865 [00:00<00:00, 837.34KB/s]\u001B[A\n",
      " 47%|████████████████████████████████▌                                    | 408/865 [00:00<00:00, 1007.88KB/s]\u001B[A\n",
      " 69%|███████████████████████████████████████████████▌                     | 596/865 [00:00<00:00, 1208.23KB/s]\u001B[A\n",
      "866KB [00:00, 1235.40KB/s]                                                                                    \u001B[A"
     ]
    },
    {
     "name": "stderr",
     "output_type": "stream",
     "text": [
      "Downloading DESI Legacy Survey DR10 photometry:  63%|███████████████         | 94/150 [10:47<06:21,  6.81s/it][EveryStamp:LegacyDownloader] 2025-02-10 11:54:28,408 - INFO: Downloading cutout from https://www.legacysurvey.org/viewer/jpeg-cutout/?ra=199.980920&dec=33.314938&layer=ls-dr10&pixscale=0.524&bands=griz&size=1004\n"
     ]
    },
    {
     "name": "stdout",
     "output_type": "stream",
     "text": [
      "\n",
      "\n",
      "  0%|                                                                                 | 0/439 [00:00<?, ?KB/s]\u001B[A\n",
      "  2%|█▎                                                                       | 8/439 [00:00<00:10, 42.51KB/s]\u001B[A\n",
      " 18%|████████████▉                                                          | 80/439 [00:00<00:01, 295.18KB/s]\u001B[A\n",
      "440KB [00:00, 931.49KB/s]                                                                                     \u001B[A"
     ]
    },
    {
     "name": "stderr",
     "output_type": "stream",
     "text": [
      "Downloading DESI Legacy Survey DR10 photometry:  63%|███████████████▏        | 95/150 [10:51<05:23,  5.89s/it][EveryStamp:LegacyDownloader] 2025-02-10 11:54:32,145 - INFO: Downloading cutout from https://www.legacysurvey.org/viewer/jpeg-cutout/?ra=200.173520&dec=33.178962&layer=ls-dr10&pixscale=0.524&bands=griz&size=872\n"
     ]
    },
    {
     "name": "stdout",
     "output_type": "stream",
     "text": [
      "\n",
      "\n",
      "  0%|                                                                                 | 0/308 [00:00<?, ?KB/s]\u001B[A\n",
      " 10%|███████▍                                                               | 32/308 [00:00<00:00, 304.47KB/s]\u001B[A\n",
      "309KB [00:00, 508.54KB/s]                                                                                     \u001B[A"
     ]
    },
    {
     "name": "stderr",
     "output_type": "stream",
     "text": [
      "Downloading DESI Legacy Survey DR10 photometry:  64%|███████████████▎        | 96/150 [10:53<04:24,  4.90s/it][EveryStamp:LegacyDownloader] 2025-02-10 11:54:34,746 - INFO: Downloading cutout from https://www.legacysurvey.org/viewer/jpeg-cutout/?ra=200.711320&dec=31.653187&layer=ls-dr10&pixscale=0.524&bands=griz&size=809\n"
     ]
    },
    {
     "name": "stdout",
     "output_type": "stream",
     "text": [
      "\n",
      "\n",
      "  0%|                                                                                 | 0/295 [00:00<?, ?KB/s]\u001B[A\n",
      " 11%|███████▋                                                               | 32/295 [00:00<00:00, 300.62KB/s]\u001B[A\n",
      "296KB [00:00, 761.02KB/s]                                                                                     \u001B[A"
     ]
    },
    {
     "name": "stderr",
     "output_type": "stream",
     "text": [
      "Downloading DESI Legacy Survey DR10 photometry:  65%|███████████████▌        | 97/150 [10:59<04:30,  5.10s/it][EveryStamp:LegacyDownloader] 2025-02-10 11:54:40,298 - INFO: Downloading cutout from https://www.legacysurvey.org/viewer/jpeg-cutout/?ra=201.286780&dec=65.840952&layer=ls-dr10&pixscale=0.524&bands=griz&size=1252\n"
     ]
    },
    {
     "name": "stdout",
     "output_type": "stream",
     "text": [
      "\n",
      "\n",
      "  0%|                                                                                 | 0/624 [00:00<?, ?KB/s]\u001B[A\n",
      "  5%|███▋                                                                   | 32/624 [00:00<00:04, 122.76KB/s]\u001B[A\n",
      " 28%|███████████████████▋                                                  | 176/624 [00:00<00:00, 492.24KB/s]\u001B[A\n",
      "625KB [00:00, 903.34KB/s]                                                                                     \u001B[A"
     ]
    },
    {
     "name": "stderr",
     "output_type": "stream",
     "text": [
      "Downloading DESI Legacy Survey DR10 photometry:  65%|███████████████▋        | 98/150 [11:08<05:38,  6.52s/it][EveryStamp:LegacyDownloader] 2025-02-10 11:54:50,128 - INFO: Downloading cutout from https://www.legacysurvey.org/viewer/jpeg-cutout/?ra=201.520080&dec=12.387407&layer=ls-dr10&pixscale=0.524&bands=griz&size=1130\n"
     ]
    },
    {
     "name": "stdout",
     "output_type": "stream",
     "text": [
      "\n",
      "\n",
      "  0%|                                                                                 | 0/660 [00:00<?, ?KB/s]\u001B[A\n",
      " 12%|████████▌                                                              | 80/660 [00:00<00:01, 533.52KB/s]\u001B[A\n",
      "661KB [00:00, 1419.63KB/s]                                                                                    \u001B[A"
     ]
    },
    {
     "name": "stderr",
     "output_type": "stream",
     "text": [
      "Downloading DESI Legacy Survey DR10 photometry:  66%|███████████████▊        | 99/150 [11:14<05:22,  6.33s/it][EveryStamp:LegacyDownloader] 2025-02-10 11:54:56,015 - INFO: Downloading cutout from https://www.legacysurvey.org/viewer/jpeg-cutout/?ra=203.140980&dec=50.413972&layer=ls-dr10&pixscale=0.524&bands=griz&size=910\n"
     ]
    },
    {
     "name": "stdout",
     "output_type": "stream",
     "text": [
      "\n",
      "\n",
      "  0%|                                                                                 | 0/355 [00:00<?, ?KB/s]\u001B[A\n",
      "  9%|██████▍                                                                | 32/355 [00:00<00:01, 186.65KB/s]\u001B[A\n",
      "356KB [00:00, 1144.81KB/s]                                                                                    \u001B[A"
     ]
    },
    {
     "name": "stderr",
     "output_type": "stream",
     "text": [
      "Downloading DESI Legacy Survey DR10 photometry:  67%|███████████████▎       | 100/150 [11:27<06:45,  8.10s/it][EveryStamp:LegacyDownloader] 2025-02-10 11:55:08,250 - INFO: Downloading cutout from https://www.legacysurvey.org/viewer/jpeg-cutout/?ra=203.184170&dec=50.545434&layer=ls-dr10&pixscale=0.524&bands=griz&size=875\n"
     ]
    },
    {
     "name": "stdout",
     "output_type": "stream",
     "text": [
      "\n",
      "\n",
      "  0%|                                                                                 | 0/339 [00:00<?, ?KB/s]\u001B[A\n",
      "  9%|██████▋                                                                | 32/339 [00:00<00:01, 156.44KB/s]\u001B[A\n",
      " 24%|████████████████▊                                                      | 80/339 [00:00<00:00, 278.64KB/s]\u001B[A\n",
      "340KB [00:00, 713.65KB/s]                                                                                     \u001B[A"
     ]
    },
    {
     "name": "stderr",
     "output_type": "stream",
     "text": [
      "Downloading DESI Legacy Survey DR10 photometry:  67%|███████████████▍       | 101/150 [11:30<05:23,  6.60s/it][EveryStamp:LegacyDownloader] 2025-02-10 11:55:11,348 - INFO: Downloading cutout from https://www.legacysurvey.org/viewer/jpeg-cutout/?ra=203.831550&dec=41.001386&layer=ls-dr10&pixscale=0.524&bands=griz&size=1032\n"
     ]
    },
    {
     "name": "stdout",
     "output_type": "stream",
     "text": [
      "\n",
      "\n",
      "  0%|                                                                                 | 0/469 [00:00<?, ?KB/s]\u001B[A\n",
      "  7%|████▊                                                                  | 32/469 [00:00<00:01, 308.66KB/s]\u001B[A\n",
      " 13%|█████████▌                                                             | 63/469 [00:00<00:02, 184.96KB/s]\u001B[A\n",
      " 23%|████████████████                                                      | 108/469 [00:00<00:01, 256.26KB/s]\u001B[A\n",
      " 36%|█████████████████████████                                             | 168/469 [00:00<00:00, 340.30KB/s]\u001B[A\n",
      " 44%|██████████████████████████████▌                                       | 205/469 [00:00<00:00, 300.04KB/s]\u001B[A\n",
      " 56%|███████████████████████████████████████▍                              | 264/469 [00:00<00:00, 369.35KB/s]\u001B[A\n",
      " 72%|██████████████████████████████████████████████████▏                   | 336/469 [00:00<00:00, 450.08KB/s]\u001B[A\n",
      "470KB [00:01, 413.42KB/s]                                                                                     \u001B[A\n"
     ]
    },
    {
     "name": "stderr",
     "output_type": "stream",
     "text": [
      "Downloading DESI Legacy Survey DR10 photometry:  68%|███████████████▋       | 102/150 [11:35<04:59,  6.24s/it][EveryStamp:LegacyDownloader] 2025-02-10 11:55:16,735 - INFO: Downloading cutout from https://www.legacysurvey.org/viewer/jpeg-cutout/?ra=204.203600&dec=10.440014&layer=ls-dr10&pixscale=0.524&bands=griz&size=1406\n"
     ]
    },
    {
     "name": "stdout",
     "output_type": "stream",
     "text": [
      "\n",
      "  0%|                                                                                 | 0/971 [00:00<?, ?KB/s]\u001B[A\n",
      "  3%|██▎                                                                    | 32/971 [00:00<00:07, 132.31KB/s]\u001B[A\n",
      " 18%|████████████▍                                                         | 173/971 [00:00<00:01, 520.55KB/s]\u001B[A\n",
      " 33%|███████████████████████▏                                              | 321/971 [00:00<00:00, 818.34KB/s]\u001B[A\n",
      " 44%|██████████████████████████████▍                                       | 423/971 [00:00<00:00, 560.69KB/s]\u001B[A\n",
      " 61%|███████████████████████████████████████████                           | 597/971 [00:00<00:00, 745.65KB/s]\u001B[A\n",
      "972KB [00:01, 907.40KB/s]                                                                                     \u001B[A"
     ]
    },
    {
     "name": "stderr",
     "output_type": "stream",
     "text": [
      "Downloading DESI Legacy Survey DR10 photometry:  69%|███████████████▊       | 103/150 [11:46<05:53,  7.51s/it][EveryStamp:LegacyDownloader] 2025-02-10 11:55:27,226 - INFO: Downloading cutout from https://www.legacysurvey.org/viewer/jpeg-cutout/?ra=208.309070&dec=11.587025&layer=ls-dr10&pixscale=0.524&bands=griz&size=793\n"
     ]
    },
    {
     "name": "stdout",
     "output_type": "stream",
     "text": [
      "\n",
      "\n",
      "  0%|                                                                                 | 0/304 [00:00<?, ?KB/s]\u001B[A\n",
      " 11%|███████▍                                                               | 32/304 [00:00<00:00, 302.46KB/s]\u001B[A\n",
      "305KB [00:00, 1021.48KB/s]                                                                                    \u001B[A"
     ]
    },
    {
     "name": "stderr",
     "output_type": "stream",
     "text": [
      "Downloading DESI Legacy Survey DR10 photometry:  69%|███████████████▉       | 104/150 [11:51<05:21,  6.99s/it]"
     ]
    },
    {
     "name": "stdout",
     "output_type": "stream",
     "text": [
      "\n"
     ]
    },
    {
     "name": "stderr",
     "output_type": "stream",
     "text": [
      "[EveryStamp:LegacyDownloader] 2025-02-10 11:55:33,006 - INFO: Downloading cutout from https://www.legacysurvey.org/viewer/jpeg-cutout/?ra=210.258250&dec=2.877328&layer=ls-dr10&pixscale=0.524&bands=griz&size=956\n"
     ]
    },
    {
     "name": "stdout",
     "output_type": "stream",
     "text": [
      "\n",
      "  0%|                                                                                 | 0/395 [00:00<?, ?KB/s]\u001B[A\n",
      "  8%|█████▊                                                                 | 32/395 [00:00<00:01, 258.88KB/s]\u001B[A\n",
      " 47%|████████████████████████████████▌                                     | 184/395 [00:00<00:00, 868.99KB/s]\u001B[A\n",
      "396KB [00:00, 989.69KB/s]                                                                                     \u001B[A"
     ]
    },
    {
     "name": "stderr",
     "output_type": "stream",
     "text": [
      "Downloading DESI Legacy Survey DR10 photometry:  70%|████████████████       | 105/150 [11:59<05:20,  7.12s/it][EveryStamp:LegacyDownloader] 2025-02-10 11:55:40,436 - INFO: Downloading cutout from https://www.legacysurvey.org/viewer/jpeg-cutout/?ra=213.606380&dec=-0.378024&layer=ls-dr10&pixscale=0.524&bands=griz&size=1566\n"
     ]
    },
    {
     "name": "stdout",
     "output_type": "stream",
     "text": [
      "\n",
      "\n",
      "  0%|                                                                                | 0/1004 [00:00<?, ?KB/s]\u001B[A\n",
      "  4%|██▌                                                                   | 36/1004 [00:00<00:02, 358.41KB/s]\u001B[A\n",
      " 18%|████████████                                                         | 176/1004 [00:00<00:00, 918.87KB/s]\u001B[A\n",
      " 53%|████████████████████████████████████                                | 532/1004 [00:00<00:00, 2081.62KB/s]\u001B[A\n",
      "1005KB [00:00, 1834.30KB/s]                                                                                   \u001B[A"
     ]
    },
    {
     "name": "stderr",
     "output_type": "stream",
     "text": [
      "Downloading DESI Legacy Survey DR10 photometry:  71%|████████████████▎      | 106/150 [12:08<05:38,  7.70s/it][EveryStamp:LegacyDownloader] 2025-02-10 11:55:49,482 - INFO: Downloading cutout from https://www.legacysurvey.org/viewer/jpeg-cutout/?ra=213.895450&dec=28.393476&layer=ls-dr10&pixscale=0.524&bands=griz&size=1014\n"
     ]
    },
    {
     "name": "stdout",
     "output_type": "stream",
     "text": [
      "\n",
      "\n",
      "  0%|                                                                                 | 0/451 [00:00<?, ?KB/s]\u001B[A\n",
      "  2%|█▎                                                                       | 8/451 [00:00<00:11, 39.61KB/s]\u001B[A\n",
      " 18%|████████████▉                                                          | 82/451 [00:00<00:01, 313.40KB/s]\u001B[A\n",
      "452KB [00:00, 970.50KB/s]                                                                                     \u001B[A"
     ]
    },
    {
     "name": "stderr",
     "output_type": "stream",
     "text": [
      "Downloading DESI Legacy Survey DR10 photometry:  71%|████████████████▍      | 107/150 [12:13<05:03,  7.05s/it][EveryStamp:LegacyDownloader] 2025-02-10 11:55:55,025 - INFO: Downloading cutout from https://www.legacysurvey.org/viewer/jpeg-cutout/?ra=214.115630&dec=23.256540&layer=ls-dr10&pixscale=0.524&bands=griz&size=1564\n"
     ]
    },
    {
     "name": "stdout",
     "output_type": "stream",
     "text": [
      "\n",
      "\n",
      "  0%|                                                                                | 0/1052 [00:00<?, ?KB/s]\u001B[A\n",
      "  3%|██▏                                                                   | 32/1052 [00:00<00:03, 308.50KB/s]\u001B[A\n",
      " 17%|████████████                                                         | 184/1052 [00:00<00:00, 947.60KB/s]\u001B[A\n",
      "1053KB [00:00, 2560.78KB/s]                                                                                   \u001B[A\n"
     ]
    },
    {
     "name": "stderr",
     "output_type": "stream",
     "text": [
      "Downloading DESI Legacy Survey DR10 photometry:  72%|████████████████▌      | 108/150 [12:23<05:30,  7.88s/it][EveryStamp:LegacyDownloader] 2025-02-10 11:56:04,835 - INFO: Downloading cutout from https://www.legacysurvey.org/viewer/jpeg-cutout/?ra=214.633880&dec=25.184814&layer=ls-dr10&pixscale=0.524&bands=griz&size=833\n"
     ]
    },
    {
     "name": "stdout",
     "output_type": "stream",
     "text": [
      "\n",
      "  0%|                                                                                 | 0/311 [00:00<?, ?KB/s]\u001B[A\n",
      " 10%|███████▎                                                               | 32/311 [00:00<00:00, 305.30KB/s]\u001B[A\n",
      "312KB [00:00, 1370.09KB/s]                                                                                    \u001B[A"
     ]
    },
    {
     "name": "stderr",
     "output_type": "stream",
     "text": [
      "Downloading DESI Legacy Survey DR10 photometry:  73%|████████████████▋      | 109/150 [12:26<04:20,  6.35s/it][EveryStamp:LegacyDownloader] 2025-02-10 11:56:07,617 - INFO: Downloading cutout from https://www.legacysurvey.org/viewer/jpeg-cutout/?ra=216.339450&dec=63.195333&layer=ls-dr10&pixscale=0.524&bands=griz&size=1561\n"
     ]
    },
    {
     "name": "stdout",
     "output_type": "stream",
     "text": [
      "\n",
      "\n",
      "  0%|                                                                                | 0/1021 [00:00<?, ?KB/s]\u001B[A\n",
      "  8%|█████▍                                                                | 80/1021 [00:00<00:01, 535.65KB/s]\u001B[A\n",
      " 36%|████████████████████████▌                                           | 368/1021 [00:00<00:00, 1547.83KB/s]\u001B[A\n",
      "1022KB [00:00, 2546.13KB/s]                                                                                   \u001B[A"
     ]
    },
    {
     "name": "stderr",
     "output_type": "stream",
     "text": [
      "Downloading DESI Legacy Survey DR10 photometry:  73%|████████████████▊      | 110/150 [12:35<04:41,  7.03s/it][EveryStamp:LegacyDownloader] 2025-02-10 11:56:16,225 - INFO: Downloading cutout from https://www.legacysurvey.org/viewer/jpeg-cutout/?ra=216.504330&dec=37.826953&layer=ls-dr10&pixscale=0.524&bands=griz&size=1313\n"
     ]
    },
    {
     "name": "stdout",
     "output_type": "stream",
     "text": [
      "\n",
      "\n",
      "  0%|                                                                                 | 0/751 [00:00<?, ?KB/s]\u001B[A\n",
      "  4%|███                                                                    | 33/751 [00:00<00:02, 329.91KB/s]\u001B[A\n",
      " 24%|████████████████▍                                                     | 177/751 [00:00<00:00, 977.10KB/s]\u001B[A\n",
      "752KB [00:00, 2232.95KB/s]                                                                                    \u001B[A"
     ]
    },
    {
     "name": "stderr",
     "output_type": "stream",
     "text": [
      "Downloading DESI Legacy Survey DR10 photometry:  74%|█████████████████      | 111/150 [12:39<04:02,  6.21s/it][EveryStamp:LegacyDownloader] 2025-02-10 11:56:20,529 - INFO: Downloading cutout from https://www.legacysurvey.org/viewer/jpeg-cutout/?ra=217.612190&dec=24.599226&layer=ls-dr10&pixscale=0.524&bands=griz&size=1571\n"
     ]
    },
    {
     "name": "stdout",
     "output_type": "stream",
     "text": [
      "\n",
      "\n",
      "  0%|                                                                                 | 0/992 [00:00<?, ?KB/s]\u001B[A\n",
      "  5%|███▌                                                                   | 49/992 [00:00<00:01, 489.86KB/s]\u001B[A\n",
      " 10%|███████                                                                | 98/992 [00:00<00:03, 291.44KB/s]\u001B[A\n",
      " 40%|███████████████████████████▎                                         | 392/992 [00:00<00:00, 1120.36KB/s]\u001B[A\n",
      "993KB [00:00, 1755.16KB/s]                                                                                    \u001B[A"
     ]
    },
    {
     "name": "stderr",
     "output_type": "stream",
     "text": [
      "Downloading DESI Legacy Survey DR10 photometry:  75%|█████████████████▏     | 112/150 [12:49<04:40,  7.38s/it][EveryStamp:LegacyDownloader] 2025-02-10 11:56:30,626 - INFO: Downloading cutout from https://www.legacysurvey.org/viewer/jpeg-cutout/?ra=217.958430&dec=13.533211&layer=ls-dr10&pixscale=0.524&bands=griz&size=1362\n"
     ]
    },
    {
     "name": "stdout",
     "output_type": "stream",
     "text": [
      "\n",
      "\n",
      "  0%|                                                                                 | 0/786 [00:00<?, ?KB/s]\u001B[A\n",
      "  4%|██▉                                                                    | 32/786 [00:00<00:02, 266.19KB/s]\u001B[A\n",
      " 20%|██████████████▏                                                       | 160/786 [00:00<00:01, 444.71KB/s]\u001B[A\n",
      " 42%|█████████████████████████████▌                                        | 332/786 [00:00<00:00, 753.90KB/s]\u001B[A\n",
      " 56%|███████████████████████████████████████▏                              | 440/786 [00:00<00:00, 828.48KB/s]\u001B[A\n",
      " 68%|███████████████████████████████████████████████▋                      | 536/786 [00:00<00:00, 744.68KB/s]\u001B[A\n",
      "787KB [00:00, 856.84KB/s]                                                                                     \u001B[A"
     ]
    },
    {
     "name": "stderr",
     "output_type": "stream",
     "text": [
      "Downloading DESI Legacy Survey DR10 photometry:  75%|█████████████████▎     | 113/150 [13:00<05:10,  8.40s/it][EveryStamp:LegacyDownloader] 2025-02-10 11:56:41,407 - INFO: Downloading cutout from https://www.legacysurvey.org/viewer/jpeg-cutout/?ra=220.582550&dec=22.302753&layer=ls-dr10&pixscale=0.524&bands=griz&size=1980\n"
     ]
    },
    {
     "name": "stdout",
     "output_type": "stream",
     "text": [
      "\n",
      "\n",
      "  0%|                                                                                | 0/1734 [00:00<?, ?KB/s]\u001B[A\n",
      "  2%|█▎                                                                    | 32/1734 [00:00<00:06, 251.87KB/s]\u001B[A\n",
      " 10%|██████▊                                                              | 172/1734 [00:00<00:02, 528.78KB/s]\u001B[A\n",
      " 21%|██████████████▊                                                      | 372/1734 [00:00<00:01, 964.55KB/s]\u001B[A\n",
      " 33%|██████████████████████▍                                             | 573/1734 [00:00<00:00, 1283.51KB/s]\u001B[A\n",
      " 41%|████████████████████████████▏                                       | 719/1734 [00:00<00:00, 1065.52KB/s]\u001B[A\n",
      " 56%|██████████████████████████████████████▎                             | 976/1734 [00:00<00:00, 1376.24KB/s]\u001B[A\n",
      " 72%|████████████████████████████████████████████████▌                  | 1256/1734 [00:00<00:00, 1725.79KB/s]\u001B[A\n",
      "1735KB [00:01, 1495.79KB/s]                                                                                   \u001B[A\n"
     ]
    },
    {
     "name": "stderr",
     "output_type": "stream",
     "text": [
      "Downloading DESI Legacy Survey DR10 photometry:  76%|█████████████████▍     | 114/150 [13:11<05:27,  9.11s/it][EveryStamp:LegacyDownloader] 2025-02-10 11:56:52,165 - INFO: Downloading cutout from https://www.legacysurvey.org/viewer/jpeg-cutout/?ra=223.051550&dec=37.880589&layer=ls-dr10&pixscale=0.524&bands=griz&size=883\n"
     ]
    },
    {
     "name": "stdout",
     "output_type": "stream",
     "text": [
      "\n",
      "  0%|                                                                                 | 0/346 [00:00<?, ?KB/s]\u001B[A\n",
      "  9%|██████▌                                                                | 32/346 [00:00<00:01, 310.98KB/s]\u001B[A\n",
      " 24%|████████████████▊                                                      | 82/346 [00:00<00:00, 398.13KB/s]\u001B[A\n",
      " 35%|████████████████████████▋                                             | 122/346 [00:00<00:00, 277.08KB/s]\u001B[A\n",
      " 48%|█████████████████████████████████▌                                    | 166/346 [00:00<00:00, 294.46KB/s]\u001B[A\n",
      " 65%|█████████████████████████████████████████████▋                        | 226/346 [00:00<00:00, 326.22KB/s]\u001B[A\n",
      " 76%|█████████████████████████████████████████████████████                 | 262/346 [00:00<00:00, 297.75KB/s]\u001B[A\n",
      "347KB [00:00, 351.10KB/s]                                                                                     \u001B[A"
     ]
    },
    {
     "name": "stderr",
     "output_type": "stream",
     "text": [
      "Downloading DESI Legacy Survey DR10 photometry:  77%|█████████████████▋     | 115/150 [13:14<04:24,  7.56s/it][EveryStamp:LegacyDownloader] 2025-02-10 11:56:56,121 - INFO: Downloading cutout from https://www.legacysurvey.org/viewer/jpeg-cutout/?ra=224.312600&dec=22.342330&layer=ls-dr10&pixscale=0.524&bands=griz&size=923\n"
     ]
    },
    {
     "name": "stdout",
     "output_type": "stream",
     "text": [
      "\n",
      "\n",
      "  0%|                                                                                 | 0/371 [00:00<?, ?KB/s]\u001B[A\n",
      "  9%|██████                                                                 | 32/371 [00:00<00:01, 240.58KB/s]\u001B[A\n",
      " 46%|████████████████████████████████▍                                     | 172/371 [00:00<00:00, 724.40KB/s]\u001B[A\n",
      "372KB [00:00, 645.79KB/s]                                                                                     \u001B[A"
     ]
    },
    {
     "name": "stderr",
     "output_type": "stream",
     "text": [
      "Downloading DESI Legacy Survey DR10 photometry:  77%|█████████████████▊     | 116/150 [13:23<04:25,  7.81s/it][EveryStamp:LegacyDownloader] 2025-02-10 11:57:04,519 - INFO: Downloading cutout from https://www.legacysurvey.org/viewer/jpeg-cutout/?ra=225.081920&dec=21.370712&layer=ls-dr10&pixscale=0.524&bands=griz&size=1385\n"
     ]
    },
    {
     "name": "stdout",
     "output_type": "stream",
     "text": [
      "\n",
      "\n",
      "  0%|                                                                                 | 0/799 [00:00<?, ?KB/s]\u001B[A\n",
      "  4%|██▊                                                                    | 32/799 [00:00<00:02, 301.57KB/s]\u001B[A\n",
      " 22%|███████████████▍                                                      | 176/799 [00:00<00:00, 852.16KB/s]\u001B[A\n",
      "800KB [00:00, 1761.80KB/s]                                                                                    \u001B[A"
     ]
    },
    {
     "name": "stderr",
     "output_type": "stream",
     "text": [
      "Downloading DESI Legacy Survey DR10 photometry:  78%|█████████████████▉     | 117/150 [13:32<04:32,  8.26s/it][EveryStamp:LegacyDownloader] 2025-02-10 11:57:13,836 - INFO: Downloading cutout from https://www.legacysurvey.org/viewer/jpeg-cutout/?ra=227.550390&dec=33.516138&layer=ls-dr10&pixscale=0.524&bands=griz&size=1774\n"
     ]
    },
    {
     "name": "stdout",
     "output_type": "stream",
     "text": [
      "\n",
      "\n",
      "  0%|                                                                                | 0/1377 [00:00<?, ?KB/s]\u001B[A\n",
      "  2%|█▋                                                                    | 32/1377 [00:00<00:04, 303.18KB/s]\u001B[A\n",
      " 13%|████████▉                                                            | 179/1377 [00:00<00:01, 916.87KB/s]\u001B[A\n",
      "1378KB [00:00, 3225.08KB/s]                                                                                   \u001B[A"
     ]
    },
    {
     "name": "stderr",
     "output_type": "stream",
     "text": [
      "Downloading DESI Legacy Survey DR10 photometry:  79%|██████████████████     | 118/150 [13:44<04:57,  9.30s/it][EveryStamp:LegacyDownloader] 2025-02-10 11:57:25,539 - INFO: Downloading cutout from https://www.legacysurvey.org/viewer/jpeg-cutout/?ra=228.817390&dec=4.381538&layer=ls-dr10&pixscale=0.524&bands=griz&size=2030\n"
     ]
    },
    {
     "name": "stdout",
     "output_type": "stream",
     "text": [
      "\n",
      "\n",
      "  0%|                                                                                | 0/1991 [00:00<?, ?KB/s]\u001B[A\n",
      "  0%|▎                                                                       | 8/1991 [00:00<00:48, 40.72KB/s]\u001B[A\n",
      "  4%|██▊                                                                   | 81/1991 [00:00<00:05, 319.88KB/s]\u001B[A\n",
      " 19%|████████████▉                                                       | 377/1991 [00:00<00:01, 1239.30KB/s]\u001B[A\n",
      " 34%|███████████████████████▎                                            | 681/1991 [00:00<00:00, 1472.86KB/s]\u001B[A\n",
      " 58%|██████████████████████████████████████▊                            | 1153/1991 [00:00<00:00, 2371.28KB/s]\u001B[A\n",
      "1992KB [00:00, 2147.72KB/s]                                                                                   \u001B[A"
     ]
    },
    {
     "name": "stderr",
     "output_type": "stream",
     "text": [
      "Downloading DESI Legacy Survey DR10 photometry:  79%|██████████████████▏    | 119/150 [14:00<05:48, 11.25s/it][EveryStamp:LegacyDownloader] 2025-02-10 11:57:41,366 - INFO: Downloading cutout from https://www.legacysurvey.org/viewer/jpeg-cutout/?ra=229.077190&dec=0.092336&layer=ls-dr10&pixscale=0.524&bands=griz&size=1757\n"
     ]
    },
    {
     "name": "stdout",
     "output_type": "stream",
     "text": [
      "\n",
      "\n",
      "  0%|                                                                                | 0/1154 [00:00<?, ?KB/s]\u001B[A\n",
      "  3%|█▉                                                                    | 32/1154 [00:00<00:03, 301.32KB/s]\u001B[A\n",
      "  7%|████▊                                                                 | 80/1154 [00:00<00:07, 146.85KB/s]\u001B[A\n",
      " 23%|████████████████                                                     | 268/1154 [00:01<00:03, 276.65KB/s]\u001B[A\n",
      " 41%|████████████████████████████▍                                        | 476/1154 [00:01<00:01, 520.88KB/s]\u001B[A\n",
      " 51%|███████████████████████████████████▏                                 | 588/1154 [00:01<00:01, 410.56KB/s]\u001B[A\n",
      " 72%|█████████████████████████████████████████████████▋                   | 832/1154 [00:01<00:00, 524.68KB/s]\u001B[A\n",
      "1155KB [00:02, 569.04KB/s]                                                                                    \u001B[A"
     ]
    },
    {
     "name": "stderr",
     "output_type": "stream",
     "text": [
      "Downloading DESI Legacy Survey DR10 photometry:  80%|██████████████████▍    | 120/150 [14:10<05:30, 11.01s/it][EveryStamp:LegacyDownloader] 2025-02-10 11:57:51,788 - INFO: Downloading cutout from https://www.legacysurvey.org/viewer/jpeg-cutout/?ra=229.340490&dec=-0.715356&layer=ls-dr10&pixscale=0.524&bands=griz&size=1890\n"
     ]
    },
    {
     "name": "stdout",
     "output_type": "stream",
     "text": [
      "\n",
      "\n",
      "  0%|                                                                                | 0/1193 [00:00<?, ?KB/s]\u001B[A\n",
      "  6%|████▌                                                                 | 77/1193 [00:00<00:02, 458.22KB/s]\u001B[A\n",
      " 14%|█████████▊                                                           | 169/1193 [00:00<00:02, 508.85KB/s]\u001B[A\n",
      " 31%|█████████████████████▎                                               | 369/1193 [00:00<00:00, 898.73KB/s]\u001B[A\n",
      " 49%|█████████████████████████████████▌                                  | 589/1193 [00:00<00:00, 1212.41KB/s]\u001B[A\n",
      " 60%|████████████████████████████████████████▉                           | 719/1193 [00:00<00:00, 1113.22KB/s]\u001B[A\n",
      "1194KB [00:00, 1274.17KB/s]                                                                                   \u001B[A"
     ]
    },
    {
     "name": "stderr",
     "output_type": "stream",
     "text": [
      "Downloading DESI Legacy Survey DR10 photometry:  81%|██████████████████▌    | 121/150 [14:27<06:08, 12.72s/it][EveryStamp:LegacyDownloader] 2025-02-10 11:58:08,493 - INFO: Downloading cutout from https://www.legacysurvey.org/viewer/jpeg-cutout/?ra=232.976610&dec=7.364899&layer=ls-dr10&pixscale=0.524&bands=griz&size=1224\n"
     ]
    },
    {
     "name": "stdout",
     "output_type": "stream",
     "text": [
      "\n",
      "\n",
      "  0%|                                                                                 | 0/770 [00:00<?, ?KB/s]\u001B[A\n",
      "  4%|██▉                                                                    | 32/770 [00:00<00:02, 252.62KB/s]\u001B[A\n",
      " 23%|████████████████                                                      | 176/770 [00:00<00:01, 518.91KB/s]\u001B[A\n",
      "771KB [00:00, 1577.11KB/s]                                                                                    \u001B[A"
     ]
    },
    {
     "name": "stderr",
     "output_type": "stream",
     "text": [
      "Downloading DESI Legacy Survey DR10 photometry:  81%|██████████████████▋    | 122/150 [14:32<04:49, 10.33s/it][EveryStamp:LegacyDownloader] 2025-02-10 11:58:13,262 - INFO: Downloading cutout from https://www.legacysurvey.org/viewer/jpeg-cutout/?ra=233.763790&dec=1.342960&layer=ls-dr10&pixscale=0.524&bands=griz&size=846\n"
     ]
    },
    {
     "name": "stdout",
     "output_type": "stream",
     "text": [
      "\n",
      "\n",
      "  0%|                                                                                 | 0/310 [00:00<?, ?KB/s]\u001B[A\n",
      " 10%|███████▎                                                               | 32/310 [00:00<00:00, 318.02KB/s]\u001B[A\n",
      "311KB [00:00, 1066.47KB/s]                                                                                    \u001B[A"
     ]
    },
    {
     "name": "stderr",
     "output_type": "stream",
     "text": [
      "Downloading DESI Legacy Survey DR10 photometry:  82%|██████████████████▊    | 123/150 [14:37<04:00,  8.90s/it]"
     ]
    },
    {
     "name": "stdout",
     "output_type": "stream",
     "text": [
      "\n"
     ]
    },
    {
     "name": "stderr",
     "output_type": "stream",
     "text": [
      "[EveryStamp:LegacyDownloader] 2025-02-10 11:58:18,830 - INFO: Downloading cutout from https://www.legacysurvey.org/viewer/jpeg-cutout/?ra=234.920880&dec=34.420232&layer=ls-dr10&pixscale=0.524&bands=griz&size=1025\n"
     ]
    },
    {
     "name": "stdout",
     "output_type": "stream",
     "text": [
      "\n",
      "  0%|                                                                                 | 0/473 [00:00<?, ?KB/s]\u001B[A\n",
      "  7%|████▊                                                                   | 32/473 [00:00<00:06, 64.20KB/s]\u001B[A\n",
      " 35%|████████████████████████▎                                             | 164/473 [00:00<00:00, 335.85KB/s]\u001B[A\n",
      " 52%|████████████████████████████████████▋                                 | 248/473 [00:01<00:00, 261.39KB/s]\u001B[A\n",
      "474KB [00:01, 305.25KB/s]                                                                                     \u001B[A"
     ]
    },
    {
     "name": "stderr",
     "output_type": "stream",
     "text": [
      "Downloading DESI Legacy Survey DR10 photometry:  83%|███████████████████    | 124/150 [14:45<03:41,  8.52s/it][EveryStamp:LegacyDownloader] 2025-02-10 11:58:26,442 - INFO: Downloading cutout from https://www.legacysurvey.org/viewer/jpeg-cutout/?ra=246.676070&dec=42.671306&layer=ls-dr10&pixscale=0.524&bands=griz&size=1219\n"
     ]
    },
    {
     "name": "stdout",
     "output_type": "stream",
     "text": [
      "\n",
      "\n",
      "  0%|                                                                                 | 0/643 [00:00<?, ?KB/s]\u001B[A\n",
      "  9%|██████▏                                                                | 56/643 [00:00<00:01, 367.69KB/s]\u001B[A\n",
      " 17%|███████████▊                                                          | 108/643 [00:00<00:01, 378.18KB/s]\u001B[A\n",
      " 23%|███████████████▉                                                      | 146/643 [00:00<00:01, 261.35KB/s]\u001B[A\n",
      " 30%|█████████████████████▎                                                | 196/643 [00:00<00:01, 306.03KB/s]\u001B[A\n",
      " 41%|████████████████████████████▋                                         | 264/643 [00:00<00:00, 381.94KB/s]\u001B[A\n",
      " 48%|█████████████████████████████████▎                                    | 306/643 [00:01<00:01, 266.98KB/s]\u001B[A\n",
      " 58%|████████████████████████████████████████▉                             | 376/643 [00:01<00:00, 340.97KB/s]\u001B[A\n",
      " 72%|██████████████████████████████████████████████████                    | 460/643 [00:01<00:00, 436.65KB/s]\u001B[A\n",
      "644KB [00:01, 388.15KB/s]                                                                                     \u001B[A"
     ]
    },
    {
     "name": "stderr",
     "output_type": "stream",
     "text": [
      "Downloading DESI Legacy Survey DR10 photometry:  83%|███████████████████▏   | 125/150 [14:52<03:19,  7.98s/it][EveryStamp:LegacyDownloader] 2025-02-10 11:58:33,163 - INFO: Downloading cutout from https://www.legacysurvey.org/viewer/jpeg-cutout/?ra=249.903580&dec=47.052785&layer=ls-dr10&pixscale=0.524&bands=griz&size=1051\n"
     ]
    },
    {
     "name": "stdout",
     "output_type": "stream",
     "text": [
      "\n",
      "\n",
      "  0%|                                                                                 | 0/480 [00:00<?, ?KB/s]\u001B[A\n",
      "  7%|████▋                                                                  | 32/480 [00:00<00:01, 274.73KB/s]\u001B[A\n",
      " 38%|██████████████████████████▎                                           | 180/480 [00:00<00:00, 881.50KB/s]\u001B[A\n",
      "481KB [00:00, 1137.40KB/s]                                                                                    \u001B[A"
     ]
    },
    {
     "name": "stderr",
     "output_type": "stream",
     "text": [
      "Downloading DESI Legacy Survey DR10 photometry:  84%|███████████████████▎   | 126/150 [14:55<02:39,  6.64s/it][EveryStamp:LegacyDownloader] 2025-02-10 11:58:36,698 - INFO: Downloading cutout from https://www.legacysurvey.org/viewer/jpeg-cutout/?ra=250.084510&dec=46.707530&layer=ls-dr10&pixscale=0.524&bands=griz&size=1029\n"
     ]
    },
    {
     "name": "stdout",
     "output_type": "stream",
     "text": [
      "\n",
      "\n",
      "  0%|                                                                                 | 0/474 [00:00<?, ?KB/s]\u001B[A\n",
      "  2%|█▏                                                                       | 8/474 [00:00<00:11, 40.11KB/s]\u001B[A\n",
      " 17%|████████████▏                                                          | 81/474 [00:00<00:01, 295.07KB/s]\u001B[A\n",
      "475KB [00:00, 1033.26KB/s]                                                                                    \u001B[A"
     ]
    },
    {
     "name": "stderr",
     "output_type": "stream",
     "text": [
      "Downloading DESI Legacy Survey DR10 photometry:  85%|███████████████████▍   | 127/150 [14:59<02:14,  5.84s/it][EveryStamp:LegacyDownloader] 2025-02-10 11:58:40,653 - INFO: Downloading cutout from https://www.legacysurvey.org/viewer/jpeg-cutout/?ra=251.929730&dec=34.936056&layer=ls-dr10&pixscale=0.524&bands=griz&size=976\n"
     ]
    },
    {
     "name": "stdout",
     "output_type": "stream",
     "text": [
      "\n",
      "\n",
      "  0%|                                                                                 | 0/398 [00:00<?, ?KB/s]\u001B[A\n",
      "  8%|█████▋                                                                 | 32/398 [00:00<00:01, 311.73KB/s]\u001B[A\n",
      "399KB [00:00, 1460.68KB/s]                                                                                    \u001B[A"
     ]
    },
    {
     "name": "stderr",
     "output_type": "stream",
     "text": [
      "Downloading DESI Legacy Survey DR10 photometry:  85%|███████████████████▋   | 128/150 [15:03<01:53,  5.16s/it][EveryStamp:LegacyDownloader] 2025-02-10 11:58:44,218 - INFO: Downloading cutout from https://www.legacysurvey.org/viewer/jpeg-cutout/?ra=260.041020&dec=26.623840&layer=ls-dr10&pixscale=0.524&bands=griz&size=1347\n"
     ]
    },
    {
     "name": "stdout",
     "output_type": "stream",
     "text": [
      "\n",
      "\n",
      "  0%|                                                                                 | 0/783 [00:00<?, ?KB/s]\u001B[A\n",
      "  4%|██▉                                                                    | 32/783 [00:00<00:02, 281.36KB/s]\u001B[A\n",
      " 23%|████████████████▍                                                     | 184/783 [00:00<00:00, 931.43KB/s]\u001B[A\n",
      "784KB [00:00, 2356.84KB/s]                                                                                    \u001B[A"
     ]
    },
    {
     "name": "stderr",
     "output_type": "stream",
     "text": [
      "Downloading DESI Legacy Survey DR10 photometry:  86%|███████████████████▊   | 129/150 [15:13<02:22,  6.80s/it][EveryStamp:LegacyDownloader] 2025-02-10 11:58:54,841 - INFO: Downloading cutout from https://www.legacysurvey.org/viewer/jpeg-cutout/?ra=260.612580&dec=32.132799&layer=ls-dr10&pixscale=0.524&bands=griz&size=1041\n"
     ]
    },
    {
     "name": "stdout",
     "output_type": "stream",
     "text": [
      "\n",
      "\n",
      "  0%|                                                                                 | 0/469 [00:00<?, ?KB/s]\u001B[A\n",
      "  7%|████▊                                                                  | 32/469 [00:00<00:01, 254.77KB/s]\u001B[A\n",
      " 39%|███████████████████████████▍                                          | 184/469 [00:00<00:00, 646.45KB/s]\u001B[A\n",
      "470KB [00:00, 1092.39KB/s]                                                                                    \u001B[A"
     ]
    },
    {
     "name": "stderr",
     "output_type": "stream",
     "text": [
      "Downloading DESI Legacy Survey DR10 photometry:  87%|███████████████████▉   | 130/150 [15:20<02:17,  6.88s/it][EveryStamp:LegacyDownloader] 2025-02-10 11:59:01,902 - INFO: Downloading cutout from https://www.legacysurvey.org/viewer/jpeg-cutout/?ra=322.415700&dec=0.088037&layer=ls-dr10&pixscale=0.524&bands=griz&size=984\n"
     ]
    },
    {
     "name": "stdout",
     "output_type": "stream",
     "text": [
      "\n",
      "\n",
      "  0%|                                                                                 | 0/407 [00:00<?, ?KB/s]\u001B[A\n",
      "  8%|█████▌                                                                 | 32/407 [00:00<00:01, 307.41KB/s]\u001B[A\n",
      "408KB [00:00, 1444.14KB/s]                                                                                    \u001B[A"
     ]
    },
    {
     "name": "stderr",
     "output_type": "stream",
     "text": [
      "Downloading DESI Legacy Survey DR10 photometry:  87%|████████████████████   | 131/150 [15:25<02:00,  6.34s/it][EveryStamp:LegacyDownloader] 2025-02-10 11:59:06,978 - INFO: Downloading cutout from https://www.legacysurvey.org/viewer/jpeg-cutout/?ra=323.799200&dec=-1.049468&layer=ls-dr10&pixscale=0.524&bands=griz&size=796\n"
     ]
    },
    {
     "name": "stdout",
     "output_type": "stream",
     "text": [
      "\n",
      "\n",
      "  0%|                                                                                 | 0/268 [00:00<?, ?KB/s]\u001B[A\n",
      " 12%|████████▍                                                              | 32/268 [00:00<00:00, 315.72KB/s]\u001B[A\n",
      "269KB [00:00, 1141.87KB/s]                                                                                    \u001B[A"
     ]
    },
    {
     "name": "stderr",
     "output_type": "stream",
     "text": [
      "Downloading DESI Legacy Survey DR10 photometry:  88%|████████████████████▏  | 132/150 [15:32<01:53,  6.28s/it][EveryStamp:LegacyDownloader] 2025-02-10 11:59:13,138 - INFO: Downloading cutout from https://www.legacysurvey.org/viewer/jpeg-cutout/?ra=323.820110&dec=1.433337&layer=ls-dr10&pixscale=0.524&bands=griz&size=1023\n"
     ]
    },
    {
     "name": "stdout",
     "output_type": "stream",
     "text": [
      "\n",
      "\n",
      "  0%|                                                                                 | 0/423 [00:00<?, ?KB/s]\u001B[A\n",
      "  2%|█▍                                                                       | 8/423 [00:00<00:06, 66.50KB/s]\u001B[A\n",
      " 19%|█████████████▍                                                         | 80/423 [00:00<00:00, 398.12KB/s]\u001B[A\n",
      "424KB [00:00, 1173.64KB/s]                                                                                    \u001B[A"
     ]
    },
    {
     "name": "stderr",
     "output_type": "stream",
     "text": [
      "Downloading DESI Legacy Survey DR10 photometry:  89%|████████████████████▍  | 133/150 [15:37<01:43,  6.09s/it][EveryStamp:LegacyDownloader] 2025-02-10 11:59:18,789 - INFO: Downloading cutout from https://www.legacysurvey.org/viewer/jpeg-cutout/?ra=327.754540&dec=-7.609313&layer=ls-dr10&pixscale=0.524&bands=griz&size=895\n"
     ]
    },
    {
     "name": "stdout",
     "output_type": "stream",
     "text": [
      "\n",
      "\n",
      "  0%|                                                                                 | 0/395 [00:00<?, ?KB/s]\u001B[A\n",
      "  8%|█████▊                                                                 | 32/395 [00:00<00:01, 249.34KB/s]\u001B[A\n",
      " 46%|███████████████████████████████▉                                      | 180/395 [00:00<00:00, 837.31KB/s]\u001B[A\n",
      "396KB [00:00, 997.50KB/s]                                                                                     \u001B[A"
     ]
    },
    {
     "name": "stderr",
     "output_type": "stream",
     "text": [
      "Downloading DESI Legacy Survey DR10 photometry:  89%|████████████████████▌  | 134/150 [15:43<01:37,  6.08s/it][EveryStamp:LegacyDownloader] 2025-02-10 11:59:24,849 - INFO: Downloading cutout from https://www.legacysurvey.org/viewer/jpeg-cutout/?ra=327.851310&dec=-5.449995&layer=ls-dr10&pixscale=0.524&bands=griz&size=1545\n"
     ]
    },
    {
     "name": "stdout",
     "output_type": "stream",
     "text": [
      "\n",
      "\n",
      "  0%|                                                                                | 0/1133 [00:00<?, ?KB/s]\u001B[A\n",
      "  3%|█▉                                                                    | 32/1133 [00:00<00:03, 306.97KB/s]\u001B[A\n",
      " 12%|████████▎                                                            | 137/1133 [00:00<00:01, 540.39KB/s]\u001B[A\n",
      " 17%|███████████▍                                                         | 188/1133 [00:00<00:02, 399.36KB/s]\u001B[A\n",
      " 27%|██████████████████▉                                                  | 311/1133 [00:00<00:01, 545.27KB/s]\u001B[A\n",
      " 54%|████████████████████████████████████▍                               | 607/1133 [00:00<00:00, 1135.89KB/s]\u001B[A\n",
      " 83%|████████████████████████████████████████████████████████▎           | 939/1133 [00:00<00:00, 1659.04KB/s]\u001B[A\n",
      "1134KB [00:01, 1086.24KB/s]                                                                                   \u001B[A"
     ]
    },
    {
     "name": "stderr",
     "output_type": "stream",
     "text": [
      "Downloading DESI Legacy Survey DR10 photometry:  90%|████████████████████▋  | 135/150 [15:51<01:39,  6.66s/it][EveryStamp:LegacyDownloader] 2025-02-10 11:59:32,842 - INFO: Downloading cutout from https://www.legacysurvey.org/viewer/jpeg-cutout/?ra=328.404190&dec=17.696373&layer=ls-dr10&pixscale=0.524&bands=griz&size=974\n"
     ]
    },
    {
     "name": "stdout",
     "output_type": "stream",
     "text": [
      "\n",
      "\n",
      "  0%|                                                                                 | 0/402 [00:00<?, ?KB/s]\u001B[A\n",
      "  8%|█████▋                                                                 | 32/402 [00:00<00:01, 310.99KB/s]\u001B[A\n",
      "403KB [00:00, 695.37KB/s]                                                                                     \u001B[A"
     ]
    },
    {
     "name": "stderr",
     "output_type": "stream",
     "text": [
      "Downloading DESI Legacy Survey DR10 photometry:  91%|████████████████████▊  | 136/150 [15:57<01:28,  6.31s/it][EveryStamp:LegacyDownloader] 2025-02-10 11:59:38,333 - INFO: Downloading cutout from https://www.legacysurvey.org/viewer/jpeg-cutout/?ra=336.521070&dec=17.372292&layer=ls-dr10&pixscale=0.524&bands=griz&size=1850\n"
     ]
    },
    {
     "name": "stdout",
     "output_type": "stream",
     "text": [
      "\n",
      "\n",
      "  0%|                                                                                | 0/1410 [00:00<?, ?KB/s]\u001B[A\n",
      "  2%|█▌                                                                    | 32/1410 [00:00<00:04, 317.31KB/s]\u001B[A\n",
      " 12%|████████▌                                                            | 176/1410 [00:00<00:01, 782.70KB/s]\u001B[A\n",
      " 33%|██████████████████████▌                                             | 468/1410 [00:00<00:00, 1415.70KB/s]\u001B[A\n",
      " 56%|██████████████████████████████████████▏                             | 792/1410 [00:00<00:00, 1884.06KB/s]\u001B[A\n",
      "1411KB [00:00, 2045.96KB/s]                                                                                   \u001B[A"
     ]
    },
    {
     "name": "stderr",
     "output_type": "stream",
     "text": [
      "Downloading DESI Legacy Survey DR10 photometry:  91%|█████████████████████  | 137/150 [16:06<01:34,  7.30s/it][EveryStamp:LegacyDownloader] 2025-02-10 11:59:47,942 - INFO: Downloading cutout from https://www.legacysurvey.org/viewer/jpeg-cutout/?ra=339.914210&dec=-5.724144&layer=ls-dr10&pixscale=0.524&bands=griz&size=952\n"
     ]
    },
    {
     "name": "stdout",
     "output_type": "stream",
     "text": [
      "\n",
      "\n",
      "  0%|                                                                                 | 0/430 [00:00<?, ?KB/s]\u001B[A\n",
      "  1%|▋                                                                        | 4/430 [00:00<00:43,  9.86KB/s]\u001B[A\n",
      "  7%|█████▎                                                                  | 32/430 [00:00<00:05, 78.45KB/s]\u001B[A\n",
      "431KB [00:00, 431.26KB/s]                                                                                     \u001B[A"
     ]
    },
    {
     "name": "stderr",
     "output_type": "stream",
     "text": [
      "Downloading DESI Legacy Survey DR10 photometry:  92%|█████████████████████▏ | 138/150 [16:10<01:15,  6.32s/it][EveryStamp:LegacyDownloader] 2025-02-10 11:59:51,974 - INFO: Downloading cutout from https://www.legacysurvey.org/viewer/jpeg-cutout/?ra=340.477730&dec=17.538010&layer=ls-dr10&pixscale=0.524&bands=griz&size=813\n"
     ]
    },
    {
     "name": "stdout",
     "output_type": "stream",
     "text": [
      "\n",
      "\n",
      "  0%|                                                                                 | 0/254 [00:00<?, ?KB/s]\u001B[A\n",
      " 13%|████████▉                                                              | 32/254 [00:00<00:00, 283.59KB/s]\u001B[A\n",
      "255KB [00:00, 1054.78KB/s]                                                                                    \u001B[A"
     ]
    },
    {
     "name": "stderr",
     "output_type": "stream",
     "text": [
      "Downloading DESI Legacy Survey DR10 photometry:  93%|█████████████████████▎ | 139/150 [16:15<01:02,  5.69s/it][EveryStamp:LegacyDownloader] 2025-02-10 11:59:56,193 - INFO: Downloading cutout from https://www.legacysurvey.org/viewer/jpeg-cutout/?ra=344.220310&dec=5.502854&layer=ls-dr10&pixscale=0.524&bands=griz&size=1283\n"
     ]
    },
    {
     "name": "stdout",
     "output_type": "stream",
     "text": [
      "\n",
      "\n",
      "  0%|                                                                                 | 0/616 [00:00<?, ?KB/s]\u001B[A\n",
      "  5%|███▋                                                                   | 32/616 [00:00<00:02, 257.77KB/s]\u001B[A\n",
      " 29%|████████████████████                                                  | 176/616 [00:00<00:00, 838.09KB/s]\u001B[A\n",
      "617KB [00:00, 1579.08KB/s]                                                                                    \u001B[A"
     ]
    },
    {
     "name": "stderr",
     "output_type": "stream",
     "text": [
      "Downloading DESI Legacy Survey DR10 photometry:  93%|█████████████████████▍ | 140/150 [16:20<00:57,  5.73s/it][EveryStamp:LegacyDownloader] 2025-02-10 12:00:02,016 - INFO: Downloading cutout from https://www.legacysurvey.org/viewer/jpeg-cutout/?ra=344.532390&dec=20.912112&layer=ls-dr10&pixscale=0.524&bands=griz&size=832\n"
     ]
    },
    {
     "name": "stdout",
     "output_type": "stream",
     "text": [
      "\n",
      "\n",
      "  0%|                                                                                 | 0/269 [00:00<?, ?KB/s]\u001B[A\n",
      " 12%|████████▍                                                              | 32/269 [00:00<00:00, 276.10KB/s]\u001B[A\n",
      "270KB [00:00, 1121.07KB/s]                                                                                    \u001B[A"
     ]
    },
    {
     "name": "stderr",
     "output_type": "stream",
     "text": [
      "Downloading DESI Legacy Survey DR10 photometry:  94%|█████████████████████▌ | 141/150 [16:25<00:49,  5.53s/it][EveryStamp:LegacyDownloader] 2025-02-10 12:00:07,093 - INFO: Downloading cutout from https://www.legacysurvey.org/viewer/jpeg-cutout/?ra=347.091130&dec=-2.190959&layer=ls-dr10&pixscale=0.524&bands=griz&size=841\n"
     ]
    },
    {
     "name": "stdout",
     "output_type": "stream",
     "text": [
      "\n",
      "\n",
      "  0%|                                                                                 | 0/322 [00:00<?, ?KB/s]\u001B[A\n",
      "  2%|█▊                                                                       | 8/322 [00:00<00:05, 59.23KB/s]\u001B[A\n",
      " 25%|█████████████████▋                                                     | 80/322 [00:00<00:00, 387.36KB/s]\u001B[A\n",
      "323KB [00:00, 404.03KB/s]                                                                                     \u001B[A"
     ]
    },
    {
     "name": "stderr",
     "output_type": "stream",
     "text": [
      "Downloading DESI Legacy Survey DR10 photometry:  95%|█████████████████████▊ | 142/150 [16:30<00:41,  5.24s/it][EveryStamp:LegacyDownloader] 2025-02-10 12:00:11,639 - INFO: Downloading cutout from https://www.legacysurvey.org/viewer/jpeg-cutout/?ra=347.886200&dec=3.633315&layer=ls-dr10&pixscale=0.524&bands=griz&size=847\n"
     ]
    },
    {
     "name": "stdout",
     "output_type": "stream",
     "text": [
      "\n",
      "\n",
      "  0%|                                                                                 | 0/266 [00:00<?, ?KB/s]\u001B[A\n",
      " 12%|████████▌                                                              | 32/266 [00:00<00:00, 252.54KB/s]\u001B[A\n",
      " 60%|██████████████████████████████████████████                            | 160/266 [00:00<00:00, 735.18KB/s]\u001B[A\n",
      "267KB [00:00, 504.85KB/s]                                                                                     \u001B[A"
     ]
    },
    {
     "name": "stderr",
     "output_type": "stream",
     "text": [
      "Downloading DESI Legacy Survey DR10 photometry:  95%|█████████████████████▉ | 143/150 [16:34<00:33,  4.77s/it][EveryStamp:LegacyDownloader] 2025-02-10 12:00:15,308 - INFO: Downloading cutout from https://www.legacysurvey.org/viewer/jpeg-cutout/?ra=347.953610&dec=3.679659&layer=ls-dr10&pixscale=0.524&bands=griz&size=855\n"
     ]
    },
    {
     "name": "stdout",
     "output_type": "stream",
     "text": [
      "\n",
      "\n",
      "  0%|                                                                                 | 0/288 [00:00<?, ?KB/s]\u001B[A\n",
      " 11%|███████▉                                                               | 32/288 [00:00<00:00, 260.94KB/s]\u001B[A\n",
      "289KB [00:00, 529.50KB/s]                                                                                     \u001B[A"
     ]
    },
    {
     "name": "stderr",
     "output_type": "stream",
     "text": [
      "Downloading DESI Legacy Survey DR10 photometry:  96%|██████████████████████ | 144/150 [16:38<00:27,  4.62s/it][EveryStamp:LegacyDownloader] 2025-02-10 12:00:19,575 - INFO: Downloading cutout from https://www.legacysurvey.org/viewer/jpeg-cutout/?ra=349.590000&dec=18.734000&layer=ls-dr10&pixscale=0.524&bands=griz&size=1383\n"
     ]
    },
    {
     "name": "stdout",
     "output_type": "stream",
     "text": [
      "\n",
      "\n",
      "  0%|                                                                                 | 0/681 [00:00<?, ?KB/s]\u001B[A\n",
      "  5%|███▎                                                                   | 32/681 [00:00<00:02, 301.06KB/s]\u001B[A\n",
      " 22%|███████████████▏                                                      | 148/681 [00:00<00:01, 452.82KB/s]\u001B[A\n",
      " 44%|██████████████████████████████▋                                       | 299/681 [00:00<00:00, 769.04KB/s]\u001B[A\n",
      " 70%|████████████████████████████████████████████████                     | 474/681 [00:00<00:00, 1070.22KB/s]\u001B[A\n",
      "682KB [00:00, 917.15KB/s]                                                                                     \u001B[A\n"
     ]
    },
    {
     "name": "stderr",
     "output_type": "stream",
     "text": [
      "Downloading DESI Legacy Survey DR10 photometry:  97%|██████████████████████▏| 145/150 [16:44<00:25,  5.06s/it][EveryStamp:LegacyDownloader] 2025-02-10 12:00:25,671 - INFO: Downloading cutout from https://www.legacysurvey.org/viewer/jpeg-cutout/?ra=350.353080&dec=19.754217&layer=ls-dr10&pixscale=0.524&bands=griz&size=806\n"
     ]
    },
    {
     "name": "stdout",
     "output_type": "stream",
     "text": [
      "\n",
      "  0%|                                                                                 | 0/239 [00:00<?, ?KB/s]\u001B[A\n",
      " 13%|█████████▌                                                             | 32/239 [00:00<00:00, 315.13KB/s]\u001B[A\n",
      "240KB [00:00, 709.66KB/s]                                                                                     \u001B[A"
     ]
    },
    {
     "name": "stderr",
     "output_type": "stream",
     "text": [
      "Downloading DESI Legacy Survey DR10 photometry:  97%|██████████████████████▍| 146/150 [16:48<00:18,  4.68s/it][EveryStamp:LegacyDownloader] 2025-02-10 12:00:29,460 - INFO: Downloading cutout from https://www.legacysurvey.org/viewer/jpeg-cutout/?ra=350.470410&dec=19.893604&layer=ls-dr10&pixscale=0.524&bands=griz&size=828\n"
     ]
    },
    {
     "name": "stdout",
     "output_type": "stream",
     "text": [
      "\n",
      "\n",
      "  0%|                                                                                 | 0/248 [00:00<?, ?KB/s]\u001B[A\n",
      " 13%|█████████▏                                                             | 32/248 [00:00<00:00, 259.40KB/s]\u001B[A\n",
      " 35%|█████████████████████████▏                                             | 88/248 [00:00<00:00, 355.99KB/s]\u001B[A\n",
      " 60%|█████████████████████████████████████████▊                            | 148/248 [00:00<00:00, 440.15KB/s]\u001B[A\n",
      "249KB [00:00, 469.69KB/s]                                                                                     \u001B[A"
     ]
    },
    {
     "name": "stderr",
     "output_type": "stream",
     "text": [
      "Downloading DESI Legacy Survey DR10 photometry:  98%|██████████████████████▌| 147/150 [16:53<00:14,  4.81s/it][EveryStamp:LegacyDownloader] 2025-02-10 12:00:34,592 - INFO: Downloading cutout from https://www.legacysurvey.org/viewer/jpeg-cutout/?ra=354.410880&dec=0.270705&layer=ls-dr10&pixscale=0.524&bands=griz&size=855\n"
     ]
    },
    {
     "name": "stdout",
     "output_type": "stream",
     "text": [
      "\n",
      "\n",
      "  0%|                                                                                 | 0/282 [00:00<?, ?KB/s]\u001B[A\n",
      " 11%|████████                                                               | 32/282 [00:00<00:00, 311.70KB/s]\u001B[A\n",
      " 31%|██████████████████████▏                                                | 88/282 [00:00<00:00, 431.08KB/s]\u001B[A\n",
      " 52%|████████████████████████████████████▋                                 | 148/282 [00:00<00:00, 481.16KB/s]\u001B[A\n",
      "283KB [00:00, 559.87KB/s]                                                                                     \u001B[A"
     ]
    },
    {
     "name": "stderr",
     "output_type": "stream",
     "text": [
      "Downloading DESI Legacy Survey DR10 photometry:  99%|██████████████████████▋| 148/150 [16:55<00:08,  4.12s/it][EveryStamp:LegacyDownloader] 2025-02-10 12:00:37,107 - INFO: Downloading cutout from https://www.legacysurvey.org/viewer/jpeg-cutout/?ra=355.319370&dec=-9.024678&layer=ls-dr10&pixscale=0.524&bands=griz&size=950\n"
     ]
    },
    {
     "name": "stdout",
     "output_type": "stream",
     "text": [
      "\n",
      "\n",
      "  0%|                                                                                 | 0/422 [00:00<?, ?KB/s]\u001B[A\n",
      "  8%|█████▍                                                                  | 32/422 [00:00<00:06, 62.30KB/s]\u001B[A\n",
      " 22%|███████████████▍                                                       | 92/422 [00:00<00:01, 176.19KB/s]\u001B[A\n",
      " 30%|█████████████████████▏                                                | 128/422 [00:00<00:01, 170.93KB/s]\u001B[A\n",
      " 45%|███████████████████████████████▏                                      | 188/422 [00:00<00:00, 248.34KB/s]\u001B[A\n",
      " 62%|███████████████████████████████████████████▏                          | 260/422 [00:01<00:00, 325.79KB/s]\u001B[A\n",
      " 72%|██████████████████████████████████████████████████                    | 302/422 [00:01<00:00, 253.89KB/s]\u001B[A\n",
      "423KB [00:01, 282.88KB/s]                                                                                     \u001B[A"
     ]
    },
    {
     "name": "stderr",
     "output_type": "stream",
     "text": [
      "Downloading DESI Legacy Survey DR10 photometry:  99%|██████████████████████▊| 149/150 [17:01<00:04,  4.56s/it][EveryStamp:LegacyDownloader] 2025-02-10 12:00:42,691 - INFO: Downloading cutout from https://www.legacysurvey.org/viewer/jpeg-cutout/?ra=355.924020&dec=0.308680&layer=ls-dr10&pixscale=0.524&bands=griz&size=935\n"
     ]
    },
    {
     "name": "stdout",
     "output_type": "stream",
     "text": [
      "\n",
      "\n",
      "  0%|                                                                                 | 0/350 [00:00<?, ?KB/s]\u001B[A\n",
      "  9%|██████▍                                                                | 32/350 [00:00<00:01, 306.77KB/s]\u001B[A\n",
      " 25%|█████████████████▊                                                     | 88/350 [00:00<00:01, 204.79KB/s]\u001B[A\n",
      " 43%|██████████████████████████████▍                                       | 152/350 [00:00<00:00, 302.79KB/s]\u001B[A\n",
      " 54%|█████████████████████████████████████▊                                | 189/350 [00:00<00:00, 305.90KB/s]\u001B[A\n",
      " 73%|███████████████████████████████████████████████████▏                  | 256/350 [00:00<00:00, 395.05KB/s]\u001B[A\n",
      "351KB [00:01, 327.56KB/s]                                                                                     \u001B[A"
     ]
    },
    {
     "name": "stderr",
     "output_type": "stream",
     "text": [
      "Downloading DESI Legacy Survey DR10 photometry: 100%|███████████████████████| 150/150 [17:08<00:00,  6.86s/it]"
     ]
    },
    {
     "name": "stdout",
     "output_type": "stream",
     "text": [
      "\n"
     ]
    },
    {
     "name": "stderr",
     "output_type": "stream",
     "text": [
      "\n"
     ]
    }
   ],
   "source": [
    "if 'desi-ls' in rel_miss:\n",
    "    # Setting up the downloader class instance\n",
    "    desi_down = rel_downloaders['desi-ls']()\n",
    "\n",
    "    ls_pix_side_lengths = ((side_length/ang_prop_ratios)/ls_start_pix_scale).to('pix')\n",
    "\n",
    "    if (ls_pix_side_lengths > ls_pixsize_lim).any():\n",
    "        ls_worst_pix_len = ls_pix_side_lengths.max()\n",
    "        ls_pix_scale_multi = np.ceil(ls_worst_pix_len / ls_pixsize_lim).astype(int)\n",
    "        warn(\"The Legacy Survey pixel side length for one or more clusters is greater than allowed by the cutout \" \\\n",
    "             \"server - changing pixel scale to {}\".format(ls_pix_scale_multi*ls_start_pix_scale), stacklevel=2)\n",
    "    else:\n",
    "        ls_pix_scale_multi = 1\n",
    "\n",
    "    # Set up the final pixel scale\n",
    "    ls_final_pix_scale = ls_start_pix_scale * ls_pix_scale_multi\n",
    "\n",
    "    # Recalculate with the final scale\n",
    "    ls_pix_side_lengths = ((side_length/ang_prop_ratios)/ls_final_pix_scale).to('pix')\n",
    "\n",
    "    # We make a copy of the data operations section of the history, as it may be changed in this next bit\n",
    "    data_op_hist = deepcopy(cur_history['data_operations'])\n",
    "    # And a change flag\n",
    "    hist_change = False\n",
    "    \n",
    "    # Iterating through dataframes like this is a bad idea if you're performing calculations on dataframe information, or if the\n",
    "    #  dataframe is large (more than a few thousand entries), as iterating is very slow. However, we're just iterating to read\n",
    "    #  things out, so it is sort of okay (and quite convenient)\n",
    "    with tqdm(total=len(samp), desc='Downloading DESI Legacy Survey DR10 photometry') as onwards:\n",
    "        for row_ind, row in samp.iterrows():\n",
    "            # Read out the cluster name - so we can store things in the right place, and keep track of which image\n",
    "            #  belongs to which cluster\n",
    "            cur_name = row['name']\n",
    "            \n",
    "            # First, lets check if this cluster has had DESI-LS data downloaded already. We'll use the project \n",
    "            #  history, as it is much computationally cheaper than checking if the expected file names exist\n",
    "            if cur_history['data_operations'][cur_name]['raw_images']['desi-ls']['complete']:\n",
    "                onwards.update(1)\n",
    "                continue\n",
    "\n",
    "            # Reading out relevant information - position is obviously very important, it is where we will center the\n",
    "            #  downloaded images\n",
    "            cur_ra = row['cent_im_ra']\n",
    "            cur_dec = row['cent_im_dec']\n",
    "            # The conversion between arcmin and arcminutes we calculated earlier, note that retrieving from a row\n",
    "            #  of a dataframe like this seems to render it a float again, rather than an Astropy quantity\n",
    "            cur_ang_prop_ratio = Quantity(row['ang_prop_ratio'], 'kpc/arcmin')\n",
    "    \n",
    "            # Though we already calculated the final pixel sizes we need for the LS images, the download method\n",
    "            #  wants the pixel scale and an angular side length specified seperately, so we have to convert the\n",
    "            #  proper side-length to degrees\n",
    "            cur_deg_side_length = (side_length / cur_ang_prop_ratio).to('deg')\n",
    "    \n",
    "            # Populate the raw image storage directory path, with the cluster name and the current mission name\n",
    "            cur_download_dir = raw_im_pth.format(n=cur_name, m='desi-ls')\n",
    "            # Set up the final raw image file name, with some useful info in it\n",
    "            cur_file_name = \"{n}_sidelength{sl}_pixscale{ps}.jpeg\".format(n=cur_name, sl=str(side_length).replace(' ', ''), \n",
    "                                                                          ps=str(ls_final_pix_scale).replace(' ', '').replace('/', 'per'))\n",
    "            # Combine the raw image storage path with the file name\n",
    "            cur_download_pth = os.path.join(cur_download_dir, cur_file_name)\n",
    "    \n",
    "            desi_down.download(ra=cur_ra, dec=cur_dec, bands='griz', layer='ls-dr10', mode='jpeg', autoscale=False, \n",
    "                               ddir=cur_download_dir, size=cur_deg_side_length.value, pixscale=ls_final_pix_scale.value)\n",
    "    \n",
    "            # Change the name of the downloaded file to something more descriptive\n",
    "            down_file_name = 'legacystamps_{r}_{d}_ls-dr10.jpeg'.format(r='{:.6f}'.format(cur_ra), d='{:.6f}'.format(cur_dec))\n",
    "            down_file_path = os.path.join(cur_download_dir, down_file_name)\n",
    "            os.rename(down_file_path, cur_download_pth)\n",
    "\n",
    "            # Now we add to the data operation history - as well as setting the change flag to True so we know to run the \n",
    "            #  history file update at the end of the looping\n",
    "            hist_change = True\n",
    "            data_op_hist[cur_name]['raw_images']['desi-ls']['complete'] = True\n",
    "            data_op_hist[cur_name]['raw_images']['desi-ls']['arcsec_per_pix'] = ls_final_pix_scale.value\n",
    "            # This shouldn't be necessary, as it should be setup so the sample content won't change, but we'll\n",
    "            #  save the central RA and Dec here as well, so all the WCS-related information will be in one place\n",
    "            data_op_hist[cur_name]['raw_images']['desi-ls']['cen_pos'] = [cur_ra, cur_dec]\n",
    "            # Make sure we save the RELATIVE path - otherwise this history file won't work on other systems\n",
    "            data_op_hist[cur_name]['raw_images']['desi-ls']['im_path'] = os.path.relpath(cur_download_pth)\n",
    "            \n",
    "            onwards.update(1)\n",
    "\n",
    "    # Only run the update history function if there were changes\n",
    "    if hist_change:\n",
    "        cur_history = update_history({'data_operations': data_op_hist})\n",
    "\n",
    "# TODO COULD ADD SOME NICE FAIL SAFE SO THAT IT ATTEMPTS TO DOWNLOAD AN SDSS IMAGE IF THERE IS NO LS DATA"
   ]
  },
  {
   "cell_type": "markdown",
   "id": "0cc9bcc5-28f6-4d4e-b7a5-c4353acb208c",
   "metadata": {},
   "source": [
    "## Downloading VLASS images"
   ]
  },
  {
   "cell_type": "markdown",
   "id": "4b72d232-a93f-4968-884e-5a390259e0a4",
   "metadata": {},
   "source": []
  },
  {
   "cell_type": "code",
   "execution_count": 12,
   "id": "34f2204e-28de-44a0-97a5-d9c6b2a5806b",
   "metadata": {
    "scrolled": true
   },
   "outputs": [],
   "source": [
    "if 'vlass' in rel_miss:\n",
    "    # Setting up the downloader class instance for VLASS - it has fewer download options than the DESI one does\n",
    "    vlass_down = rel_downloaders['vlass'](datatype='se')\n",
    "\n",
    "    # We make a copy of the data operations section of the history, as it may be changed in this next bit\n",
    "    data_op_hist = deepcopy(cur_history['data_operations'])\n",
    "    # And a change flag\n",
    "    hist_change = False\n",
    "\n",
    "    os.chdir('raw_images/')\n",
    "    \n",
    "    # Iterating through dataframes like this is a bad idea if you're performing calculations on dataframe information, or if the\n",
    "    #  dataframe is large (more than a few thousand entries), as iterating is very slow. However, we're just iterating to read\n",
    "    #  things out, so it is sort of okay (and quite convenient)\n",
    "    with tqdm(total=len(samp), desc='Downloading VLASS maps') as onwards:\n",
    "        for row_ind, row in samp.iterrows():\n",
    "            # Read out the cluster name - so we can store things in the right place, and keep track of which image\n",
    "            #  belongs to which cluster\n",
    "            cur_name = row['name']\n",
    "            \n",
    "            # First, lets check if this cluster has had VLASS maps downloaded already. We'll use the project \n",
    "            #  history, as it is much computationally cheaper than checking if the expected file names exist\n",
    "            if cur_history['data_operations'][cur_name]['raw_images']['vlass']['complete']:\n",
    "                onwards.update(1)\n",
    "                continue\n",
    "\n",
    "            # Reading out relevant information - position is obviously very important, it is where we will center the\n",
    "            #  downloaded images\n",
    "            cur_ra = row['cent_im_ra']\n",
    "            cur_dec = row['cent_im_dec']\n",
    "            # The conversion between arcmin and arcminutes we calculated earlier, note that retrieving from a row\n",
    "            #  of a dataframe like this seems to render it a float again, rather than an Astropy quantity\n",
    "            cur_ang_prop_ratio = Quantity(row['ang_prop_ratio'], 'kpc/arcmin')\n",
    "\n",
    "            # Though we already calculated the final pixel sizes we need for the LS images, the download method\n",
    "            #  wants the pixel scale and an angular side length specified seperately, so we have to convert the\n",
    "            #  proper side-length to degrees\n",
    "            cur_deg_side_length = (side_length / cur_ang_prop_ratio).to('deg')\n",
    "    \n",
    "            # Populate the raw image storage directory path, with the cluster name and the current mission name\n",
    "            cur_download_dir = raw_im_pth.format(n=cur_name, m='vlass')\n",
    "            # Set up the final raw image file name, with some useful info in it\n",
    "            cur_file_name = \"{n}_sidelength{sl}_pixscale{ps}.fits\".format(n=cur_name, sl=str(side_length).replace(' ', ''), \n",
    "                                                                          ps='2.5arcsecperpix')\n",
    "            # Combine the raw image storage path with the file name\n",
    "            cur_download_pth = os.path.join(cur_download_dir, cur_file_name)\n",
    "            \n",
    "            # Unfortunately this downloader can raise a general exception rather than a specific one, so I have\n",
    "            #  to account for that\n",
    "            try:\n",
    "                vlass_down.download(ra=cur_ra, dec=cur_dec, ddir=cur_download_dir, size=cur_deg_side_length.value, \n",
    "                                    consider_QA_rejected=True, crop=True)\n",
    "            # I am aware that excepting both is pointless because Exception is the super-class, but it is to remind me\n",
    "            except (HTTPError, Exception) as err:\n",
    "                print(err)\n",
    "                # Record that we tried to get the image, but it wasn't available\n",
    "                hist_change = True\n",
    "                data_op_hist[cur_name]['raw_images']['vlass']['unavailable'] = True\n",
    "                data_op_hist[cur_name]['raw_images']['vlass']['complete'] = True\n",
    "                onwards.update(1)\n",
    "                continue\n",
    "                \n",
    "            # Change the name of the downloaded file to something more descriptive\n",
    "            # down_file_name = 'VLASS_{r}_{d}_'.format(r='{:.6f}'.format(cur_ra), d='{:.6f}'.format(cur_dec))\n",
    "            # poss_vlass_files = [f for f in os.listdir(cur_download_dir) if down_file_name in f]\n",
    "            if len(poss_vlass_files) != 1:\n",
    "                raise ValueError(\"There are multiple possible VLASS images for {n}.\".format(n=cur_name))\n",
    "            else:\n",
    "                down_file_name = poss_vlass_files[0]\n",
    "                \n",
    "            down_file_path = os.path.join(cur_download_dir, down_file_name)\n",
    "            os.rename(down_file_path, cur_download_pth)\n",
    "            \n",
    "            # Now we add to the data operation history - as well as setting the change flag to True so we know to run the \n",
    "            #  history file update at the end of the looping\n",
    "            hist_change = True\n",
    "            data_op_hist[cur_name]['raw_images']['vlass']['complete'] = True\n",
    "            # This shouldn't be necessary, as it should be setup so the sample content won't change, but we'll\n",
    "            #  save the central RA and Dec here as well, so all the WCS-related information will be in one place\n",
    "            data_op_hist[cur_name]['raw_images']['vlass']['cen_pos'] = [cur_ra, cur_dec]\n",
    "            data_op_hist[cur_name]['raw_images']['vlass']['im_path'] = os.path.relpath(cur_download_pth)\n",
    "            \n",
    "            onwards.update(1)\n",
    "\n",
    "    # # Only run the update history function if there were changes\n",
    "    if hist_change:\n",
    "        cur_history = update_history({'data_operations': data_op_hist})\n",
    "\n",
    "os.chdir(TOP_WD)"
   ]
  }
 ],
 "metadata": {
  "kernelspec": {
   "display_name": "Python 3 (ipykernel)",
   "language": "python",
   "name": "python3"
  },
  "language_info": {
   "codemirror_mode": {
    "name": "ipython",
    "version": 3
   },
   "file_extension": ".py",
   "mimetype": "text/x-python",
   "name": "python",
   "nbconvert_exporter": "python",
   "pygments_lexer": "ipython3",
   "version": "3.12.8"
  }
 },
 "nbformat": 4,
 "nbformat_minor": 5
}
