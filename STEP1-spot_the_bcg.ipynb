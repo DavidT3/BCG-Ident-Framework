{
 "cells": [
  {
   "cell_type": "markdown",
   "id": "1d3ee1b9-b1a3-42af-94c8-d482ea63ffec",
   "metadata": {},
   "source": [
    "# Notebook **One** - Identifying the position(s) of Brightest Cluster Galaxies (BCGs)"
   ]
  },
  {
   "cell_type": "markdown",
   "id": "82ca0de5-e85e-4f3e-ae40-5f6d2bd34e54",
   "metadata": {},
   "source": []
  },
  {
   "cell_type": "markdown",
   "id": "f9aec039-303f-4993-afa7-64f3108cacc8",
   "metadata": {},
   "source": [
    "## Import Statements"
   ]
  },
  {
   "cell_type": "code",
   "execution_count": 4,
   "id": "e7685e4d-438d-4576-9513-a8b23611a473",
   "metadata": {},
   "outputs": [],
   "source": [
    "from ident_run_setup import cosmo, rel_miss, rel_downloaders, side_length, init_samp_file\n",
    "\n",
    "import matplotlib\n",
    "from matplotlib import pyplot as plt\n",
    "# from matplotlib_scalebar.scalebar import ScaleBar\n",
    "from matplotlib.colors import LinearSegmentedColormap\n",
    "import pandas as pd\n",
    "pd.set_option('display.max_columns', 500)"
   ]
  },
  {
   "cell_type": "markdown",
   "id": "b6ac87bf-979f-4245-97ca-da6ec79b746d",
   "metadata": {},
   "source": [
    "## Specify the cluster"
   ]
  },
  {
   "cell_type": "code",
   "execution_count": 5,
   "id": "1066ebca-17c3-4e46-8303-621d3d3211a3",
   "metadata": {},
   "outputs": [],
   "source": [
    "quick_samp = pd.read_csv(\"history/STATIC_sdssrm-xcs_txerr_lim_clusters.csv\")"
   ]
  },
  {
   "cell_type": "code",
   "execution_count": null,
   "id": "4f20293c-2a74-47c2-85c4-2f6dd6d34625",
   "metadata": {
    "scrolled": true
   },
   "outputs": [],
   "source": [
    "for row_ind, row in quick_samp.iterrows():\n",
    "    cur_pth = \"raw_images/{n}/desi-ls/{n}_sidelength2000.0kpc_pixscale0.524arcsecperpix.jpeg\".format(n=row['name'])\n",
    "    print(row['name'])\n",
    "    plt.figure(figsize=(8, 8))\n",
    "\n",
    "    im_data = plt.imread(cur_pth)\n",
    "    plt.imshow(im_data, origin='lower')\n",
    "    plt.tick_params(left=False, bottom=False)\n",
    "    plt.xticks([])\n",
    "    plt.yticks([])\n",
    "\n",
    "    plt.gca().set_aspect(1)\n",
    "\n",
    "    plt.tight_layout()\n",
    "    plt.show()\n",
    "    plt.close('all')\n",
    "    # stop"
   ]
  },
  {
   "cell_type": "code",
   "execution_count": 21,
   "id": "3ef73bd0-6806-46dd-ba94-84ccc07a0a86",
   "metadata": {},
   "outputs": [
    {
     "data": {
      "text/html": [
       "<div>\n",
       "<style scoped>\n",
       "    .dataframe tbody tr th:only-of-type {\n",
       "        vertical-align: middle;\n",
       "    }\n",
       "\n",
       "    .dataframe tbody tr th {\n",
       "        vertical-align: top;\n",
       "    }\n",
       "\n",
       "    .dataframe thead th {\n",
       "        text-align: right;\n",
       "    }\n",
       "</style>\n",
       "<table border=\"1\" class=\"dataframe\">\n",
       "  <thead>\n",
       "    <tr style=\"text-align: right;\">\n",
       "      <th></th>\n",
       "      <th>name</th>\n",
       "      <th>cent_im_ra</th>\n",
       "      <th>cent_im_dec</th>\n",
       "      <th>redshift</th>\n",
       "      <th>r500</th>\n",
       "      <th>r500-</th>\n",
       "      <th>r500+</th>\n",
       "      <th>r2500</th>\n",
       "      <th>r2500-</th>\n",
       "      <th>r2500+</th>\n",
       "      <th>XCS_NAME</th>\n",
       "      <th>ang_prop_ratio</th>\n",
       "    </tr>\n",
       "  </thead>\n",
       "  <tbody>\n",
       "    <tr>\n",
       "      <th>27</th>\n",
       "      <td>SDSSXCS-5977</td>\n",
       "      <td>35.868932</td>\n",
       "      <td>-8.868981</td>\n",
       "      <td>0.167958</td>\n",
       "      <td>778.068206</td>\n",
       "      <td>74.418772</td>\n",
       "      <td>105.391077</td>\n",
       "      <td>334.561622</td>\n",
       "      <td>21.800326</td>\n",
       "      <td>21.976556</td>\n",
       "      <td>XMMXCS J022328.5-085208.3</td>\n",
       "      <td>172.184171</td>\n",
       "    </tr>\n",
       "  </tbody>\n",
       "</table>\n",
       "</div>"
      ],
      "text/plain": [
       "            name  cent_im_ra  cent_im_dec  redshift        r500      r500-  \\\n",
       "27  SDSSXCS-5977   35.868932    -8.868981  0.167958  778.068206  74.418772   \n",
       "\n",
       "         r500+       r2500     r2500-     r2500+                   XCS_NAME  \\\n",
       "27  105.391077  334.561622  21.800326  21.976556  XMMXCS J022328.5-085208.3   \n",
       "\n",
       "    ang_prop_ratio  \n",
       "27      172.184171  "
      ]
     },
     "execution_count": 21,
     "metadata": {},
     "output_type": "execute_result"
    }
   ],
   "source": [
    "quick_samp[quick_samp['name'] == 'SDSSXCS-5977']"
   ]
  }
 ],
 "metadata": {
  "kernelspec": {
   "display_name": "Python 3 (ipykernel)",
   "language": "python",
   "name": "python3"
  },
  "language_info": {
   "codemirror_mode": {
    "name": "ipython",
    "version": 3
   },
   "file_extension": ".py",
   "mimetype": "text/x-python",
   "name": "python",
   "nbconvert_exporter": "python",
   "pygments_lexer": "ipython3",
   "version": "3.12.4"
  }
 },
 "nbformat": 4,
 "nbformat_minor": 5
}
