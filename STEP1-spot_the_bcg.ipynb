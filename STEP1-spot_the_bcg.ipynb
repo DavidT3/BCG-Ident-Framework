{
 "cells": [
  {
   "cell_type": "markdown",
   "id": "1d3ee1b9-b1a3-42af-94c8-d482ea63ffec",
   "metadata": {},
   "source": [
    "# Notebook **One** - Identifying the position(s) of Brightest Cluster Galaxies (BCGs)"
   ]
  },
  {
   "cell_type": "markdown",
   "id": "82ca0de5-e85e-4f3e-ae40-5f6d2bd34e54",
   "metadata": {},
   "source": []
  },
  {
   "cell_type": "markdown",
   "id": "f9aec039-303f-4993-afa7-64f3108cacc8",
   "metadata": {},
   "source": [
    "## Import statements and reading history/sample"
   ]
  },
  {
   "cell_type": "code",
   "execution_count": 1,
   "id": "e7685e4d-438d-4576-9513-a8b23611a473",
   "metadata": {},
   "outputs": [],
   "source": [
    "%matplotlib ipympl\n",
    "\n",
    "from ident_run_setup import cosmo, side_length, HISTORY_FILE_PATH, load_history, proj_name, update_history, InteractiveView\n",
    "\n",
    "from xga.products import Image\n",
    "\n",
    "from astropy.wcs import WCS\n",
    "from astropy.units import Quantity\n",
    "from astropy.visualization import MinMaxInterval, LogStretch\n",
    "import matplotlib\n",
    "from matplotlib import pyplot as plt\n",
    "# from matplotlib_scalebar.scalebar import ScaleBar\n",
    "from matplotlib.colors import LinearSegmentedColormap\n",
    "import numpy as np\n",
    "import pandas as pd\n",
    "pd.set_option('display.max_columns', 500)\n",
    "\n",
    "%matplotlib ipympl"
   ]
  },
  {
   "cell_type": "markdown",
   "id": "9bc2dce2-0219-4850-989f-672682e17616",
   "metadata": {},
   "source": [
    "The framework I've designed for this process (i.e. these notebooks) is trying to keep a useful history of the process - it has recorded the images that we were able to download or generate, and which you'll be looking at in this notebook - and will also help you to more easily record the galaxies that you identify as being possible BCGs. \n",
    "\n",
    "**As this hasn't been tested much, it might be a good idea to keep your own backup copies of the coordinates you identify, by copying the 'history/bcg_ident_proj_save.json' file to some other place on your computer when you're done with each session of identifying BCGs - you could also change the name to add the date and time you made the copy** "
   ]
  },
  {
   "cell_type": "code",
   "execution_count": 2,
   "id": "8d995442-f67c-4aad-b526-49bac032919a",
   "metadata": {},
   "outputs": [],
   "source": [
    "cur_history = load_history()"
   ]
  },
  {
   "cell_type": "markdown",
   "id": "e7467a0b-3277-49f6-b2d3-5397211acaf7",
   "metadata": {},
   "source": [
    "We read the total sample file into a Pandas dataframe:"
   ]
  },
  {
   "cell_type": "code",
   "execution_count": 3,
   "id": "fe98a6b7-69c5-4135-a064-346d366a4dfb",
   "metadata": {},
   "outputs": [
    {
     "data": {
      "text/html": [
       "<div>\n",
       "<style scoped>\n",
       "    .dataframe tbody tr th:only-of-type {\n",
       "        vertical-align: middle;\n",
       "    }\n",
       "\n",
       "    .dataframe tbody tr th {\n",
       "        vertical-align: top;\n",
       "    }\n",
       "\n",
       "    .dataframe thead th {\n",
       "        text-align: right;\n",
       "    }\n",
       "</style>\n",
       "<table border=\"1\" class=\"dataframe\">\n",
       "  <thead>\n",
       "    <tr style=\"text-align: right;\">\n",
       "      <th></th>\n",
       "      <th>name</th>\n",
       "      <th>cent_im_ra</th>\n",
       "      <th>cent_im_dec</th>\n",
       "      <th>redshift</th>\n",
       "      <th>r500</th>\n",
       "      <th>r500-</th>\n",
       "      <th>r500+</th>\n",
       "      <th>r2500</th>\n",
       "      <th>r2500-</th>\n",
       "      <th>r2500+</th>\n",
       "      <th>XCS_NAME</th>\n",
       "      <th>ang_prop_ratio</th>\n",
       "    </tr>\n",
       "  </thead>\n",
       "  <tbody>\n",
       "    <tr>\n",
       "      <th>0</th>\n",
       "      <td>SDSSXCS-124</td>\n",
       "      <td>0.800578</td>\n",
       "      <td>-6.091818</td>\n",
       "      <td>0.247483</td>\n",
       "      <td>1181.028159</td>\n",
       "      <td>21.202221</td>\n",
       "      <td>23.202641</td>\n",
       "      <td>534.834740</td>\n",
       "      <td>7.579124</td>\n",
       "      <td>7.591855</td>\n",
       "      <td>XMMXCS J000312.1-060530.5</td>\n",
       "      <td>232.859967</td>\n",
       "    </tr>\n",
       "    <tr>\n",
       "      <th>1</th>\n",
       "      <td>SDSSXCS-2789</td>\n",
       "      <td>0.955540</td>\n",
       "      <td>2.068019</td>\n",
       "      <td>0.105285</td>\n",
       "      <td>1007.860978</td>\n",
       "      <td>17.194150</td>\n",
       "      <td>17.201505</td>\n",
       "      <td>438.706515</td>\n",
       "      <td>5.198301</td>\n",
       "      <td>5.213676</td>\n",
       "      <td>XMMXCS J000349.3+020404.8</td>\n",
       "      <td>115.802997</td>\n",
       "    </tr>\n",
       "  </tbody>\n",
       "</table>\n",
       "</div>"
      ],
      "text/plain": [
       "           name  cent_im_ra  cent_im_dec  redshift         r500      r500-  \\\n",
       "0   SDSSXCS-124    0.800578    -6.091818  0.247483  1181.028159  21.202221   \n",
       "1  SDSSXCS-2789    0.955540     2.068019  0.105285  1007.860978  17.194150   \n",
       "\n",
       "       r500+       r2500    r2500-    r2500+                   XCS_NAME  \\\n",
       "0  23.202641  534.834740  7.579124  7.591855  XMMXCS J000312.1-060530.5   \n",
       "1  17.201505  438.706515  5.198301  5.213676  XMMXCS J000349.3+020404.8   \n",
       "\n",
       "   ang_prop_ratio  \n",
       "0      232.859967  \n",
       "1      115.802997  "
      ]
     },
     "execution_count": 3,
     "metadata": {},
     "output_type": "execute_result"
    }
   ],
   "source": [
    "# This reads the 'comma separated variable', or CSV/csv, file (which contains information about the sample of clusters\n",
    "#  being investigated), from disk (on the hard-disk drive\\HDD, or solid state disk\\SSD) into memory (a much faster form of storage \n",
    "#  called Random Access Memory\\RAM, where files being used by the operating system or currently running software live). We are using \n",
    "#  a Python module called 'Pandas' to read it in - think of it almost like a Python version of Excel\n",
    "samp = pd.read_csv(cur_history['static_samp_file'])\n",
    "# This method shows the top two lines of the loaded-in sample file\n",
    "samp.head(2)"
   ]
  },
  {
   "cell_type": "markdown",
   "id": "3b91199f-a83a-4318-a2a4-ca6905886a67",
   "metadata": {},
   "source": [
    "All cluster names:"
   ]
  },
  {
   "cell_type": "code",
   "execution_count": 4,
   "id": "9b594789-cc5f-41a1-9ab4-cbc2d2faf6a8",
   "metadata": {},
   "outputs": [
    {
     "name": "stdout",
     "output_type": "stream",
     "text": [
      "['SDSSXCS-124', 'SDSSXCS-2789', 'SDSSXCS-290', 'SDSSXCS-1018', 'SDSSXCS-134', 'SDSSXCS-119']\n"
     ]
    }
   ],
   "source": [
    "print(list(samp['name'].values))"
   ]
  },
  {
   "cell_type": "markdown",
   "id": "8cb3ae16-9e0f-46f3-97b9-821ee4651d68",
   "metadata": {},
   "source": [
    "## A CAVEAT"
   ]
  },
  {
   "cell_type": "markdown",
   "id": "80a89aed-1bfa-426d-a269-0cc7908bb3ed",
   "metadata": {},
   "source": [
    "For technical reasons that I won't explain here, the only to get this interactive plot process working in Jupyter Notebooks (in its current form at least) is to run the notebook for one cluster, then restart it and run it again for the next, and so on.\n",
    "\n",
    "This stepping through of clusters will happen automatically - once the project history has an entry for BCG coordinates from your investigation, the next time the notebook is run it will move on to the next cluster without BCG coordinates. If you want to go back to a specific cluster and overwrite your first attempt, you can set the variable below to the cluster name (e.g. 'SDSSXCS-124', make sure the name is a string with the '' around it) - **before you run the notebook again, make sure to set `overwrite_cluster=None`, and note that None doesn't have any '' around it, as it is not a string**"
   ]
  },
  {
   "cell_type": "code",
   "execution_count": 5,
   "id": "7129059c-0580-4159-87cf-3fc89560e2c9",
   "metadata": {},
   "outputs": [],
   "source": [
    "# You can change this per the instructions above\n",
    "overwrite_cluster = None\n",
    "\n",
    "# Don't change this though\n",
    "if overwrite_cluster is not None and overwrite_cluster not in samp['name'].values:\n",
    "    raise ValueError(\"The overwriting cluster name you set does not correspond to a name in the sample, check \"\\\n",
    "        \"to make sure you typed it correctly!\")"
   ]
  },
  {
   "cell_type": "markdown",
   "id": "335967a8-b47a-4117-91c4-9c550fee83c5",
   "metadata": {},
   "source": [
    "Here we identify the next cluster that doesn't have any recorded BCG identifications, which will be the next one you'll work on - this makes use of the 'history' that is being written as you go through the sample."
   ]
  },
  {
   "cell_type": "code",
   "execution_count": 6,
   "id": "49ffd938-9c4c-4e1c-a223-a5685186c73d",
   "metadata": {},
   "outputs": [
    {
     "name": "stdout",
     "output_type": "stream",
     "text": [
      "BCG candidate identification is 0.0% complete.\n"
     ]
    },
    {
     "data": {
      "text/plain": [
       "name                            SDSSXCS-124\n",
       "cent_im_ra                         0.800578\n",
       "cent_im_dec                       -6.091818\n",
       "redshift                           0.247483\n",
       "r500                            1181.028159\n",
       "r500-                             21.202221\n",
       "r500+                             23.202641\n",
       "r2500                             534.83474\n",
       "r2500-                             7.579124\n",
       "r2500+                             7.591855\n",
       "XCS_NAME          XMMXCS J000312.1-060530.5\n",
       "ang_prop_ratio                   232.859967\n",
       "Name: 0, dtype: object"
      ]
     },
     "execution_count": 6,
     "metadata": {},
     "output_type": "execute_result"
    }
   ],
   "source": [
    "# Here we use the 'complete' flag stored in the BCG identification history to measure the number of clusters\n",
    "#  for which the BCG candidate process is complete\n",
    "# A bit of a silly step to just extract the 'ident_complete' info from the dictionaries of particular clusters, as they\n",
    "#  could have other entries (like BCG info for instance)\n",
    "just_complete = {n: {'ident_complete': cur_history['bcg_identification'][n]['ident_complete']} \n",
    "                 for n in cur_history['bcg_identification']}\n",
    "ident_comp_df = pd.DataFrame(just_complete).T\n",
    "num_bcg_comp = ident_comp_df['ident_complete'].sum()\n",
    "\n",
    "# Show a quick progress update on identifying the BCGs\n",
    "print('BCG candidate identification is {p}% complete.'.format(p=round((num_bcg_comp/cur_history['num_clusters'])*100, 2)))\n",
    "\n",
    "if overwrite_cluster is None:\n",
    "    # Finds the first cluster with a 'False' value in the 'ident_complete' column - though only if you haven't\n",
    "    #  set an overwriting cluster name above\n",
    "    cur_name = ident_comp_df.loc[~ident_comp_df['ident_complete']].index[0]\n",
    "else:\n",
    "    cur_name = overwrite_cluster\n",
    "\n",
    "# Now we read out the relevant row of the sample table\n",
    "cur_row = samp[samp['name'] == cur_name].iloc[0]\n",
    "cur_row"
   ]
  },
  {
   "cell_type": "markdown",
   "id": "b6ac87bf-979f-4245-97ca-da6ec79b746d",
   "metadata": {},
   "source": [
    "## Searching for BCG candidates"
   ]
  },
  {
   "cell_type": "markdown",
   "id": "8f80dda2-3cf4-4dc0-9f51-6e83b9072f58",
   "metadata": {},
   "source": [
    "Optical and near-infrared wavelengths are where galaxies in general emit the most light, and thus are easiest to see and identify. You will be looking at optical images that I have taken from the 'Dark Energy Spectroscopic Instrument' (DESI) Legacy Survey, which is essentially  a set of uniformly processed observations (some were in the telescope archives from other projects, some they proposed for specifically) that they combined and analysed - this was all to identify targets for DESI (which takes optical/near-infrared *spectra* rather than the images you are looking at). They also have an [online viewer for their survey](https://www.legacysurvey.org/viewer#IC%202455) which is pretty great (if a little slow sometimes).\n",
    "\n",
    "For this task you will also be able to view the X-ray emission from the galaxy cluster itself - this is in another image to the right hand side, and is mostly there to provide some context for where the galaxy cluster is and where to start looking for the BCGs. The X-ray data are from a European Space Agency (ESA) telescope called XMM-Newton, which is particularly good for a lot of galaxy cluster work."
   ]
  },
  {
   "cell_type": "markdown",
   "id": "4f8eaed8-9884-47ed-a69c-926541ad6f3d",
   "metadata": {},
   "source": [
    "### Loading/setting up images"
   ]
  },
  {
   "cell_type": "markdown",
   "id": "4767c390-2ed3-480a-8094-78b9bc4244f0",
   "metadata": {},
   "source": [
    "#### DESI Legacy Survey (optical/near-infrared)"
   ]
  },
  {
   "cell_type": "code",
   "execution_count": 7,
   "id": "4680e824-101a-494d-9493-e75860f7a3d6",
   "metadata": {},
   "outputs": [],
   "source": [
    "desi_ls_pth = cur_history['data_operations'][cur_name]['raw_images']['desi-ls']['im_path']\n",
    "desi_ls_data = np.flip(plt.imread(desi_ls_pth), axis=0)\n",
    "\n",
    "ls_wcs = WCS(naxis=2)\n",
    "ls_cen = cur_history['data_operations'][cur_name]['raw_images']['desi-ls']['cen_pos']\n",
    "\n",
    "ls_pix_scale = cur_history['data_operations'][cur_name]['raw_images']['desi-ls']['arcsec_per_pix']\n",
    "ls_wcs.wcs.cdelt = [-1*(ls_pix_scale/3600), ls_pix_scale/3600]\n",
    "ls_wcs.wcs.crpix = [desi_ls_data.shape[0]/2, desi_ls_data.shape[1]/2]\n",
    "ls_wcs.wcs.crval = [ls_cen[0], ls_cen[1]]\n",
    "ls_wcs.wcs.ctype = ['RA---TAN', 'DEC--TAN']"
   ]
  },
  {
   "cell_type": "markdown",
   "id": "ea541d60-e517-48aa-b6c7-329b2c8b5861",
   "metadata": {},
   "source": [
    "#### XMM (X-ray)"
   ]
  },
  {
   "cell_type": "code",
   "execution_count": 8,
   "id": "47d5cfda-49ca-406d-87c9-5698481c242a",
   "metadata": {},
   "outputs": [
    {
     "ename": "FileNotFoundError",
     "evalue": "FITSIO read_header cannot open None, possibly because there is a problem with the file, it doesn't exist, or maybe an SFTP problem? This product is associated with None.",
     "output_type": "error",
     "traceback": [
      "\u001b[0;31m---------------------------------------------------------------------------\u001b[0m",
      "\u001b[0;31mOSError\u001b[0m                                   Traceback (most recent call last)",
      "File \u001b[0;32m~/code/XGA/xga/products/phot.py:202\u001b[0m, in \u001b[0;36mImage._read_wcs_on_demand\u001b[0;34m(self)\u001b[0m\n\u001b[1;32m    200\u001b[0m \u001b[38;5;28;01mtry\u001b[39;00m:\n\u001b[1;32m    201\u001b[0m     \u001b[38;5;66;03m# Reads only the header information\u001b[39;00m\n\u001b[0;32m--> 202\u001b[0m     \u001b[38;5;28mself\u001b[39m\u001b[38;5;241m.\u001b[39m_header \u001b[38;5;241m=\u001b[39m \u001b[43mread_header\u001b[49m\u001b[43m(\u001b[49m\u001b[38;5;28;43mself\u001b[39;49m\u001b[38;5;241;43m.\u001b[39;49m\u001b[43mpath\u001b[49m\u001b[43m)\u001b[49m\n\u001b[1;32m    203\u001b[0m \u001b[38;5;28;01mexcept\u001b[39;00m \u001b[38;5;167;01mOSError\u001b[39;00m:\n",
      "File \u001b[0;32m~/software/anaconda3/envs/new_xga_dev/lib/python3.12/site-packages/fitsio/fitslib.py:200\u001b[0m, in \u001b[0;36mread_header\u001b[0;34m(filename, ext, extver, case_sensitive, **keys)\u001b[0m\n\u001b[1;32m    198\u001b[0m     hdunum \u001b[38;5;241m=\u001b[39m \u001b[38;5;28;01mNone\u001b[39;00m\n\u001b[0;32m--> 200\u001b[0m _fits \u001b[38;5;241m=\u001b[39m \u001b[43m_fitsio_wrap\u001b[49m\u001b[38;5;241;43m.\u001b[39;49m\u001b[43mFITS\u001b[49m\u001b[43m(\u001b[49m\u001b[43mfilename\u001b[49m\u001b[43m,\u001b[49m\u001b[43m \u001b[49m\u001b[43mREADONLY\u001b[49m\u001b[43m,\u001b[49m\u001b[43m \u001b[49m\u001b[43mdont_create\u001b[49m\u001b[43m)\u001b[49m\n\u001b[1;32m    202\u001b[0m \u001b[38;5;28;01mif\u001b[39;00m hdunum \u001b[38;5;129;01mis\u001b[39;00m \u001b[38;5;28;01mNone\u001b[39;00m:\n",
      "\u001b[0;31mOSError\u001b[0m: FITSIO status = 104: could not open the named file\nfailed to find or open the following file: (ffopen)\nNone\n",
      "\nDuring handling of the above exception, another exception occurred:\n",
      "\u001b[0;31mFileNotFoundError\u001b[0m                         Traceback (most recent call last)",
      "Cell \u001b[0;32mIn[8], line 5\u001b[0m\n\u001b[1;32m      1\u001b[0m \u001b[38;5;66;03m# xmm_pth = cur_history['data_operations'][cur_name]['raw_images']['desi-ls']['im_path']\u001b[39;00m\n\u001b[1;32m      2\u001b[0m \u001b[38;5;66;03m# xmm_im = Image(xmm_pth, 'combined', 'combined', '', '', '', Quantity(0.5, 'keV'), Quantity(2.0, 'keV'))\u001b[39;00m\n\u001b[1;32m      4\u001b[0m xm_pth \u001b[38;5;241m=\u001b[39m \u001b[38;5;124m\"\u001b[39m\u001b[38;5;124mraw_images/\u001b[39m\u001b[38;5;132;01m{n}\u001b[39;00m\u001b[38;5;124m/xmm/\u001b[39m\u001b[38;5;132;01m{n}\u001b[39;00m\u001b[38;5;124m_0.5-2.0keV_comb.fits\u001b[39m\u001b[38;5;124m\"\u001b[39m\u001b[38;5;241m.\u001b[39mformat(n\u001b[38;5;241m=\u001b[39mcur_name)\n\u001b[0;32m----> 5\u001b[0m xmm_im \u001b[38;5;241m=\u001b[39m \u001b[43mImage\u001b[49m\u001b[43m(\u001b[49m\u001b[43mxm_pth\u001b[49m\u001b[43m,\u001b[49m\u001b[43m \u001b[49m\u001b[38;5;124;43m'\u001b[39;49m\u001b[38;5;124;43mcombined\u001b[39;49m\u001b[38;5;124;43m'\u001b[39;49m\u001b[43m,\u001b[49m\u001b[43m \u001b[49m\u001b[38;5;124;43m'\u001b[39;49m\u001b[38;5;124;43mcombined\u001b[39;49m\u001b[38;5;124;43m'\u001b[39;49m\u001b[43m,\u001b[49m\u001b[43m \u001b[49m\u001b[38;5;124;43m'\u001b[39;49m\u001b[38;5;124;43m'\u001b[39;49m\u001b[43m,\u001b[49m\u001b[43m \u001b[49m\u001b[38;5;124;43m'\u001b[39;49m\u001b[38;5;124;43m'\u001b[39;49m\u001b[43m,\u001b[49m\u001b[43m \u001b[49m\u001b[38;5;124;43m'\u001b[39;49m\u001b[38;5;124;43m'\u001b[39;49m\u001b[43m,\u001b[49m\u001b[43m \u001b[49m\u001b[43mQuantity\u001b[49m\u001b[43m(\u001b[49m\u001b[38;5;241;43m0.5\u001b[39;49m\u001b[43m,\u001b[49m\u001b[43m \u001b[49m\u001b[38;5;124;43m'\u001b[39;49m\u001b[38;5;124;43mkeV\u001b[39;49m\u001b[38;5;124;43m'\u001b[39;49m\u001b[43m)\u001b[49m\u001b[43m,\u001b[49m\u001b[43m \u001b[49m\u001b[43mQuantity\u001b[49m\u001b[43m(\u001b[49m\u001b[38;5;241;43m2.0\u001b[39;49m\u001b[43m,\u001b[49m\u001b[43m \u001b[49m\u001b[38;5;124;43m'\u001b[39;49m\u001b[38;5;124;43mkeV\u001b[39;49m\u001b[38;5;124;43m'\u001b[39;49m\u001b[43m)\u001b[49m\u001b[43m)\u001b[49m\n",
      "File \u001b[0;32m~/code/XGA/xga/products/phot.py:126\u001b[0m, in \u001b[0;36mImage.__init__\u001b[0;34m(self, path, obs_id, instrument, stdout_str, stderr_str, gen_cmd, lo_en, hi_en, regs, matched_regs, smoothed, smoothed_info, obs_inst_combs)\u001b[0m\n\u001b[1;32m    124\u001b[0m \u001b[38;5;66;03m# I want combined images to be aware of the ObsIDs and Instruments that have gone into them\u001b[39;00m\n\u001b[1;32m    125\u001b[0m \u001b[38;5;28;01mif\u001b[39;00m obs_id \u001b[38;5;241m==\u001b[39m \u001b[38;5;124m'\u001b[39m\u001b[38;5;124mcombined\u001b[39m\u001b[38;5;124m'\u001b[39m \u001b[38;5;129;01mor\u001b[39;00m instrument \u001b[38;5;241m==\u001b[39m \u001b[38;5;124m'\u001b[39m\u001b[38;5;124mcombined\u001b[39m\u001b[38;5;124m'\u001b[39m:\n\u001b[0;32m--> 126\u001b[0m     \u001b[38;5;28;01mif\u001b[39;00m \u001b[38;5;124m\"\u001b[39m\u001b[38;5;124mCREATOR\u001b[39m\u001b[38;5;124m\"\u001b[39m \u001b[38;5;129;01min\u001b[39;00m \u001b[38;5;28;43mself\u001b[39;49m\u001b[38;5;241;43m.\u001b[39;49m\u001b[43mheader\u001b[49m \u001b[38;5;129;01mand\u001b[39;00m \u001b[38;5;124m\"\u001b[39m\u001b[38;5;124memosaic\u001b[39m\u001b[38;5;124m\"\u001b[39m \u001b[38;5;129;01min\u001b[39;00m \u001b[38;5;28mself\u001b[39m\u001b[38;5;241m.\u001b[39mheader[\u001b[38;5;124m'\u001b[39m\u001b[38;5;124mCREATOR\u001b[39m\u001b[38;5;124m'\u001b[39m]:\n\u001b[1;32m    127\u001b[0m         \u001b[38;5;66;03m# We search for the instrument names of the various components\u001b[39;00m\n\u001b[1;32m    128\u001b[0m         ind_inst_hdrs \u001b[38;5;241m=\u001b[39m [h \u001b[38;5;28;01mfor\u001b[39;00m h \u001b[38;5;129;01min\u001b[39;00m \u001b[38;5;28mself\u001b[39m\u001b[38;5;241m.\u001b[39mheader \u001b[38;5;28;01mif\u001b[39;00m \u001b[38;5;124m'\u001b[39m\u001b[38;5;124mEMSCI\u001b[39m\u001b[38;5;124m'\u001b[39m \u001b[38;5;129;01min\u001b[39;00m h]\n\u001b[1;32m    129\u001b[0m         \u001b[38;5;66;03m# Then use the length of the list to find out how many components there are\u001b[39;00m\n",
      "File \u001b[0;32m~/code/XGA/xga/products/phot.py:762\u001b[0m, in \u001b[0;36mImage.header\u001b[0;34m(self)\u001b[0m\n\u001b[1;32m    755\u001b[0m \u001b[38;5;250m\u001b[39m\u001b[38;5;124;03m\"\"\"\u001b[39;00m\n\u001b[1;32m    756\u001b[0m \u001b[38;5;124;03mProperty getter allowing access to the astropy fits header object created when the image was read in.\u001b[39;00m\n\u001b[1;32m    757\u001b[0m \n\u001b[1;32m    758\u001b[0m \u001b[38;5;124;03m:return: The header of the primary data table of the image that was read in.\u001b[39;00m\n\u001b[1;32m    759\u001b[0m \u001b[38;5;124;03m:rtype: FITSHDR\u001b[39;00m\n\u001b[1;32m    760\u001b[0m \u001b[38;5;124;03m\"\"\"\u001b[39;00m\n\u001b[1;32m    761\u001b[0m \u001b[38;5;28;01mif\u001b[39;00m \u001b[38;5;28mself\u001b[39m\u001b[38;5;241m.\u001b[39m_header \u001b[38;5;129;01mis\u001b[39;00m \u001b[38;5;28;01mNone\u001b[39;00m:\n\u001b[0;32m--> 762\u001b[0m     \u001b[38;5;28;43mself\u001b[39;49m\u001b[38;5;241;43m.\u001b[39;49m\u001b[43m_read_wcs_on_demand\u001b[49m\u001b[43m(\u001b[49m\u001b[43m)\u001b[49m\n\u001b[1;32m    763\u001b[0m \u001b[38;5;28;01mreturn\u001b[39;00m \u001b[38;5;28mself\u001b[39m\u001b[38;5;241m.\u001b[39m_header\n",
      "File \u001b[0;32m~/code/XGA/xga/products/phot.py:204\u001b[0m, in \u001b[0;36mImage._read_wcs_on_demand\u001b[0;34m(self)\u001b[0m\n\u001b[1;32m    202\u001b[0m     \u001b[38;5;28mself\u001b[39m\u001b[38;5;241m.\u001b[39m_header \u001b[38;5;241m=\u001b[39m read_header(\u001b[38;5;28mself\u001b[39m\u001b[38;5;241m.\u001b[39mpath)\n\u001b[1;32m    203\u001b[0m \u001b[38;5;28;01mexcept\u001b[39;00m \u001b[38;5;167;01mOSError\u001b[39;00m:\n\u001b[0;32m--> 204\u001b[0m     \u001b[38;5;28;01mraise\u001b[39;00m \u001b[38;5;167;01mFileNotFoundError\u001b[39;00m(\u001b[38;5;124m\"\u001b[39m\u001b[38;5;124mFITSIO read_header cannot open \u001b[39m\u001b[38;5;132;01m{f}\u001b[39;00m\u001b[38;5;124m, possibly because there is a problem with \u001b[39m\u001b[38;5;124m\"\u001b[39m\n\u001b[1;32m    205\u001b[0m                             \u001b[38;5;124m\"\u001b[39m\u001b[38;5;124mthe file, it doesn\u001b[39m\u001b[38;5;124m'\u001b[39m\u001b[38;5;124mt exist, or maybe an SFTP problem? This product is associated \u001b[39m\u001b[38;5;124m\"\u001b[39m\n\u001b[1;32m    206\u001b[0m                             \u001b[38;5;124m\"\u001b[39m\u001b[38;5;124mwith \u001b[39m\u001b[38;5;132;01m{s}\u001b[39;00m\u001b[38;5;124m.\u001b[39m\u001b[38;5;124m\"\u001b[39m\u001b[38;5;241m.\u001b[39mformat(f\u001b[38;5;241m=\u001b[39m\u001b[38;5;28mself\u001b[39m\u001b[38;5;241m.\u001b[39mpath, s\u001b[38;5;241m=\u001b[39m\u001b[38;5;28mself\u001b[39m\u001b[38;5;241m.\u001b[39msrc_name))\n\u001b[1;32m    208\u001b[0m \u001b[38;5;66;03m# XMM images typically have two, both useful, so we'll find all available and store them\u001b[39;00m\n\u001b[1;32m    209\u001b[0m wcses \u001b[38;5;241m=\u001b[39m find_all_wcs(\u001b[38;5;28mself\u001b[39m\u001b[38;5;241m.\u001b[39m_header)\n",
      "\u001b[0;31mFileNotFoundError\u001b[0m: FITSIO read_header cannot open None, possibly because there is a problem with the file, it doesn't exist, or maybe an SFTP problem? This product is associated with None."
     ]
    }
   ],
   "source": [
    "# xmm_pth = cur_history['data_operations'][cur_name]['raw_images']['desi-ls']['im_path']\n",
    "# xmm_im = Image(xmm_pth, 'combined', 'combined', '', '', '', Quantity(0.5, 'keV'), Quantity(2.0, 'keV'))\n",
    "\n",
    "xm_pth = \"raw_images/{n}/xmm/{n}_0.5-2.0keV_comb.fits\".format(n=cur_name)\n",
    "xmm_im = Image(xm_pth, 'combined', 'combined', '', '', '', Quantity(0.5, 'keV'), Quantity(2.0, 'keV'))"
   ]
  },
  {
   "cell_type": "markdown",
   "id": "6e5c3e0a-f2aa-4efe-a998-cd509bea58e9",
   "metadata": {},
   "source": [
    "#### Putting the data together"
   ]
  },
  {
   "cell_type": "code",
   "execution_count": null,
   "id": "60e04766-d2a3-4fd0-a726-ddacb401fad2",
   "metadata": {},
   "outputs": [],
   "source": [
    "im_data = {'desi-ls': desi_ls_data,\n",
    "           'xmm': xmm_im.data}\n",
    "\n",
    "im_wcs = {'desi-ls': ls_wcs,\n",
    "          'xmm': xmm_im.radec_wcs}"
   ]
  },
  {
   "cell_type": "markdown",
   "id": "d1309fea-dca0-42fe-bc52-6e11b9ffcb05",
   "metadata": {},
   "source": [
    "#### Controlling how the images are displayed"
   ]
  },
  {
   "cell_type": "code",
   "execution_count": null,
   "id": "1949d236-ff9a-4a04-9a4e-4983a112e5e8",
   "metadata": {},
   "outputs": [],
   "source": [
    "im_scale = {'xmm': {}}\n",
    "im_scale['xmm']['interval'] = MinMaxInterval()\n",
    "im_scale['xmm']['stretch'] = LogStretch()\n",
    "im_scale['xmm']['cmap'] = 'gnuplot2'"
   ]
  },
  {
   "cell_type": "markdown",
   "id": "904f1f5e-f17a-4b38-a48f-1e47aec60022",
   "metadata": {},
   "source": [
    "### The identification tool"
   ]
  },
  {
   "cell_type": "markdown",
   "id": "d4fac350-2054-4670-90ac-5848ba6f0b9f",
   "metadata": {},
   "source": [
    "**This is where you have to do your task**"
   ]
  },
  {
   "cell_type": "code",
   "execution_count": null,
   "id": "7055c441-7d3e-47ea-9708-5975f80b4edb",
   "metadata": {},
   "outputs": [],
   "source": [
    "cur_im = InteractiveView(im_data, im_wcs, 'desi-ls', cur_name, im_scale=im_scale, figsize=(10, 5))"
   ]
  }
 ],
 "metadata": {
  "kernelspec": {
   "display_name": "Python 3 (ipykernel)",
   "language": "python",
   "name": "python3"
  },
  "language_info": {
   "codemirror_mode": {
    "name": "ipython",
    "version": 3
   },
   "file_extension": ".py",
   "mimetype": "text/x-python",
   "name": "python",
   "nbconvert_exporter": "python",
   "pygments_lexer": "ipython3",
   "version": "3.12.4"
  }
 },
 "nbformat": 4,
 "nbformat_minor": 5
}
