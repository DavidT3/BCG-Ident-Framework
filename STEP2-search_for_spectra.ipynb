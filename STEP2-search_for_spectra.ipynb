{
 "cells": [
  {
   "cell_type": "markdown",
   "id": "f23f8111-6ddd-406f-93c3-c9550012138f",
   "metadata": {},
   "source": [
    "# Notebook **Two** - Searching for spectroscopic observations of BCG candidates"
   ]
  },
  {
   "cell_type": "markdown",
   "id": "427ffca7-15d3-4978-97a1-e6b2314dd03f",
   "metadata": {},
   "source": [
    "This notebook contains everything necessary for you to work on the second step of this project - searching for spectroscopic observations of the **BCG candidates** that you identified in the first step. We have a lot of large surveys made up of photometric data **-** images taken with different filters that block light unless it is within a particular wavelength range **-** but as spectroscopic observations have to be targeted at specific objects, and generally exposed for longer, they are less common. \n",
    "\n",
    "On the other hand, there have been some large surveys that took spectra of many galaxies - we will be searching these to see if we can identify observations of the BCG candidates that you identified. Having a spectrum of an object lets us take a much more detailed look at exactly what physical processes are going on inside it, and they also provide very reliable redshift measurements - confirming the redshift of a galaxy cluster from a spectrum of its BCG makes you much more confident that the properties you measure for the overall cluster are correct.\n",
    " \n",
    "**Galaxy clusters** are single, gravitationally bound, objects made up of a **lot** of dark matter, quite a lot of hot gas (which is what emits X-rays), and the galaxies themselves (there are other components, but they don't matter right now).\n",
    "\n",
    "**A BCG** is the most massive, brightest, galaxy in a cluster (though there can be multiple BCGs, or no obvious BCG at all).\n",
    "\n",
    "**What will we get out of this stage of the project?**\n",
    "\n",
    "* Spectroscopic redshifts for our BCG candidates, which are much more accurate and trustworthy than 'photometric' redshifts (though photometric methods have the significant advantage of being measurable from very large surveys of the sky, spectroscopic redshifts are much more observationally expensive).\n",
    "* From those BCG candidate spectroscopic redshifts, we have a much more reliable idea of the redshift of the galaxy cluster as a whole.\n",
    "* This lets us very easily search for nearby galaxies at very similar redshifts (i.e. members of the cluster!) - the miniscule differences in member galaxy spectroscopic redshifts to BCG redshifts let us measure the member galaxy velocity dispersion ($\\sigma_{\\nu}$), which traces the gravitational potential of the cluster!\n",
    "* Spectra also tell us about the galaxies themselves - for the BCGs we should be able to constrain a **different** velocity dispersion, that of the stars in the galaxy (stellar velocity dispersion), which tells us about the mass of the BCGs.\n",
    "* We can also try to constrain the age and mass of the stellar populations in the galaxies.\n",
    "* Finally, optical spectra can help an uncommon type of BCG with strong emission lines - these emission lines are not always seen in elliptical galaxies, and indicate either strong star formation or an active central super-massive black hole!"
   ]
  },
  {
   "cell_type": "markdown",
   "id": "5b742bfb-f526-4857-8b36-48879cde035e",
   "metadata": {},
   "source": [
    "## Import statements and reading history/sample"
   ]
  },
  {
   "cell_type": "code",
   "execution_count": 1,
   "id": "76892a20-1408-4d7e-b7ce-4ca85b690f06",
   "metadata": {},
   "outputs": [
    {
     "name": "stderr",
     "output_type": "stream",
     "text": [
      "/Users/dt237/code/XGA/xga/utils.py:39: DeprecationWarning: The XGA 'find_all_wcs' function should be imported from imagetools.misc, in the future it will be removed from utils.\n",
      "  warn(message, DeprecationWarning)\n",
      "/Users/dt237/code/XGA/xga/__init__.py:6: UserWarning: No CIAO installation detected on system, as such all functions in xga.generate.ciao will not work.\n",
      "  from .utils import xga_conf, CENSUS, OUTPUT, NUM_CORES, XGA_EXTRACT, BASE_XSPEC_SCRIPT, MODEL_PARS, MODEL_UNITS, \\\n",
      "/Users/dt237/software/anaconda3/envs/riley-bcg/lib/python3.12/site-packages/xarray/core/nputils.py:20: DeprecationWarning: numpy.core.multiarray is deprecated and has been renamed to numpy._core.multiarray. The numpy._core namespace contains private NumPy internals and its use is discouraged, as NumPy internals can change without warning in any release. In practice, most real-world usage of numpy.core is to access functionality in the public NumPy API. If that is the case, use the public NumPy API. If not, you are using NumPy internals. If you would still like to access an internal attribute, use numpy._core.multiarray.normalize_axis_index.\n",
      "  from numpy.core.multiarray import (  # type: ignore[attr-defined,no-redef,unused-ignore]\n",
      "/Users/dt237/software/anaconda3/envs/riley-bcg/lib/python3.12/site-packages/xarray/core/duck_array_ops.py:42: DeprecationWarning: numpy.core.multiarray is deprecated and has been renamed to numpy._core.multiarray. The numpy._core namespace contains private NumPy internals and its use is discouraged, as NumPy internals can change without warning in any release. In practice, most real-world usage of numpy.core is to access functionality in the public NumPy API. If that is the case, use the public NumPy API. If not, you are using NumPy internals. If you would still like to access an internal attribute, use numpy._core.multiarray.normalize_axis_index.\n",
      "  from numpy.core.multiarray import (  # type: ignore[attr-defined,no-redef,unused-ignore]\n"
     ]
    }
   ],
   "source": [
    "%matplotlib ipympl\n",
    "\n",
    "from ident_run_setup import cosmo, side_length, HISTORY_FILE_PATH, load_history, proj_name, update_history\n",
    "from interactive_spec_search import SpecSearch\n",
    "\n",
    "from xga.products import Image\n",
    "\n",
    "from astropy.wcs import WCS\n",
    "from astropy.units import Quantity\n",
    "from astropy.visualization import MinMaxInterval, LogStretch\n",
    "from astropy.coordinates import SkyCoord\n",
    "import matplotlib\n",
    "from matplotlib import pyplot as plt\n",
    "# from matplotlib_scalebar.scalebar import ScaleBar\n",
    "from matplotlib.colors import LinearSegmentedColormap\n",
    "import numpy as np\n",
    "import pandas as pd\n",
    "pd.set_option('display.max_columns', 500)\n",
    "\n",
    "%matplotlib ipympl"
   ]
  },
  {
   "cell_type": "markdown",
   "id": "1e725458-5b11-4e02-a369-cbaf41fda28f",
   "metadata": {},
   "source": [
    "The framework I've designed for this process (i.e. these notebooks) is trying to keep a useful history of the process - it has recorded the images that we were able to download or generate, and the BCG candidates you identified - here it will be keeping a record of the spectra you think are associated with each BCG candidate.\n",
    "\n",
    "**This step will NOT produce an output csv file, as it isn't really a good format to store these results in (each BCG candidate can have multiple spectra, which doesn't really work in the 2D data storage of a csv) - as such to backup these results you should download the 'bcg_ident_proj_save.json' file, which is in the history directory.** "
   ]
  },
  {
   "cell_type": "code",
   "execution_count": 2,
   "id": "c2770343-0500-4177-969d-dd1a45f84931",
   "metadata": {},
   "outputs": [],
   "source": [
    "cur_history = load_history()"
   ]
  },
  {
   "cell_type": "markdown",
   "id": "08325639-a23a-48be-bd6c-4b54eb055b9c",
   "metadata": {},
   "source": [
    "We read the base **galaxy cluster** sample file into a Pandas dataframe:"
   ]
  },
  {
   "cell_type": "code",
   "execution_count": 3,
   "id": "6e09ab30-a18d-4a57-ba17-be858a8994d5",
   "metadata": {},
   "outputs": [
    {
     "data": {
      "text/html": [
       "<div>\n",
       "<style scoped>\n",
       "    .dataframe tbody tr th:only-of-type {\n",
       "        vertical-align: middle;\n",
       "    }\n",
       "\n",
       "    .dataframe tbody tr th {\n",
       "        vertical-align: top;\n",
       "    }\n",
       "\n",
       "    .dataframe thead th {\n",
       "        text-align: right;\n",
       "    }\n",
       "</style>\n",
       "<table border=\"1\" class=\"dataframe\">\n",
       "  <thead>\n",
       "    <tr style=\"text-align: right;\">\n",
       "      <th></th>\n",
       "      <th>name</th>\n",
       "      <th>cent_im_ra</th>\n",
       "      <th>cent_im_dec</th>\n",
       "      <th>redshift</th>\n",
       "      <th>r500</th>\n",
       "      <th>r500-</th>\n",
       "      <th>r500+</th>\n",
       "      <th>r2500</th>\n",
       "      <th>r2500-</th>\n",
       "      <th>r2500+</th>\n",
       "      <th>XCS_NAME</th>\n",
       "      <th>ang_prop_ratio</th>\n",
       "    </tr>\n",
       "  </thead>\n",
       "  <tbody>\n",
       "    <tr>\n",
       "      <th>0</th>\n",
       "      <td>SDSSXCS-124</td>\n",
       "      <td>0.800578</td>\n",
       "      <td>-6.091818</td>\n",
       "      <td>0.247483</td>\n",
       "      <td>1181.028159</td>\n",
       "      <td>21.202221</td>\n",
       "      <td>23.202641</td>\n",
       "      <td>534.834740</td>\n",
       "      <td>7.579124</td>\n",
       "      <td>7.591855</td>\n",
       "      <td>XMMXCS J000312.1-060530.5</td>\n",
       "      <td>232.859967</td>\n",
       "    </tr>\n",
       "    <tr>\n",
       "      <th>1</th>\n",
       "      <td>SDSSXCS-2789</td>\n",
       "      <td>0.955540</td>\n",
       "      <td>2.068019</td>\n",
       "      <td>0.105285</td>\n",
       "      <td>1007.860978</td>\n",
       "      <td>17.194150</td>\n",
       "      <td>17.201505</td>\n",
       "      <td>438.706515</td>\n",
       "      <td>5.198301</td>\n",
       "      <td>5.213676</td>\n",
       "      <td>XMMXCS J000349.3+020404.8</td>\n",
       "      <td>115.802997</td>\n",
       "    </tr>\n",
       "  </tbody>\n",
       "</table>\n",
       "</div>"
      ],
      "text/plain": [
       "           name  cent_im_ra  cent_im_dec  redshift         r500      r500-  \\\n",
       "0   SDSSXCS-124    0.800578    -6.091818  0.247483  1181.028159  21.202221   \n",
       "1  SDSSXCS-2789    0.955540     2.068019  0.105285  1007.860978  17.194150   \n",
       "\n",
       "       r500+       r2500    r2500-    r2500+                   XCS_NAME  \\\n",
       "0  23.202641  534.834740  7.579124  7.591855  XMMXCS J000312.1-060530.5   \n",
       "1  17.201505  438.706515  5.198301  5.213676  XMMXCS J000349.3+020404.8   \n",
       "\n",
       "   ang_prop_ratio  \n",
       "0      232.859967  \n",
       "1      115.802997  "
      ]
     },
     "execution_count": 3,
     "metadata": {},
     "output_type": "execute_result"
    }
   ],
   "source": [
    "# This reads the 'comma separated variable', or CSV/csv, file (which contains information about the sample of clusters\n",
    "#  being investigated), from disk (on the hard-disk drive\\HDD, or solid state disk\\SSD) into memory (a much faster form of storage \n",
    "#  called Random Access Memory\\RAM, where files being used by the operating system or currently running software live). We are using \n",
    "#  a Python module called 'Pandas' to read it in - think of it almost like a Python version of Excel\n",
    "samp = pd.read_csv(cur_history['static_samp_file'])\n",
    "# This method shows the top two lines of the loaded-in sample file\n",
    "samp.head(2)"
   ]
  },
  {
   "cell_type": "markdown",
   "id": "1c304c7e-22d7-4391-9fd7-0cef94dd7177",
   "metadata": {},
   "source": [
    "All cluster names:"
   ]
  },
  {
   "cell_type": "code",
   "execution_count": 4,
   "id": "b520b413-d7ae-4698-906e-1bbc125b4e52",
   "metadata": {},
   "outputs": [
    {
     "name": "stdout",
     "output_type": "stream",
     "text": [
      "['SDSSXCS-124', 'SDSSXCS-2789', 'SDSSXCS-290', 'SDSSXCS-1018', 'SDSSXCS-134', 'SDSSXCS-119', 'SDSSXCS-209', 'SDSSXCS-15', 'SDSSXCS-71', 'SDSSXCS-5020', 'SDSSXCS-2346', 'SDSSXCS-586', 'SDSSXCS-11331', 'SDSSXCS-28849', 'SDSSXCS-31144', 'SDSSXCS-239', 'SDSSXCS-395', 'SDSSXCS-944', 'SDSSXCS-593', 'SDSSXCS-35404', 'SDSSXCS-7190', 'SDSSXCS-7783', 'SDSSXCS-5743', 'SDSSXCS-1131', 'SDSSXCS-29799', 'SDSSXCS-852', 'SDSSXCS-5830', 'SDSSXCS-5977', 'SDSSXCS-16227', 'SDSSXCS-2984', 'SDSSXCS-6955', 'SDSSXCS-64824', 'SDSSXCS-8366', 'SDSSXCS-120', 'SDSSXCS-572', 'SDSSXCS-226', 'SDSSXCS-22', 'SDSSXCS-103', 'SDSSXCS-212', 'SDSSXCS-19922', 'SDSSXCS-890', 'SDSSXCS-31', 'SDSSXCS-325', 'SDSSXCS-26424', 'SDSSXCS-5159', 'SDSSXCS-9803', 'SDSSXCS-1884', 'SDSSXCS-5', 'SDSSXCS-13', 'SDSSXCS-5225', 'SDSSXCS-21', 'SDSSXCS-23', 'SDSSXCS-617', 'SDSSXCS-6245', 'SDSSXCS-21847', 'SDSSXCS-22748', 'SDSSXCS-9', 'SDSSXCS-8060', 'SDSSXCS-15984', 'SDSSXCS-75', 'SDSSXCS-667', 'SDSSXCS-9258', 'SDSSXCS-1628', 'SDSSXCS-7405', 'SDSSXCS-47', 'SDSSXCS-7416', 'SDSSXCS-2588', 'SDSSXCS-298', 'SDSSXCS-10897', 'SDSSXCS-3746', 'SDSSXCS-189', 'SDSSXCS-4245', 'SDSSXCS-408', 'SDSSXCS-10401', 'SDSSXCS-58896', 'SDSSXCS-474', 'SDSSXCS-7247', 'SDSSXCS-19467', 'SDSSXCS-455', 'SDSSXCS-1174', 'SDSSXCS-608', 'SDSSXCS-1645', 'SDSSXCS-225', 'SDSSXCS-9313', 'SDSSXCS-286', 'SDSSXCS-2347', 'SDSSXCS-28269', 'SDSSXCS-6307', 'SDSSXCS-241', 'SDSSXCS-893', 'SDSSXCS-7432', 'SDSSXCS-11613', 'SDSSXCS-3', 'SDSSXCS-5939', 'SDSSXCS-11881', 'SDSSXCS-11394', 'SDSSXCS-907', 'SDSSXCS-14715', 'SDSSXCS-309', 'SDSSXCS-457', 'SDSSXCS-35', 'SDSSXCS-6', 'SDSSXCS-176', 'SDSSXCS-3672', 'SDSSXCS-43', 'SDSSXCS-32', 'SDSSXCS-16286', 'SDSSXCS-5527', 'SDSSXCS-4313', 'SDSSXCS-574', 'SDSSXCS-65', 'SDSSXCS-165', 'SDSSXCS-4003', 'SDSSXCS-2836', 'SDSSXCS-210', 'SDSSXCS-2288', 'SDSSXCS-78', 'SDSSXCS-55', 'SDSSXCS-137', 'SDSSXCS-123', 'SDSSXCS-382', 'SDSSXCS-2282', 'SDSSXCS-5624', 'SDSSXCS-19', 'SDSSXCS-3312', 'SDSSXCS-575', 'SDSSXCS-2', 'SDSSXCS-30950', 'SDSSXCS-480', 'SDSSXCS-14', 'SDSSXCS-1137', 'SDSSXCS-487', 'SDSSXCS-155', 'SDSSXCS-2032', 'SDSSXCS-10223', 'SDSSXCS-29', 'SDSSXCS-110', 'SDSSXCS-913', 'SDSSXCS-62', 'SDSSXCS-236', 'SDSSXCS-765', 'SDSSXCS-51', 'SDSSXCS-41', 'SDSSXCS-34', 'SDSSXCS-11154', 'SDSSXCS-2092', 'SDSSXCS-17923', 'SDSSXCS-68', 'SDSSXCS-147', 'SDSSXCS-314']\n"
     ]
    }
   ],
   "source": [
    "print(list(samp['name'].values))"
   ]
  },
  {
   "cell_type": "markdown",
   "id": "06bbf5bb-8ef3-45b2-9c0c-20f2398b21c3",
   "metadata": {},
   "source": [
    "## A CAVEAT"
   ]
  },
  {
   "cell_type": "markdown",
   "id": "2e7cf44c-a183-41b9-bfba-efefae4b2361",
   "metadata": {},
   "source": [
    "For technical reasons that I won't explain here, the only to get this interactive plot process working in Jupyter Notebooks (in its current form at least) is to run the notebook for one cluster, then restart it and run it again for the next, and so on.\n",
    "\n",
    "This stepping through of clusters will happen automatically - once the project history has entries for BCG candidate spectra from your investigation, the next time the notebook is run it will move on to the next cluster whose BCG candidates don't have spectra. If you want to go back to a specific cluster and overwrite your first attempt, you can set the variable below to the cluster name (e.g. 'SDSSXCS-124', make sure the name is a string with the '' around it) - **before you run the notebook again, make sure to set `overwrite_cluster=None`, and note that None doesn't have any '' around it, as it is not a string**"
   ]
  },
  {
   "cell_type": "code",
   "execution_count": 5,
   "id": "8718b524-d6ee-440b-8d16-f9592edc652e",
   "metadata": {},
   "outputs": [],
   "source": [
    "# You can change this per the instructions above\n",
    "overwrite_cluster = None\n",
    "\n",
    "# Don't change this though\n",
    "if overwrite_cluster is not None and overwrite_cluster not in samp['name'].values:\n",
    "    raise ValueError(\"The overwriting cluster name you set does not correspond to a name in the sample, check \"\\\n",
    "                     \"to make sure you typed it correctly!\")\n",
    "\n",
    "# Also don't change this, which I can set to make the automatic next cluster selection start from a \n",
    "#  particular point, rather than the beginning\n",
    "start_cluster = None"
   ]
  },
  {
   "cell_type": "markdown",
   "id": "f6efa6ad-a97f-462a-9dd3-2c64b477d43b",
   "metadata": {},
   "source": [
    "Here we identify the next cluster that doesn't have any recorded spectroscopic searches for candidate BCGs, which will be the next one you'll work on - this makes use of the 'history' that is being written as you go through the sample."
   ]
  },
  {
   "cell_type": "code",
   "execution_count": 6,
   "id": "08d34035-e53a-42a6-96b4-0d792fb99107",
   "metadata": {},
   "outputs": [
    {
     "name": "stdout",
     "output_type": "stream",
     "text": [
      "BCG candidate spectrum identification is 11.33% complete.\n"
     ]
    },
    {
     "ename": "ValueError",
     "evalue": "This tool cannot be run for a cluster (SDSSXCS-944) without identified BCG candidates.",
     "output_type": "error",
     "traceback": [
      "\u001b[0;31m---------------------------------------------------------------------------\u001b[0m",
      "\u001b[0;31mValueError\u001b[0m                                Traceback (most recent call last)",
      "Cell \u001b[0;32mIn[6], line 37\u001b[0m\n\u001b[1;32m     35\u001b[0m cur_row \u001b[38;5;241m=\u001b[39m samp[samp[\u001b[38;5;124m'\u001b[39m\u001b[38;5;124mname\u001b[39m\u001b[38;5;124m'\u001b[39m] \u001b[38;5;241m==\u001b[39m cur_name]\u001b[38;5;241m.\u001b[39miloc[\u001b[38;5;241m0\u001b[39m]\n\u001b[1;32m     36\u001b[0m \u001b[38;5;28;01mif\u001b[39;00m \u001b[38;5;129;01mnot\u001b[39;00m og_ident_comp_df\u001b[38;5;241m.\u001b[39mloc[cur_name][\u001b[38;5;124m'\u001b[39m\u001b[38;5;124mbcg_cand_ident_complete\u001b[39m\u001b[38;5;124m'\u001b[39m]:\n\u001b[0;32m---> 37\u001b[0m     \u001b[38;5;28;01mraise\u001b[39;00m \u001b[38;5;167;01mValueError\u001b[39;00m(\u001b[38;5;124m\"\u001b[39m\u001b[38;5;124mThis tool cannot be run for a cluster (\u001b[39m\u001b[38;5;132;01m{n}\u001b[39;00m\u001b[38;5;124m) without identified BCG candidates.\u001b[39m\u001b[38;5;124m\"\u001b[39m\u001b[38;5;241m.\u001b[39mformat(n\u001b[38;5;241m=\u001b[39mcur_name))\n\u001b[1;32m     39\u001b[0m cur_row\n",
      "\u001b[0;31mValueError\u001b[0m: This tool cannot be run for a cluster (SDSSXCS-944) without identified BCG candidates."
     ]
    }
   ],
   "source": [
    "# Here we use the 'complete' flag stored in the BCG candidate spectrum history to measure the number of clusters\n",
    "#  for which the BCG candidate process is complete\n",
    "# A bit of a silly step to just extract the 'ident_complete' info from the dictionaries of particular clusters, but have to be\n",
    "#  careful as they could have other entries (like BCG info for instance)\n",
    "just_complete = {n: {'bcg_cand_ident_complete': cur_history['bcg_identification'][n]['ident_complete'],\n",
    "                     'spec_ident_complete': cur_history['bcg_spec_identification'][n]['ident_complete']} \n",
    "                 for n in cur_history['bcg_spec_identification']}\n",
    "# Also consider any cluster marked as having no BCG candidates completed so far as spectrum identification\n",
    "for n in just_complete:\n",
    "    if 'no_bcg' in cur_history['bcg_identification'][n] and cur_history['bcg_identification'][n]['no_bcg']:\n",
    "        just_complete[n]['spec_ident_complete'] = True\n",
    "\n",
    "ident_comp_df = pd.DataFrame(just_complete).T\n",
    "# This dataframe may be modified, so we make a copy of the original for safety\n",
    "og_ident_comp_df = ident_comp_df.copy()\n",
    "num_bcg_comp = ident_comp_df['spec_ident_complete'].sum()\n",
    "\n",
    "# Show a quick progress update on identifying the BCG spectra\n",
    "print('BCG candidate spectrum identification is {p}% complete.'.format(p=round((num_bcg_comp/cur_history['num_clusters'])*100, 2)))\n",
    "\n",
    "# If the notebook has been configured to start the iteration process at a cluster other than the first, we \n",
    "#  have to account for that\n",
    "if start_cluster is not None:\n",
    "    new_start_ind = np.argwhere(ident_comp_df.index == start_cluster)[0][0]\n",
    "    ident_comp_df = ident_comp_df[np.arange(0, len(ident_comp_df)) >= new_start_ind]\n",
    "\n",
    "if overwrite_cluster is None:\n",
    "    # Finds the first cluster with a 'False' value in the 'ident_complete' column - though only if you haven't\n",
    "    #  set an overwriting cluster name above\n",
    "    cur_name = ident_comp_df.loc[~ident_comp_df['spec_ident_complete']].index[0]\n",
    "else:\n",
    "    cur_name = overwrite_cluster\n",
    "\n",
    "# Now we read out the relevant row of the sample table\n",
    "cur_row = samp[samp['name'] == cur_name].iloc[0]\n",
    "if not og_ident_comp_df.loc[cur_name]['bcg_cand_ident_complete']:\n",
    "    raise ValueError(\"This tool cannot be run for a cluster ({n}) without identified BCG candidates.\".format(n=cur_name))\n",
    "\n",
    "cur_row"
   ]
  },
  {
   "cell_type": "markdown",
   "id": "a3745846-bc0e-473f-a027-b93409a35eed",
   "metadata": {},
   "source": [
    "## Searching for spectroscopic observations of BCG candidates"
   ]
  },
  {
   "cell_type": "markdown",
   "id": "2838ed8f-6d59-4715-a1d7-c632b78fd30e",
   "metadata": {},
   "source": [
    "Having spectroscopic data for a given object is much less common than having a photometric observation - primarily because photometric data (i.e. images) can be easily taken at scale, for large swathes of the sky. In fact, surveys over the last thirty years (and before that) have been doing just that, and we can now reasonably expect that there will be some image taken of most nearby (which clusters generally are, relatively speaking) objects that we might be interested in.\n",
    "\n",
    "Spectroscopic observations, on the other hand, have to be targeted at specific objects, and require more complex (in some ways) instruments than photometric observations. They also have to be exposed for longer, which slows down the rate at which you can take spectroscopic data for large samples of objects. As such, while large photometric surveys detect hundreds of millions of stars and galaxies, there are 'only' of order 20 million spectra available (SDSS for instance, identified ~230 million objects photometrically, and got spectra for ~4 million of them). \n",
    "\n",
    "Still, you are going to use the relatively large spectroscopic surveys that are available to try and find spectra of the BCG candidates. Specifically, this tool can currently search for spectra from:\n",
    "\n",
    "* 6dF\n",
    "* 2dF\n",
    "* SDSS\n",
    "* eBOSS\n",
    "* Hectospec\n",
    "* LAMOST\n",
    "* GAMA\n",
    "* FAST\n",
    "* DESI DR1\n",
    "\n",
    "These surveys take/took spectra of different qualities, and not all will be suitable for some of the analyses we wish to perform - **however** they will all give us relatively reliable redshifts.\n",
    "\n",
    "\n",
    "**What will you be doing?**\n",
    "\n",
    "1. Previously identified BCG candidates are indicated with a large-ish white pentagon - **if you identified multiple candidates, only one will be shown on the image at once.**\n",
    "2. Spectra of objects within the image you are shown are indicated with circles of different colors - the legend at the bottom of the left-hand axis matches those colors to the survey each spectrum was taken from. **The radius of these circles does not represent the portion of sky that was observed for the spectrum**.\n",
    "3. **Your job is to identify whether the galaxies you identified as BCG candidates have spectroscopic data**.\n",
    "4. You should do this by using the zoom button on the plot's toolbar, and seeing if there are any circles centered on the BCG candidates you identified - **be aware that there might be slightly overlapping spectra indicated by circles that are very nearby, but clearly centered on another object - we _don't_ want to select those.**\n",
    "5. Not all of the candidates will have spectral observations! We'll come back to this later on.\n",
    "6. If you think you have identified a spectrum for a candidate, click on the circle (it is possible that there are multiple spectra from different surveys, and sometimes all the circles are on top of each other - **when you click you will select all spectra with circles that overlap _where_ you click**).\n",
    "7. Selecting a spectrum (or spectra) will cause it to be plotted on the right-hand axis - **this may take a second, as they have to be downloaded - be patient!**. If there are multiple spectra, don't be too alarmed if the normalisation of (e.g. the y-axis values) are quite different from one another. In those cases you may need to use the toolbar zoom tool on the spectrum axis to be able to see the shape of some spectra.\n",
    "8. Examine the spectrum plots and see if they look at all like the BCG spectra you've already seen - **make a note if they look strange to you, particularly if there are strong emission lines, those ones are interesting!** You may notice that some spectra look bad (i.e. they are jumping up and down in flux values without looking like a spectrum) at the lowest and highest wavelengths - that generally means that the observation quality is low, but they should still be useful.\n",
    "9. Once you're happy that that you have identified spectroscopic data of the candidate (and you think the spectrum looks consistent with a BCG), you can click the save button. The white pentagon highlighting the BCG candidate should disappear, and if there is another candidate the pentagon will have moved there (you may need to hit the home button on the toolbar to see the whole image again). If there are no more candidates, a message will be displayed at the top of the tool.\n",
    "10. **If you didn't find any spectra for a BCG candidate, hit the exclamation mark button in the toolbar, and that information will be recorded.** Also, if you have accidentally hit save at any point, you can click the refresh button in the toolbar, and that will wipe the stored information for the current __cluster__.\n",
    "\n",
    "***After each session (not after every cluster) of identifying BCG candidate spectra you should back-up the project history save file (a .json) in the history directory.***"
   ]
  },
  {
   "cell_type": "markdown",
   "id": "5f4319b8-a71b-47a2-a006-46513e28ca19",
   "metadata": {},
   "source": [
    "### Loading/setting up images"
   ]
  },
  {
   "cell_type": "markdown",
   "id": "81d0e20c-0fb5-4fb5-9ef9-a77380d8cd16",
   "metadata": {},
   "source": [
    "#### DESI Legacy Survey (optical/near-infrared)"
   ]
  },
  {
   "cell_type": "code",
   "execution_count": null,
   "id": "c5667f34-9df2-41ab-85c3-cdce3cf9de5d",
   "metadata": {},
   "outputs": [],
   "source": [
    "desi_ls_pth = cur_history['data_operations'][cur_name]['raw_images']['desi-ls']['im_path']\n",
    "desi_ls_data = np.flip(plt.imread(desi_ls_pth), axis=0)\n",
    "\n",
    "ls_wcs = WCS(naxis=2)\n",
    "ls_cen = cur_history['data_operations'][cur_name]['raw_images']['desi-ls']['cen_pos']\n",
    "\n",
    "ls_pix_scale = cur_history['data_operations'][cur_name]['raw_images']['desi-ls']['arcsec_per_pix']\n",
    "ls_wcs.wcs.cdelt = [-1*(ls_pix_scale/3600), ls_pix_scale/3600]\n",
    "ls_wcs.wcs.crpix = [desi_ls_data.shape[0]/2, desi_ls_data.shape[1]/2]\n",
    "ls_wcs.wcs.crval = [ls_cen[0], ls_cen[1]]\n",
    "ls_wcs.wcs.ctype = ['RA---TAN', 'DEC--TAN']"
   ]
  },
  {
   "cell_type": "code",
   "execution_count": null,
   "id": "5ce292cd-f694-4077-bf84-35d0bae09333",
   "metadata": {},
   "outputs": [],
   "source": [
    "cand_coords = [Quantity(cc['desi-ls_pos'], 'deg') for n, cc in cur_history['bcg_identification'][cur_name].items() \n",
    "               if 'BCG' in n]\n",
    "cand_coords"
   ]
  },
  {
   "cell_type": "code",
   "execution_count": null,
   "id": "941f7810-fed3-47e8-88d6-5ba7bae0526b",
   "metadata": {},
   "outputs": [],
   "source": [
    "im_data = {'desi-ls': desi_ls_data}\n",
    "im_wcs = {'desi-ls': ls_wcs}"
   ]
  },
  {
   "cell_type": "code",
   "execution_count": null,
   "id": "40aa98e1-32ec-4724-98a7-ffded9af5fe6",
   "metadata": {},
   "outputs": [],
   "source": [
    "cur_sp = SpecSearch(im_data, im_wcs, 'desi-ls', cur_name, cand_coords, figsize=(11, 6), im_spec_ratio=[1, 1.3], \n",
    "                    default_smooth_spec=5)"
   ]
  }
 ],
 "metadata": {
  "kernelspec": {
   "display_name": "Python 3 (ipykernel)",
   "language": "python",
   "name": "python3"
  },
  "language_info": {
   "codemirror_mode": {
    "name": "ipython",
    "version": 3
   },
   "file_extension": ".py",
   "mimetype": "text/x-python",
   "name": "python",
   "nbconvert_exporter": "python",
   "pygments_lexer": "ipython3",
   "version": "3.12.8"
  }
 },
 "nbformat": 4,
 "nbformat_minor": 5
}
