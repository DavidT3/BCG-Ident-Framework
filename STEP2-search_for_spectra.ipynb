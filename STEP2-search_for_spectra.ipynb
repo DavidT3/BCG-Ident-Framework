{
 "cells": [
  {
   "cell_type": "code",
   "execution_count": null,
   "id": "fd550241-24cb-43fe-b257-52989a9eb0a3",
   "metadata": {},
   "outputs": [],
   "source": []
  },
  {
   "cell_type": "code",
   "execution_count": null,
   "id": "12cf7c1e-e21f-4613-8180-74c0967954a2",
   "metadata": {},
   "outputs": [],
   "source": [
    "import requests\n",
    "import io\n",
    "\n",
    "test_url = 'https://api.dev-rcsed2.voxastro.org/spec/list/download/?q=cone(0.800578,%20-6.091818,%200.2)&resolver=param&fmt=csv'\n",
    "with requests.get(test_url, stream=True) as urlo:\n",
    "    # This opens the data as using the astropy fits interface (using io.BytesIO() to stream it into memory\n",
    "    #  first so that fits.open can access it as an already opened file handler).\n",
    "    # with fits.open(io.BytesIO(urlo.content)) as full_fits:\n",
    "    with io.BytesIO(urlo.content) as rcsed_search_cont:\n",
    "        rcsed_res = pd.read_csv(rcsed_search_cont)\n",
    "        "
   ]
  }
 ],
 "metadata": {
  "kernelspec": {
   "display_name": "Python 3 (ipykernel)",
   "language": "python",
   "name": "python3"
  },
  "language_info": {
   "codemirror_mode": {
    "name": "ipython",
    "version": 3
   },
   "file_extension": ".py",
   "mimetype": "text/x-python",
   "name": "python",
   "nbconvert_exporter": "python",
   "pygments_lexer": "ipython3",
   "version": "3.12.4"
  }
 },
 "nbformat": 4,
 "nbformat_minor": 5
}
